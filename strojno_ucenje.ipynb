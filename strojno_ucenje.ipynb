{
 "cells": [
  {
   "cell_type": "markdown",
   "metadata": {},
   "source": [
    "# Uvod u nadzirano strojno učenje \n",
    "\n"
   ]
  },
  {
   "cell_type": "markdown",
   "metadata": {},
   "source": [
    "### Što je strojno učenje?\n",
    "Arthur Samuel je opisao strojno učenje kao sposobnost računala da uči bez da je eksplicitno programirano. \n",
    "Novija i prihvaćenija definicija je ona Toma Mitchella: <br>\n",
    "    Kažemo da program uči zadatak T kroz iskustvo E ako se njegova perfomansa P u izvođenju zadatka T poboljšava s rastom iskustva E. <br>\n",
    "Primjer: igranje šaha <br>\n",
    "    E = iskustvo stečeno kroz igranje mnogo partija šaha <br>\n",
    "    T = igranje šaha <br>\n",
    "    P = vjerojatnost da će program pobijediti iduću partiju šaha <br>"
   ]
  },
  {
   "cell_type": "markdown",
   "metadata": {},
   "source": [
    "Osnovna podjela: \n",
    "    1. nadzirano učenje - klasifikacija i regresija\n",
    "    2. nenadzirano učenje - grupiranje i smanjenje dimenzionalnosti"
   ]
  },
  {
   "cell_type": "markdown",
   "metadata": {},
   "source": [
    "### Primjeri strojnog učenja koji utječu na svakodnevicu"
   ]
  },
  {
   "cell_type": "markdown",
   "metadata": {},
   "source": [
    "-SIRI koristi principe strojnog učenja i drugih tehnologija za imitaciju ljudskih reakcija <br>\n",
    "-FACEBOOK koristi impresivnu tehnologiju kako bi predložio korisnicima koga trebaju *taggirati* na slikama <br>\n",
    "-GOOGLE MAPS analizira brzinu u prometu koristeći anonimne lokacijske usluge s mobitela i tako predlaže najbržu rutu <br>\n",
    "-GMAIL klasificira mailove, ali nedavno su predstavili i sustav koji automatski predlaže tri odgovora na mail <br>\n",
    "-NETFLIX-u je strojno učenje nužno za prijedloge serija i filmova <br>\n",
    "-UBER kroz strujno učenje procijenjuje brzinu dolaska na odredište <br>\n"
   ]
  },
  {
   "cell_type": "markdown",
   "metadata": {},
   "source": [
    "U ovom radu bavit ću se linearnom i logističkom regresijom iz perspektive nadziranog strojnog učenja.\n",
    "<br>U nadziranom učenju dani su nam podaci na temelju kojih predviđamo *output*. Postoje dvije, već navedene, kategorije - klasifikacija i regresija. <br>\n",
    "    Klasifikaciju koristimo ako je _output_ **y** diskretna varijabla, dok regresiju kada je **y** kontinuirana varijabla."
   ]
  },
  {
   "cell_type": "markdown",
   "metadata": {},
   "source": [
    "### Primjeri nadziranog učenja:\n",
    "**klasifikacija**: podaci koji sadrže veličinu tumora i podatak o tome je li tumor dobroćudan (0) ili zloćudan (1) <br>\n",
    "**regresija**: podaci koji sadrže veličinu kuće i cijenu za koju je ta kuća prodana.\n",
    "    "
   ]
  },
  {
   "cell_type": "markdown",
   "metadata": {},
   "source": [
    "### Funkcija pogreške \n"
   ]
  },
  {
   "cell_type": "markdown",
   "metadata": {},
   "source": [
    "Pretpostavimo da imamo podatke gdje je $x_{i}$ *input*, a $y_{i}$ *output*. Funkciju $h_{\\theta}$ zovemo hipoteza. <br>\n",
    "Funkcijom pogreške mjerimo kvadratno odstupanje funkcije hipoteze u točki $x_{i}$ od stvarne, pripadajuće vrijednosti $y_{i}$"
   ]
  },
  {
   "cell_type": "markdown",
   "metadata": {},
   "source": [
    "$$J(\\theta)=\\frac{1}{2N}\\sum_{i=1}^{N} (y_{i}-h_{\\theta}(x_{i}))^2 $$\t"
   ]
  },
  {
   "cell_type": "markdown",
   "metadata": {},
   "source": [
    "Cilj nam je dobiti što bolju funkciju hipoteze, tj. **minimizirati funkciju pogreške**. *Idealno*, funkcija bi trebala proći kroz sve točke x. U tom slučaju je funkcija pogreške 0. "
   ]
  },
  {
   "cell_type": "markdown",
   "metadata": {},
   "source": [
    "### Linearna regresija\n",
    "Neka je funkcija hipoteze sljedećeg oblika: <br>$h_{\\theta}(x)=\\theta_{n}*x_{n}+\\theta_{n-1}*x_{n-1}+...+\\theta_{1}*x_{1}+\\theta_{0}$<br><br>\n",
    "notacija: $x_{j}^{(i)}$=vrijednost svojstva j u i-tom treningu <br>\n",
    "$x^{(i)}$=svojstva i-tog treninga <br>\n",
    "$m$ = broj treninga <br>\n",
    "$n$ = broj svojstava \n",
    "\n",
    "Primjer: Znamo populaciju nekog grada i zanima nas predviđen profit prodaje hrane u usluznim djelatnostima s obzirom na dane podatke. "
   ]
  },
  {
   "cell_type": "code",
   "execution_count": 90,
   "metadata": {},
   "outputs": [
    {
     "name": "stdout",
     "output_type": "stream",
     "text": [
      "3.6.4 |Anaconda, Inc.| (default, Jan 16 2018, 12:04:33) \n",
      "[GCC 4.2.1 Compatible Clang 4.0.1 (tags/RELEASE_401/final)]\n"
     ]
    }
   ],
   "source": [
    "import matplotlib.pyplot as plt\n",
    "import numpy as np\n",
    "from numpy import matrix\n",
    "import pandas as pd\n",
    "from numpy import loadtxt, where\n",
    "from pylab import scatter, xlabel, ylabel, legend, show\n",
    "from numpy.linalg import inv\n",
    "import scipy.optimize as opt\n",
    "import sys\n",
    "print(sys.version)\n",
    "%matplotlib inline"
   ]
  },
  {
   "cell_type": "code",
   "execution_count": 91,
   "metadata": {
    "scrolled": false
   },
   "outputs": [
    {
     "data": {
      "text/html": [
       "<div>\n",
       "<style scoped>\n",
       "    .dataframe tbody tr th:only-of-type {\n",
       "        vertical-align: middle;\n",
       "    }\n",
       "\n",
       "    .dataframe tbody tr th {\n",
       "        vertical-align: top;\n",
       "    }\n",
       "\n",
       "    .dataframe thead th {\n",
       "        text-align: right;\n",
       "    }\n",
       "</style>\n",
       "<table border=\"1\" class=\"dataframe\">\n",
       "  <thead>\n",
       "    <tr style=\"text-align: right;\">\n",
       "      <th></th>\n",
       "      <th>populacija</th>\n",
       "      <th>profit</th>\n",
       "    </tr>\n",
       "  </thead>\n",
       "  <tbody>\n",
       "    <tr>\n",
       "      <th>0</th>\n",
       "      <td>6.1101</td>\n",
       "      <td>17.5920</td>\n",
       "    </tr>\n",
       "    <tr>\n",
       "      <th>1</th>\n",
       "      <td>5.5277</td>\n",
       "      <td>9.1302</td>\n",
       "    </tr>\n",
       "    <tr>\n",
       "      <th>2</th>\n",
       "      <td>8.5186</td>\n",
       "      <td>13.6620</td>\n",
       "    </tr>\n",
       "    <tr>\n",
       "      <th>3</th>\n",
       "      <td>7.0032</td>\n",
       "      <td>11.8540</td>\n",
       "    </tr>\n",
       "    <tr>\n",
       "      <th>4</th>\n",
       "      <td>5.8598</td>\n",
       "      <td>6.8233</td>\n",
       "    </tr>\n",
       "    <tr>\n",
       "      <th>5</th>\n",
       "      <td>8.3829</td>\n",
       "      <td>11.8860</td>\n",
       "    </tr>\n",
       "    <tr>\n",
       "      <th>6</th>\n",
       "      <td>7.4764</td>\n",
       "      <td>4.3483</td>\n",
       "    </tr>\n",
       "    <tr>\n",
       "      <th>7</th>\n",
       "      <td>8.5781</td>\n",
       "      <td>12.0000</td>\n",
       "    </tr>\n",
       "    <tr>\n",
       "      <th>8</th>\n",
       "      <td>6.4862</td>\n",
       "      <td>6.5987</td>\n",
       "    </tr>\n",
       "    <tr>\n",
       "      <th>9</th>\n",
       "      <td>5.0546</td>\n",
       "      <td>3.8166</td>\n",
       "    </tr>\n",
       "  </tbody>\n",
       "</table>\n",
       "</div>"
      ],
      "text/plain": [
       "   populacija   profit\n",
       "0      6.1101  17.5920\n",
       "1      5.5277   9.1302\n",
       "2      8.5186  13.6620\n",
       "3      7.0032  11.8540\n",
       "4      5.8598   6.8233\n",
       "5      8.3829  11.8860\n",
       "6      7.4764   4.3483\n",
       "7      8.5781  12.0000\n",
       "8      6.4862   6.5987\n",
       "9      5.0546   3.8166"
      ]
     },
     "execution_count": 91,
     "metadata": {},
     "output_type": "execute_result"
    }
   ],
   "source": [
    "try:\n",
    "    food = pd.read_csv('profit.txt', header=None,\\\n",
    "                       names=['populacija', 'profit'])\n",
    "except FileNotFoundError as e:\n",
    "    print(e)\n",
    "    print(\"Unexpected error:\", sys.exc_info()[0])\n",
    "    sys.exit(0)\n",
    "    \n",
    "food.head(10)"
   ]
  },
  {
   "cell_type": "markdown",
   "metadata": {},
   "source": [
    "Korisno je prikazati podatke da bismo vidjeli kako nam linearna regresija treba izgledati."
   ]
  },
  {
   "cell_type": "code",
   "execution_count": 92,
   "metadata": {},
   "outputs": [
    {
     "data": {
      "text/plain": [
       "<matplotlib.collections.PathCollection at 0x1517cef358>"
      ]
     },
     "execution_count": 92,
     "metadata": {},
     "output_type": "execute_result"
    },
    {
     "data": {
      "image/png": "[encoded data removed]",
      "text/plain": [
       "<matplotlib.figure.Figure at 0x1517c6ffd0>"
      ]
     },
     "metadata": {},
     "output_type": "display_data"
    }
   ],
   "source": [
    "populacija = food.populacija.values\n",
    "profit = food.profit.values\n",
    "scatter(populacija,profit,marker='o')"
   ]
  },
  {
   "cell_type": "markdown",
   "metadata": {},
   "source": [
    "**Kod za izračunavanje funkcije greške:**"
   ]
  },
  {
   "cell_type": "code",
   "execution_count": 93,
   "metadata": {},
   "outputs": [],
   "source": [
    "def h(X, theta):\n",
    "    \n",
    "    return X * theta\n",
    "\n",
    "def cost(X, y, theta):\n",
    "    tmp1 = X * theta - y\n",
    "    tmp2 = tmp1.T * tmp1 \n",
    "    m = np.size(y) \n",
    "    \n",
    "    return (1/(2*m)) * tmp2"
   ]
  },
  {
   "cell_type": "markdown",
   "metadata": {},
   "source": [
    "### Kako odrediti odgovarajuće parametre $\\theta$?"
   ]
  },
  {
   "cell_type": "markdown",
   "metadata": {},
   "source": [
    "Nakon što smo predstavili funkciju hipoteze i funkciju greške, preostaje\n",
    "odrediti odgovarajuće parametre. To ćemo učiniti pomoću **gradijenta**.\n",
    "\n",
    "Intuitivno, neka je funkcija hipoteze oblika $h_{\\theta}(x)=\\theta_{1}*x_{1}+\\theta_{0}$. Nacrtamo graf koji na x-osi ima parametar $\\theta_{0}$, a na y-osi $\\theta_{1}$, dok je na z-osi vrijednost funkcije $J(\\theta_{0},\\theta_{1})$. Znamo da nam je cilj pronaći minimum takve funkcije. To ćemo postići tako da krenemo od bilo koje točke i promatramo tangentu u toj točki koja će nam \"reći\" u kojem pravcu se trebamo gibati kako bismo došli do minimuma. Gibamo se u koracima veličine $\\alpha$. $\\alpha$ ne smije biti niti prevelik niti premalen. Ako se povećanjem broja iteracija, funkcija greške povećava, trebamo smanjiti $\\alpha$. No, ako je $\\alpha$ premalen, konvergencija može biti jako spora.\n",
    "        "
   ]
  },
  {
   "cell_type": "markdown",
   "metadata": {},
   "source": [
    "**Algoritam:** <br>\n",
    "*ponavljati dok ne konvergira:* <br>\n",
    "     $\\theta_{j}=\\theta_{j}-\\alpha\\frac{\\delta}{\\delta\\theta_{j}}J(\\theta_{0},\\theta_{1})*x_{j} $ <br><br>\n",
    "     $j=0,...,n$ <br>\n",
    "     $x_{0}=1$"
   ]
  },
  {
   "cell_type": "markdown",
   "metadata": {},
   "source": [
    "U matricu podataka potrebno je dodati u 1. stupac jedinice kako bismo mogli provesti prethodno napisani algoritam."
   ]
  },
  {
   "cell_type": "markdown",
   "metadata": {},
   "source": [
    "Možemo ubrzati taj algoritam tako da je svako svojstvo sličnog reda veličine. Za to postoje dva načina: <br>\n",
    "1. skaliranje svojstava <br>\n",
    "    $x_{i}:=\\frac{x_{i}}{max(x)-min(x)}$\n",
    "2. normalizacija <br>\n",
    "    $x_{i}:=\\frac{x_{i}-\\mu_{i}}{s_{i}}$\n"
   ]
  },
  {
   "cell_type": "markdown",
   "metadata": {},
   "source": [
    "Vratimo se na prethodni primjer i izračunajmo parametre za linearnu regresiju. <br>\n",
    "Prvo što je potrebno napisati funkciju koja računa *gradient descent*. "
   ]
  },
  {
   "cell_type": "code",
   "execution_count": 94,
   "metadata": {},
   "outputs": [],
   "source": [
    "def gradient_descent(X, y, theta, alpha, iterations):\n",
    "    m = np.size(y)\n",
    "    for i in range(ite):\n",
    "        pred = np.dot(X, theta)\n",
    "        vel = np.size(theta)\n",
    "        for it in range(vel):\n",
    "            tmp = X[:, it]\n",
    "            err = (pred-y)*tmp\n",
    "            theta[it][0]  =theta[it][0]-(alpha/m)*err.sum()\n",
    "            \n",
    "    return theta"
   ]
  },
  {
   "cell_type": "markdown",
   "metadata": {},
   "source": [
    "Korisno je koristiti vektorizirani oblik gradijenta za lakše izračunavanje."
   ]
  },
  {
   "cell_type": "code",
   "execution_count": 95,
   "metadata": {},
   "outputs": [],
   "source": [
    "def gradient_descent_vectorized(X, y, theta, alpha, iterations):\n",
    "    m = np.size(y)\n",
    "    step = alpha/m\n",
    "    for i in range(iterations):\n",
    "        theta -= step * X.T * (X*theta - y)\n",
    "    print(theta) \n",
    "    \n",
    "    return theta"
   ]
  },
  {
   "cell_type": "code",
   "execution_count": 96,
   "metadata": {},
   "outputs": [],
   "source": [
    "theta = matrix(np.zeros((2,1)))\n",
    "food.insert(0,'jedinice',1)  #u matricu food,tj. X dodajem stupac 1 kako bih provela gradient_descent"
   ]
  },
  {
   "cell_type": "markdown",
   "metadata": {},
   "source": [
    "Dakle, matrica X je oblika:"
   ]
  },
  {
   "cell_type": "code",
   "execution_count": 97,
   "metadata": {},
   "outputs": [
    {
     "data": {
      "text/html": [
       "<div>\n",
       "<style scoped>\n",
       "    .dataframe tbody tr th:only-of-type {\n",
       "        vertical-align: middle;\n",
       "    }\n",
       "\n",
       "    .dataframe tbody tr th {\n",
       "        vertical-align: top;\n",
       "    }\n",
       "\n",
       "    .dataframe thead th {\n",
       "        text-align: right;\n",
       "    }\n",
       "</style>\n",
       "<table border=\"1\" class=\"dataframe\">\n",
       "  <thead>\n",
       "    <tr style=\"text-align: right;\">\n",
       "      <th></th>\n",
       "      <th>jedinice</th>\n",
       "      <th>populacija</th>\n",
       "      <th>profit</th>\n",
       "    </tr>\n",
       "  </thead>\n",
       "  <tbody>\n",
       "    <tr>\n",
       "      <th>0</th>\n",
       "      <td>1</td>\n",
       "      <td>6.1101</td>\n",
       "      <td>17.5920</td>\n",
       "    </tr>\n",
       "    <tr>\n",
       "      <th>1</th>\n",
       "      <td>1</td>\n",
       "      <td>5.5277</td>\n",
       "      <td>9.1302</td>\n",
       "    </tr>\n",
       "    <tr>\n",
       "      <th>2</th>\n",
       "      <td>1</td>\n",
       "      <td>8.5186</td>\n",
       "      <td>13.6620</td>\n",
       "    </tr>\n",
       "    <tr>\n",
       "      <th>3</th>\n",
       "      <td>1</td>\n",
       "      <td>7.0032</td>\n",
       "      <td>11.8540</td>\n",
       "    </tr>\n",
       "    <tr>\n",
       "      <th>4</th>\n",
       "      <td>1</td>\n",
       "      <td>5.8598</td>\n",
       "      <td>6.8233</td>\n",
       "    </tr>\n",
       "    <tr>\n",
       "      <th>5</th>\n",
       "      <td>1</td>\n",
       "      <td>8.3829</td>\n",
       "      <td>11.8860</td>\n",
       "    </tr>\n",
       "  </tbody>\n",
       "</table>\n",
       "</div>"
      ],
      "text/plain": [
       "   jedinice  populacija   profit\n",
       "0         1      6.1101  17.5920\n",
       "1         1      5.5277   9.1302\n",
       "2         1      8.5186  13.6620\n",
       "3         1      7.0032  11.8540\n",
       "4         1      5.8598   6.8233\n",
       "5         1      8.3829  11.8860"
      ]
     },
     "execution_count": 97,
     "metadata": {},
     "output_type": "execute_result"
    }
   ],
   "source": [
    "food.loc[0:5, (slice(None))]"
   ]
  },
  {
   "cell_type": "code",
   "execution_count": 98,
   "metadata": {},
   "outputs": [],
   "source": [
    "new_population = matrix(populacija).T\n",
    "jedinice = np.ones((new_population.size, 1))\n",
    "new_population = np.hstack((jedinice, new_population))\n",
    "new_profit = matrix(profit).T"
   ]
  },
  {
   "cell_type": "code",
   "execution_count": 101,
   "metadata": {},
   "outputs": [
    {
     "name": "stdout",
     "output_type": "stream",
     "text": [
      "[[-3.89459687]\n",
      " [ 1.1929147 ]]\n"
     ]
    }
   ],
   "source": [
    "theta_new = gradient_descent_vectorized(new_population, new_profit, theta, alpha=0.01, iterations=1500)"
   ]
  },
  {
   "cell_type": "markdown",
   "metadata": {},
   "source": [
    "Prikažimo sada podatke na istom grafu kao i pravac s procijenjenim parametrima."
   ]
  },
  {
   "cell_type": "code",
   "execution_count": 102,
   "metadata": {},
   "outputs": [
    {
     "data": {
      "text/plain": [
       "[<matplotlib.lines.Line2D at 0x1517b9a4a8>]"
      ]
     },
     "execution_count": 102,
     "metadata": {},
     "output_type": "execute_result"
    },
    {
     "data": {
      "image/png": "[encoded data removed]",
      "text/plain": [
       "<matplotlib.figure.Figure at 0x1517b8dba8>"
      ]
     },
     "metadata": {},
     "output_type": "display_data"
    }
   ],
   "source": [
    "populacija = food.populacija.values\n",
    "profit = food.profit.values\n",
    "plt.figure()\n",
    "plt.scatter(populacija, profit, marker='o')\n",
    "x_axis = np.arange(5.0,25.0,0.01)\n",
    "h_food = theta_new[0] + theta_new[1]*x_axis\n",
    "plt.plot(x_axis, h_food.T, c='r')"
   ]
  },
  {
   "cell_type": "markdown",
   "metadata": {},
   "source": [
    "Provjerimo kolika nam je greška."
   ]
  },
  {
   "cell_type": "code",
   "execution_count": 103,
   "metadata": {},
   "outputs": [
    {
     "data": {
      "text/plain": [
       "4.4769715036016695"
      ]
     },
     "execution_count": 103,
     "metadata": {},
     "output_type": "execute_result"
    }
   ],
   "source": [
    "cost(new_population, new_profit, theta_new).item(0)"
   ]
  },
  {
   "cell_type": "markdown",
   "metadata": {},
   "source": [
    "Drugi način za  određivanje odgovarajućih parametara je **normalna jednadžba**. <br>\n",
    "Ovom metodom, minimiziramo funkciju $J(\\theta)$ tako da eksplicitno deriviramo po $\\theta_{j}$ te derivacije izjednačavamo s 0. Tako nalazimo optimum bez iteracija. \n",
    "$$\\theta=(X^{T}X)^{-1}X^{T}y$$ <br>\n",
    "Ova metoda je bolja jer ne trebamo odabirati $\\alpha$, nemamo iteracija, no složenija je i sporija ako je broj svojstava velik."
   ]
  },
  {
   "cell_type": "markdown",
   "metadata": {},
   "source": [
    "Prethodni primjer gdje koristimo normalnu jednadžbu kako bismo odredili odgovarajuće parametre $\\theta$:"
   ]
  },
  {
   "cell_type": "markdown",
   "metadata": {},
   "source": [
    "Koristimo već zapisanu formulu $\\theta=(X^{T}X)^{-1}X^{T}y$. <br>\n",
    "Važno je napomenuti da, kao i za algoritam gradient descenta, vrijednost $x_{0}$ postavljamo na 1. "
   ]
  },
  {
   "cell_type": "code",
   "execution_count": 104,
   "metadata": {},
   "outputs": [
    {
     "data": {
      "text/plain": [
       "matrix([[-3.89578088],\n",
       "        [ 1.19303364]])"
      ]
     },
     "execution_count": 104,
     "metadata": {},
     "output_type": "execute_result"
    }
   ],
   "source": [
    "theta_normal = inv(new_population.T*new_population)*new_population.T*new_profit\n",
    "theta_normal"
   ]
  },
  {
   "cell_type": "markdown",
   "metadata": {},
   "source": [
    "Dakle, metodom normalne jednadžbe funkcija hipoteze nam izgleda:\n",
    "$$h_{\\theta}(x)=-3.9+1.2*x$$"
   ]
  },
  {
   "cell_type": "code",
   "execution_count": 105,
   "metadata": {},
   "outputs": [
    {
     "data": {
      "text/plain": [
       "4.476971375975179"
      ]
     },
     "execution_count": 105,
     "metadata": {},
     "output_type": "execute_result"
    }
   ],
   "source": [
    "cost(new_population, new_profit, theta_normal).item(0)"
   ]
  },
  {
   "cell_type": "markdown",
   "metadata": {},
   "source": [
    "Uspoređujući funkciju troška s obzirom na parametre dobivene *gradient descentom* i normalnom jednadžbom, primjećujemo da su približno iste vrijednosti."
   ]
  },
  {
   "cell_type": "markdown",
   "metadata": {},
   "source": [
    "### Polinomijalna regresija\n",
    "Hipoteza ne mora biti linearna funkcija ako dobro ne opisuje zadane podatke. Možemo promijeniti ponašanje krivulje tako da odaberemo kvadratnu, kubičnu ili neku sličnu krivulju. "
   ]
  },
  {
   "cell_type": "markdown",
   "metadata": {},
   "source": [
    "### Logistička regresija"
   ]
  },
  {
   "cell_type": "markdown",
   "metadata": {},
   "source": [
    "Što raditi kada imamo problem klasifikacije, tj. *output* je diskretna varijabla? <br>\n",
    "*Primjer*: Želimo napraviti algoritam koji prepoznaje spam mail. Neka je $y=1$ ako je to spam, u suprotnom $y=0$. Dakle, $y\\in{0,1}$. <br>\n",
    "0 se često naziva negativnom klasom, a 1 pozitivnom. "
   ]
  },
  {
   "cell_type": "markdown",
   "metadata": {},
   "source": [
    "Za potrebe klasifikacije, konstruiramo novu funkciju - **sigmoid function** ili **logistička funkcija**. <br>\n",
    "$$h_{\\theta}=g(\\theta^{T}x)$$ <br>\n",
    "$$z=\\theta^{T}x$$ <br>\n",
    "$$g(z)=\\frac{1}{1+e^{-z}} $$"
   ]
  },
  {
   "cell_type": "markdown",
   "metadata": {},
   "source": [
    "Sljedeća slika prikazuje izgled sigmoid funkcije."
   ]
  },
  {
   "cell_type": "code",
   "execution_count": 106,
   "metadata": {},
   "outputs": [],
   "source": [
    "def sigmoid(x):\n",
    "    s = 1.0 + np.exp(-x)\n",
    "    s = 1.0/s \n",
    "    \n",
    "    return s"
   ]
  },
  {
   "cell_type": "code",
   "execution_count": 107,
   "metadata": {},
   "outputs": [
    {
     "data": {
      "image/png": "[encoded data removed]",
      "text/plain": [
       "<matplotlib.figure.Figure at 0x1517ceff28>"
      ]
     },
     "metadata": {},
     "output_type": "display_data"
    }
   ],
   "source": [
    "x = np.arange(-10., 10., 0.2)\n",
    "y = np.linspace(0, len(x), len(x))\n",
    "\n",
    "plt.plot(x, sigmoid(x))\n",
    "plt.grid(True, which='both')\n",
    "plt.axhline(y=0, color='k')\n",
    "plt.axvline(x=0, color='k')\n",
    "plt.ylim(-0.1,1.1)\n",
    "plt.title('Sigmoid function')\n",
    "plt.show()"
   ]
  },
  {
   "cell_type": "markdown",
   "metadata": {},
   "source": [
    "Očito je da sigmoid funkcija poprima vrijednosti između 0 i 1 što je čini pogodnim izborom za klasifikacijske probleme. <br>\n",
    "$h_{\\theta}(x)$ daje **vjerojatnost** da je naš *output* 1. Preciznije, $h_{\\theta}(x)=P(y=1|x;\\theta)$"
   ]
  },
  {
   "cell_type": "markdown",
   "metadata": {},
   "source": [
    "Uz sve rečeno, granica odlučivanja je linija koja razdvaja podatke gdje je y=1 od onih gdje je y=0. <br>\n",
    "$h_{\\theta}\\geq0.5\\rightarrow y=1$ <br>\n",
    "$h_{\\theta}<0.5\\rightarrow y=0$"
   ]
  },
  {
   "cell_type": "markdown",
   "metadata": {},
   "source": [
    "Potrebno je prilagoditi i funkciju greške zbog toga što bi logistička funkcija na prethodno definiranoj funkciji greške uzrokovala puno lokalnih optimuma, tj. ne bi bila konveksna. "
   ]
  },
  {
   "cell_type": "markdown",
   "metadata": {},
   "source": [
    "$$J(\\theta)=\\frac{1}{m}\\sum_{i=1}^{m}Cost(h_{\\theta}(x^{(i)},y^{(i)})$$"
   ]
  },
  {
   "cell_type": "markdown",
   "metadata": {},
   "source": [
    "$Cost(h_{\\theta}(x),y)=-log(h_{\\theta}(x))$ ako y=1 <br>\n",
    "$Cost(h_{\\theta}(x),y)=-log(1-h_{\\theta}(x))$ ako y=0 "
   ]
  },
  {
   "cell_type": "code",
   "execution_count": 108,
   "metadata": {},
   "outputs": [],
   "source": [
    "def log_cost(theta,X,y):\n",
    "    theta = np.matrix(theta)\n",
    "    y = np.matrix(y)\n",
    "    X = np.matrix(X)\n",
    "    m = len(X)\n",
    "    tmp1 = np.multiply(-y,np.log(sigmoid(X*theta.T)))\n",
    "    tmp2 = np.multiply((1-y),np.log(1-sigmoid(X*theta.T)))\n",
    "    J = np.sum(tmp1-tmp2)/m\n",
    "    return J"
   ]
  },
  {
   "cell_type": "markdown",
   "metadata": {},
   "source": [
    "Prilažem i vektorizirani oblik izračunavanja funkcije greške logističke regresije."
   ]
  },
  {
   "cell_type": "code",
   "execution_count": 109,
   "metadata": {},
   "outputs": [],
   "source": [
    "def log_cost_vectorized(theta, X, y):\n",
    "    theta = np.matrix(theta).T\n",
    "    m = np.size(y)\n",
    "    J = -(y.T * np.log(sigmoid(X*theta))) - \\\n",
    "        ((1-y).T * np.log(1 - sigmoid(X*theta)))\n",
    "    \n",
    "    return J/m"
   ]
  },
  {
   "cell_type": "markdown",
   "metadata": {},
   "source": [
    "Izgled funkcije greške logističke regresije s obzirom na vrijednosti y:"
   ]
  },
  {
   "cell_type": "code",
   "execution_count": 110,
   "metadata": {},
   "outputs": [
    {
     "data": {
      "image/png": "[encoded data removed]",
      "text/plain": [
       "<matplotlib.figure.Figure at 0x1518470908>"
      ]
     },
     "metadata": {},
     "output_type": "display_data"
    }
   ],
   "source": [
    "x = np.arange(0.001, 1., 0.01)\n",
    "y = np.linspace(0, len(x), len(x))\n",
    "sig = -np.log(x)\n",
    "plt.plot(x, sig)\n",
    "plt.title('ako je y=1')\n",
    "plt.xlabel('h(x)')\n",
    "plt.show()"
   ]
  },
  {
   "cell_type": "code",
   "execution_count": 111,
   "metadata": {},
   "outputs": [
    {
     "data": {
      "image/png": "[encoded data removed]",
      "text/plain": [
       "<matplotlib.figure.Figure at 0x15184845f8>"
      ]
     },
     "metadata": {},
     "output_type": "display_data"
    }
   ],
   "source": [
    "x = np.arange(0., 0.99, 0.01)\n",
    "y = np.linspace(0, len(x), len(x))\n",
    "sig = -np.log(1-x)\n",
    "plt.plot(x, sig)\n",
    "plt.title('ako je y=0')\n",
    "plt.xlabel('h(x)')\n",
    "plt.show()"
   ]
  },
  {
   "cell_type": "markdown",
   "metadata": {},
   "source": [
    "Gradijent funkcije troška je vektor čiji je j-ti element definiran na sljedeći način:"
   ]
  },
  {
   "cell_type": "markdown",
   "metadata": {},
   "source": [
    "$$\\frac{\\partial J(\\theta)}{\\partial \\theta_{j}}=\\frac{1}{m}\\sum_{i=1}^{m}(h_{\\theta}(x^{(i)}-y^{(i)})x_{j}^{(i)}$$"
   ]
  },
  {
   "cell_type": "code",
   "execution_count": 112,
   "metadata": {},
   "outputs": [],
   "source": [
    "def grad(theta, X, y):\n",
    "    theta = np.matrix(theta)\n",
    "    y = np.matrix(y)\n",
    "    X = np.matrix(X)\n",
    "    gradient = np.zeros(3)\n",
    "    rez = gradient.size\n",
    "    razlika = sigmoid(X.dot(theta.T))-y\n",
    "    m = X.shape[0]\n",
    "    for i in range(rez):\n",
    "        temp5 = razlika.T.dot(X[:,i])\n",
    "        gradient[i] = (1.0/m)*temp5*-1\n",
    "    theta.shape = (3,)\n",
    "    return gradient\n",
    "\n",
    "def gradient_vectorized(theta, X, y):\n",
    "    m = np.size(y)\n",
    "    theta = matrix(theta).T\n",
    "    grad = X.T * (sigmoid(X * theta) - y)\n",
    "    \n",
    "    return grad/m"
   ]
  },
  {
   "cell_type": "markdown",
   "metadata": {},
   "source": [
    "Pokažimo logističku regresiju na primjeru: <br>\n",
    "*Administratori smo nekog sveučilišta i želimo procijeniti vjerojatnost primanja na sveučilište svakog prijavljenog studenta s obzirom na rezultate postignute na dva testa.* <br>"
   ]
  },
  {
   "cell_type": "code",
   "execution_count": 119,
   "metadata": {},
   "outputs": [
    {
     "data": {
      "text/html": [
       "<div>\n",
       "<style scoped>\n",
       "    .dataframe tbody tr th:only-of-type {\n",
       "        vertical-align: middle;\n",
       "    }\n",
       "\n",
       "    .dataframe tbody tr th {\n",
       "        vertical-align: top;\n",
       "    }\n",
       "\n",
       "    .dataframe thead th {\n",
       "        text-align: right;\n",
       "    }\n",
       "</style>\n",
       "<table border=\"1\" class=\"dataframe\">\n",
       "  <thead>\n",
       "    <tr style=\"text-align: right;\">\n",
       "      <th></th>\n",
       "      <th>test_1</th>\n",
       "      <th>test_2</th>\n",
       "      <th>primljeni</th>\n",
       "    </tr>\n",
       "  </thead>\n",
       "  <tbody>\n",
       "    <tr>\n",
       "      <th>0</th>\n",
       "      <td>34.623660</td>\n",
       "      <td>78.024693</td>\n",
       "      <td>0</td>\n",
       "    </tr>\n",
       "    <tr>\n",
       "      <th>1</th>\n",
       "      <td>30.286711</td>\n",
       "      <td>43.894998</td>\n",
       "      <td>0</td>\n",
       "    </tr>\n",
       "    <tr>\n",
       "      <th>2</th>\n",
       "      <td>35.847409</td>\n",
       "      <td>72.902198</td>\n",
       "      <td>0</td>\n",
       "    </tr>\n",
       "    <tr>\n",
       "      <th>3</th>\n",
       "      <td>60.182599</td>\n",
       "      <td>86.308552</td>\n",
       "      <td>1</td>\n",
       "    </tr>\n",
       "    <tr>\n",
       "      <th>4</th>\n",
       "      <td>79.032736</td>\n",
       "      <td>75.344376</td>\n",
       "      <td>1</td>\n",
       "    </tr>\n",
       "    <tr>\n",
       "      <th>5</th>\n",
       "      <td>45.083277</td>\n",
       "      <td>56.316372</td>\n",
       "      <td>0</td>\n",
       "    </tr>\n",
       "    <tr>\n",
       "      <th>6</th>\n",
       "      <td>61.106665</td>\n",
       "      <td>96.511426</td>\n",
       "      <td>1</td>\n",
       "    </tr>\n",
       "    <tr>\n",
       "      <th>7</th>\n",
       "      <td>75.024746</td>\n",
       "      <td>46.554014</td>\n",
       "      <td>1</td>\n",
       "    </tr>\n",
       "    <tr>\n",
       "      <th>8</th>\n",
       "      <td>76.098787</td>\n",
       "      <td>87.420570</td>\n",
       "      <td>1</td>\n",
       "    </tr>\n",
       "    <tr>\n",
       "      <th>9</th>\n",
       "      <td>84.432820</td>\n",
       "      <td>43.533393</td>\n",
       "      <td>1</td>\n",
       "    </tr>\n",
       "  </tbody>\n",
       "</table>\n",
       "</div>"
      ],
      "text/plain": [
       "      test_1     test_2  primljeni\n",
       "0  34.623660  78.024693          0\n",
       "1  30.286711  43.894998          0\n",
       "2  35.847409  72.902198          0\n",
       "3  60.182599  86.308552          1\n",
       "4  79.032736  75.344376          1\n",
       "5  45.083277  56.316372          0\n",
       "6  61.106665  96.511426          1\n",
       "7  75.024746  46.554014          1\n",
       "8  76.098787  87.420570          1\n",
       "9  84.432820  43.533393          1"
      ]
     },
     "execution_count": 119,
     "metadata": {},
     "output_type": "execute_result"
    }
   ],
   "source": [
    "exams = pd.read_csv('studentsdata.txt', sep=',', names=['test_1', 'test_2', 'primljeni'])\n",
    "exams.head(10)"
   ]
  },
  {
   "cell_type": "markdown",
   "metadata": {},
   "source": [
    "Prvo je svakako korisno vizualizirati podatke:"
   ]
  },
  {
   "cell_type": "code",
   "execution_count": 120,
   "metadata": {},
   "outputs": [
    {
     "data": {
      "image/png": "[encoded data removed]",
      "text/plain": [
       "<matplotlib.figure.Figure at 0x15186b1e48>"
      ]
     },
     "metadata": {},
     "output_type": "display_data"
    }
   ],
   "source": [
    "fig,ax=plt.subplots(figsize=(12,8))\n",
    "pos=exams[exams['primljeni'].isin([1])]\n",
    "neg=exams[exams['primljeni'].isin([0])]\n",
    "scatter(pos['test_1'],pos['test_2'],marker='o',c='g',label='Primljeni')\n",
    "scatter(neg['test_1'],neg['test_2'],marker='x',c='b',label='Nisu primljeni')\n",
    "ax.legend()\n",
    "xlabel('Broj postignutih bodova na prvom testu')\n",
    "ylabel('Broj postignutih bodova na drugom testu')\n",
    "show()"
   ]
  },
  {
   "cell_type": "markdown",
   "metadata": {},
   "source": [
    "Gdje su zeleno označeni primljeni, a plavo označeni nisu primljeni na fakultet. <br>\n"
   ]
  },
  {
   "cell_type": "markdown",
   "metadata": {},
   "source": [
    "Da bismo odredili vjerojatnost primanja studenta na sveučilište s obzirom na dva testa, prvo moramo naći minimum funkcije greške, tj. odrediti parametre za logističku regresiju. U tu svrhu koristimo scipy funkciju **fmin_tnc**. "
   ]
  },
  {
   "cell_type": "code",
   "execution_count": 121,
   "metadata": {},
   "outputs": [],
   "source": [
    "def random_numbers_generator(a, b, d1, d2):\n",
    "    v = np.random.rand(d1, d2)\n",
    "    v = (b-a)*v + a \n",
    "    \n",
    "    return v"
   ]
  },
  {
   "cell_type": "code",
   "execution_count": 122,
   "metadata": {},
   "outputs": [],
   "source": [
    "exams.insert(0, 'jedinice', 1)\n",
    "stupci = exams.shape[1]\n",
    "X = exams.iloc[:, 0:stupci-1]\n",
    "y = exams.iloc[:, stupci-1:stupci]\n",
    "X = matrix(X.values)\n",
    "y = matrix(y.values)"
   ]
  },
  {
   "cell_type": "code",
   "execution_count": 123,
   "metadata": {},
   "outputs": [],
   "source": [
    "theta = matrix(random_numbers_generator(-0.5, 0.5, 3, 1), dtype=float)"
   ]
  },
  {
   "cell_type": "markdown",
   "metadata": {},
   "source": [
    "Dodali smo stupac jedinica u podatke kako bismo mogli pozvati funkciju log_cost_vectorized, za početnu $\\theta$ uzimamo onu generiranu slučajnim odabirom. Pomoću definirane funkcije random_numbers_generator prilagođena je veličina $\\theta$."
   ]
  },
  {
   "cell_type": "code",
   "execution_count": 124,
   "metadata": {},
   "outputs": [
    {
     "data": {
      "text/plain": [
       "matrix([[-25.06484352,   0.20545328,   0.20069794]])"
      ]
     },
     "execution_count": 124,
     "metadata": {},
     "output_type": "execute_result"
    }
   ],
   "source": [
    "parametri = opt.fmin_tnc(func=log_cost_vectorized, fprime=gradient_vectorized, x0=theta, args=(X, y))\n",
    "parametri = matrix(parametri[0])\n",
    "parametri"
   ]
  },
  {
   "cell_type": "code",
   "execution_count": 125,
   "metadata": {},
   "outputs": [
    {
     "data": {
      "text/plain": [
       "matrix([[0.20349909]])"
      ]
     },
     "execution_count": 125,
     "metadata": {},
     "output_type": "execute_result"
    }
   ],
   "source": [
    "log_cost_vectorized(parametri, X, y)"
   ]
  },
  {
   "cell_type": "markdown",
   "metadata": {},
   "source": [
    "Pretpostavimo da imamo studenta koji je na prvom testu ostvario 45 bodova, a na drugom 85. Izračunajmo vjerojatnost da bude primljen na sveučilište."
   ]
  },
  {
   "cell_type": "code",
   "execution_count": 126,
   "metadata": {},
   "outputs": [],
   "source": [
    "def predict(theta, x):\n",
    "    p = sigmoid(x*theta)\n",
    "    \n",
    "    return p"
   ]
  },
  {
   "cell_type": "code",
   "execution_count": 127,
   "metadata": {},
   "outputs": [
    {
     "data": {
      "text/plain": [
       "'77.55%'"
      ]
     },
     "execution_count": 127,
     "metadata": {},
     "output_type": "execute_result"
    }
   ],
   "source": [
    "student = matrix(np.array([1, 45, 85]))\n",
    "vjerojatnost = predict(parametri.T, student)\n",
    "\"{0:.2f}%\".format(vjerojatnost.item(0)*100)"
   ]
  },
  {
   "cell_type": "markdown",
   "metadata": {},
   "source": [
    "### Problem *overfittinga*"
   ]
  },
  {
   "cell_type": "markdown",
   "metadata": {},
   "source": [
    "Promatrajmo problem predviđanja y s obzirom na x $\\in R$. Prvi graf prikazuje rezultat prilagdođavanja $y=\\theta_{0}+\\theta_{1}x$ zadanim podacima. Vidimo da podaci zapravo ne leže na ravnoj liniji pa procjena nije dovoljno dobra. <br>\n",
    "Međutim, postoji i opasnost u dodavanju previše svojstava. Drugi graf je rezultat opisivanja podataka polinomom stupnja 2. Iako krivulja savršeno opisuje zadane podatke, ona nije dobar predikator. <br>\n",
    "\n"
   ]
  },
  {
   "cell_type": "code",
   "execution_count": 143,
   "metadata": {},
   "outputs": [
    {
     "data": {
      "text/plain": [
       "[<matplotlib.lines.Line2D at 0x1519309c50>]"
      ]
     },
     "execution_count": 143,
     "metadata": {},
     "output_type": "execute_result"
    },
    {
     "data": {
      "image/png": "[encoded data removed]",
      "text/plain": [
       "<matplotlib.figure.Figure at 0x1519204320>"
      ]
     },
     "metadata": {},
     "output_type": "display_data"
    }
   ],
   "source": [
    "def f1(t):\n",
    "    return t\n",
    "\n",
    "def f3(t):\n",
    "    return t**2\n",
    "\n",
    "x = np.arange(-4, 5, 1)\n",
    "y1 = f3(x)\n",
    "plt.figure(1)\n",
    "plt.subplot(211)\n",
    "plt.plot(x, y1, 'ro')\n",
    "plt.plot(x, f1(x))\n",
    "\n",
    "plt.subplot(212)\n",
    "y2 = f3(x)\n",
    "plt.plot(x, y1, 'ro')\n",
    "plt.plot(x, y2)"
   ]
  },
  {
   "cell_type": "markdown",
   "metadata": {},
   "source": [
    "Kažemo da je prvi graf primjer *underfittinga* - krivulja ne opisuje dobro podatke, dok je drugi graf primjer *overfittinga*. <br> <br>\n",
    "**Rješavanje problema overfittinga:** <br>\n",
    "1. smanjenje broja svojstava\n",
    "2. regularizacija"
   ]
  },
  {
   "cell_type": "markdown",
   "metadata": {},
   "source": [
    "**Regularizacija:** <br>\n",
    "Funkcija troška postaje: <br>\n",
    "$$min_{\\theta} \\frac{1}{2m}\\sum_{i=1}^{m}(h_{\\theta}(x^{(i)}-y^{(i)})^{2}+\\lambda\\sum_{j=1}^{n}\\theta_{j}^{2}$$"
   ]
  },
  {
   "cell_type": "markdown",
   "metadata": {},
   "source": [
    "$\\lambda$ je regularizacijski parametar. Koristeći takvu funkciju troška smanjujemo *overfitting*. No, $\\lambda$ ne smije biti prevelik kako ne bismo došli do *underfittinga*. "
   ]
  },
  {
   "cell_type": "markdown",
   "metadata": {},
   "source": [
    "**Regularizirana linearna i logistička regresija:** <br>\n",
    "Modificirani gradijent: <br>\n",
    "            Repeat {\n",
    " $$\\theta_{0}:=\\theta_{0}-\\alpha\\frac{1}{m}\\sum_{i=1}^{m}(h_{\\theta}(x^{(i)}-y^{(i)})x_{0}^{(i)}$$ \n",
    " $$\\theta_{j}:=\\theta_{j}-\\alpha((\\frac{1}{m}\\sum_{i=1}^{m}(h_{\\theta}(x^{(i)}-y^{(i)})x_{j}^{(i)})+\\frac{\\lambda}{m}\\theta_{j})$$\n",
    "} <br>\n",
    "j$\\in${1,2,...,n}"
   ]
  },
  {
   "cell_type": "markdown",
   "metadata": {},
   "source": [
    "\n"
   ]
  }
 ],
 "metadata": {
  "kernelspec": {
   "display_name": "Python 3",
   "language": "python",
   "name": "python3"
  },
  "language_info": {
   "codemirror_mode": {
    "name": "ipython",
    "version": 3
   },
   "file_extension": ".py",
   "mimetype": "text/x-python",
   "name": "python",
   "nbconvert_exporter": "python",
   "pygments_lexer": "ipython3",
   "version": "3.6.4"
  }
 },
 "nbformat": 4,
 "nbformat_minor": 2
}
