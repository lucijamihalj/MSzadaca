{
 "cells": [
  {
   "cell_type": "markdown",
   "metadata": {},
   "source": [
    "# Uvod u nadzirano strojno učenje \n",
    "\n"
   ]
  },
  {
   "cell_type": "markdown",
   "metadata": {},
   "source": [
    "### 1. Što je strojno učenje?\n",
    "Arthur Samuel je opisao strojno učenje kao sposobnost računala da uči bez da je eksplicitno programirano. \n",
    "Novija i prihvaćenija definicija je ona Toma Mitchella: <br>\n",
    "    Kažemo da program uči zadatak T kroz iskustvo E ako se njegova perfomansa P u izvođenju zadatka T poboljšava s rastom iskustva E. <br>\n",
    "Primjer: igranje šaha <br>\n",
    "    E = iskustvo stečeno kroz igranje mnogo partija šaha <br>\n",
    "    T = igranje šaha <br>\n",
    "    P = vjerojatnost da će program pobijediti iduću partiju šaha <br>"
   ]
  },
  {
   "cell_type": "markdown",
   "metadata": {},
   "source": [
    "Osnovna podjela: \n",
    "1. nadzirano učenje - klasifikacija i regresija\n",
    "2. nenadzirano učenje - grupiranje i smanjenje dimenzionalnosti"
   ]
  },
  {
   "cell_type": "markdown",
   "metadata": {},
   "source": [
    "### 2. Primjeri strojnog učenja koji utječu na svakodnevicu"
   ]
  },
  {
   "cell_type": "markdown",
   "metadata": {},
   "source": [
    "- SIRI koristi principe strojnog učenja i drugih tehnologija za imitaciju ljudskih reakcija <br>\n",
    "- FACEBOOK koristi impresivnu tehnologiju kako bi predložio korisnicima koga trebaju *taggirati* na slikama <br>\n",
    "- GOOGLE MAPS analizira brzinu u prometu koristeći anonimne lokacijske usluge s mobitela i tako predlaže najbržu rutu <br>\n",
    "- GMAIL klasificira mailove, ali nedavno su predstavili i sustav koji predlaže tri automatska odgovora na mail <br>\n",
    "- NETFLIX-u je strojno učenje nužno za prijedloge serija i filmova <br>\n",
    "- UBER kroz strojno učenje procijenjuje brzinu dolaska na odredište <br>\n"
   ]
  },
  {
   "cell_type": "markdown",
   "metadata": {},
   "source": [
    "U ovom radu bavit ću se linearnom i logističkom regresijom iz perspektive nadziranog strojnog učenja.\n",
    "<br>U nadziranom učenju dani su nam podaci na temelju kojih predviđamo *output*. Postoje dvije, već navedene, kategorije - klasifikacija i regresija. <br>\n",
    "    Klasifikaciju koristimo ako je _output_ **y** diskretna varijabla, dok regresiju kada je **y** kontinuirana varijabla."
   ]
  },
  {
   "cell_type": "markdown",
   "metadata": {},
   "source": [
    "### Primjeri nadziranog učenja:\n",
    "**klasifikacija**: podaci koji sadrže veličinu tumora i podatak o tome je li tumor dobroćudan (0) ili zloćudan (1) <br>\n",
    "**regresija**: podaci koji sadrže veličinu kuće i cijenu za koju je ta kuća prodana.\n",
    "    "
   ]
  },
  {
   "cell_type": "markdown",
   "metadata": {},
   "source": [
    "### 3. Funkcija pogreške \n"
   ]
  },
  {
   "cell_type": "markdown",
   "metadata": {},
   "source": [
    "Pretpostavimo da imamo podatke gdje je $x_{i}$ *input*, a $y_{i}$ *output*. Funkciju $h_{\\theta}$ zovemo hipoteza. <br>\n",
    "Funkcijom pogreške mjerimo kvadratno odstupanje funkcije hipoteze u točki $x_{i}$ od stvarne, pripadajuće vrijednosti $y_{i}$"
   ]
  },
  {
   "cell_type": "markdown",
   "metadata": {},
   "source": [
    "$$J(\\theta)=\\frac{1}{2m}\\sum_{i=1}^{m} (y_{i}-h_{\\theta}(x_{i}))^2 $$\t"
   ]
  },
  {
   "cell_type": "markdown",
   "metadata": {},
   "source": [
    "gdje je m broj \"treninga\", odnosno veličina danih podataka"
   ]
  },
  {
   "cell_type": "markdown",
   "metadata": {},
   "source": [
    "Cilj nam je dobiti što bolju funkciju hipoteze, tj. **minimizirati funkciju pogreške**. *Idealno*, funkcija bi trebala proći kroz sve točke x. U tom slučaju je funkcija pogreške 0. "
   ]
  },
  {
   "cell_type": "markdown",
   "metadata": {},
   "source": [
    "### 4. Linearna regresija\n",
    "Neka je funkcija hipoteze sljedećeg oblika: <br>$h_{\\theta}(x)=\\theta_{n}\\cdot x_{n}+\\theta_{n-1}\\cdot x_{n-1}+...+\\theta_{1}\\cdot x_{1}+\\theta_{0}$<br><br>\n",
    "notacija: $x_{j}^{(i)}$=vrijednost svojstva j u i-tom treningu <br>\n",
    "$x^{(i)}$=svojstva i-tog treninga <br>\n",
    "$m$ = broj treninga <br>\n",
    "$n$ = broj svojstava \n",
    "\n",
    "*Primjer 4.1.: Znamo populaciju nekog grada i zanima nas predviđen profit prodaje hrane u usluznim djelatnostima s obzirom na dane podatke. *"
   ]
  },
  {
   "cell_type": "code",
   "execution_count": 421,
   "metadata": {},
   "outputs": [],
   "source": [
    "import matplotlib.pyplot as plt\n",
    "import numpy as np\n",
    "from numpy import matrix\n",
    "import pandas as pd\n",
    "from numpy import loadtxt, where\n",
    "from pylab import scatter, xlabel, ylabel, legend, show\n",
    "from numpy.linalg import inv\n",
    "import scipy.optimize as opt\n",
    "from sklearn.model_selection import train_test_split\n",
    "from sklearn.linear_model import LinearRegression\n",
    "from sklearn.linear_model import LogisticRegression\n",
    "from mpl_toolkits.mplot3d import Axes3D\n",
    "import copy\n",
    "from sklearn.metrics import accuracy_score\n",
    "\n",
    "\n",
    "%matplotlib inline"
   ]
  },
  {
   "cell_type": "code",
   "execution_count": 220,
   "metadata": {
    "scrolled": false
   },
   "outputs": [
    {
     "data": {
      "text/html": [
       "<div>\n",
       "<style scoped>\n",
       "    .dataframe tbody tr th:only-of-type {\n",
       "        vertical-align: middle;\n",
       "    }\n",
       "\n",
       "    .dataframe tbody tr th {\n",
       "        vertical-align: top;\n",
       "    }\n",
       "\n",
       "    .dataframe thead th {\n",
       "        text-align: right;\n",
       "    }\n",
       "</style>\n",
       "<table border=\"1\" class=\"dataframe\">\n",
       "  <thead>\n",
       "    <tr style=\"text-align: right;\">\n",
       "      <th></th>\n",
       "      <th>populacija</th>\n",
       "      <th>profit</th>\n",
       "    </tr>\n",
       "  </thead>\n",
       "  <tbody>\n",
       "    <tr>\n",
       "      <th>0</th>\n",
       "      <td>6.1101</td>\n",
       "      <td>17.5920</td>\n",
       "    </tr>\n",
       "    <tr>\n",
       "      <th>1</th>\n",
       "      <td>5.5277</td>\n",
       "      <td>9.1302</td>\n",
       "    </tr>\n",
       "    <tr>\n",
       "      <th>2</th>\n",
       "      <td>8.5186</td>\n",
       "      <td>13.6620</td>\n",
       "    </tr>\n",
       "    <tr>\n",
       "      <th>3</th>\n",
       "      <td>7.0032</td>\n",
       "      <td>11.8540</td>\n",
       "    </tr>\n",
       "    <tr>\n",
       "      <th>4</th>\n",
       "      <td>5.8598</td>\n",
       "      <td>6.8233</td>\n",
       "    </tr>\n",
       "    <tr>\n",
       "      <th>5</th>\n",
       "      <td>8.3829</td>\n",
       "      <td>11.8860</td>\n",
       "    </tr>\n",
       "    <tr>\n",
       "      <th>6</th>\n",
       "      <td>7.4764</td>\n",
       "      <td>4.3483</td>\n",
       "    </tr>\n",
       "    <tr>\n",
       "      <th>7</th>\n",
       "      <td>8.5781</td>\n",
       "      <td>12.0000</td>\n",
       "    </tr>\n",
       "    <tr>\n",
       "      <th>8</th>\n",
       "      <td>6.4862</td>\n",
       "      <td>6.5987</td>\n",
       "    </tr>\n",
       "    <tr>\n",
       "      <th>9</th>\n",
       "      <td>5.0546</td>\n",
       "      <td>3.8166</td>\n",
       "    </tr>\n",
       "  </tbody>\n",
       "</table>\n",
       "</div>"
      ],
      "text/plain": [
       "   populacija   profit\n",
       "0      6.1101  17.5920\n",
       "1      5.5277   9.1302\n",
       "2      8.5186  13.6620\n",
       "3      7.0032  11.8540\n",
       "4      5.8598   6.8233\n",
       "5      8.3829  11.8860\n",
       "6      7.4764   4.3483\n",
       "7      8.5781  12.0000\n",
       "8      6.4862   6.5987\n",
       "9      5.0546   3.8166"
      ]
     },
     "execution_count": 220,
     "metadata": {},
     "output_type": "execute_result"
    }
   ],
   "source": [
    "food = pd.read_csv('profit.txt', header=None,\\\n",
    "                   names=['populacija', 'profit'])\n",
    "  \n",
    "\n",
    "food.head(10)"
   ]
  },
  {
   "cell_type": "markdown",
   "metadata": {},
   "source": [
    "Korisno je prikazati podatke da bismo vidjeli kako nam linearna regresija treba izgledati."
   ]
  },
  {
   "cell_type": "code",
   "execution_count": 221,
   "metadata": {},
   "outputs": [
    {
     "data": {
      "text/plain": [
       "<matplotlib.collections.PathCollection at 0x1a14ef0748>"
      ]
     },
     "execution_count": 221,
     "metadata": {},
     "output_type": "execute_result"
    },
    {
     "data": {
      "image/png": "[encoded data removed]",
      "text/plain": [
       "<matplotlib.figure.Figure at 0x1a148c6ef0>"
      ]
     },
     "metadata": {},
     "output_type": "display_data"
    }
   ],
   "source": [
    "populacija = food.populacija.values\n",
    "profit = food.profit.values\n",
    "scatter(populacija, profit, marker='o')"
   ]
  },
  {
   "cell_type": "markdown",
   "metadata": {},
   "source": [
    "**Kod za izračunavanje funkcije greške:**"
   ]
  },
  {
   "cell_type": "markdown",
   "metadata": {},
   "source": [
    "Prvo definirajmo funkciju za izračunavanje vrijednosti funkcije hipoteze s obzirom na parametar $\\theta$ i dani $x$:"
   ]
  },
  {
   "cell_type": "code",
   "execution_count": 222,
   "metadata": {},
   "outputs": [],
   "source": [
    "def h(X, theta):\n",
    "    \n",
    "    return X * theta"
   ]
  },
  {
   "cell_type": "markdown",
   "metadata": {},
   "source": [
    "Funkciju za izračunavanje funkcije greške nazovimo cost:"
   ]
  },
  {
   "cell_type": "code",
   "execution_count": 223,
   "metadata": {},
   "outputs": [],
   "source": [
    "def cost(theta, X, y):\n",
    "    tmp1 = X * theta - y\n",
    "    tmp2 = tmp1.T * tmp1 \n",
    "    m = np.size(y) \n",
    "    \n",
    "    return (1/(2*m)) * tmp2"
   ]
  },
  {
   "cell_type": "markdown",
   "metadata": {},
   "source": [
    "### 5. Kako odrediti odgovarajuće parametre $\\theta$?"
   ]
  },
  {
   "cell_type": "markdown",
   "metadata": {},
   "source": [
    "Nakon što smo predstavili funkciju hipoteze i funkciju greške, preostaje\n",
    "odrediti odgovarajuće parametre. To ćemo učiniti pomoću ***gradient descenta***.\n",
    "\n",
    "Intuitivno, neka je funkcija hipoteze oblika $h_{\\theta}(x)=\\theta_{1}*x_{1}+\\theta_{0}$. Nacrtamo graf koji na x-osi ima parametar $\\theta_{0}$, a na y-osi $\\theta_{1}$, dok je na z-osi vrijednost funkcije $J(\\theta_{0},\\theta_{1})$. Znamo da nam je cilj pronaći minimum takve funkcije. To ćemo postići tako da krenemo od bilo koje točke i promatramo tangentu u toj točki koja će nam \"reći\" u kojem pravcu se trebamo gibati kako bismo došli do minimuma. Gibamo se u koracima veličine $\\alpha$. $\\alpha$ ne smije biti niti prevelik niti premalen. Ako se povećanjem broja iteracija, funkcija greške povećava, trebamo smanjiti $\\alpha$. No, ako je $\\alpha$ premalen, konvergencija može biti jako spora.\n",
    "        "
   ]
  },
  {
   "cell_type": "markdown",
   "metadata": {},
   "source": [
    "**Algoritam:** <br>\n",
    "*ponavljati dok ne konvergira:* <br>\n",
    "     $\\theta_{j}=\\theta_{j}-\\alpha\\frac{\\partial}{\\partial\\theta_{j}}J(\\theta_{0},\\theta_{1})\\cdot x_{j} $ <br><br>\n",
    "     $j=0,...,n$ <br>\n",
    "     $x_{0}=1$"
   ]
  },
  {
   "cell_type": "markdown",
   "metadata": {},
   "source": [
    "U matricu podataka potrebno je dodati u 1. stupac jedinice kako bismo mogli provesti prethodno napisani algoritam."
   ]
  },
  {
   "cell_type": "markdown",
   "metadata": {},
   "source": [
    "Možemo ubrzati taj algoritam tako da je svako svojstvo sličnog reda veličine. Za to postoje dva načina: <br>\n",
    "1. skaliranje svojstava <br>\n",
    "    $x_{i}:=\\frac{x_{i}}{max(x)-min(x)}$\n",
    "2. normalizacija <br>\n",
    "    $x_{i}:=\\frac{x_{i}-\\mu_{i}}{s_{i}}$\n"
   ]
  },
  {
   "cell_type": "markdown",
   "metadata": {},
   "source": [
    "Vratimo se na prethodni primjer i izračunajmo parametre za linearnu regresiju. <br>\n",
    "Prvo što je potrebno napisati funkciju koja računa *gradient descent*. "
   ]
  },
  {
   "cell_type": "code",
   "execution_count": 224,
   "metadata": {},
   "outputs": [],
   "source": [
    "def gradient_descent(theta, X, y, alpha, iterations):\n",
    "    m = np.size(y)\n",
    "    for i in range(iterations):\n",
    "        pred = np.dot(X, theta)\n",
    "        vel = np.size(theta)\n",
    "        for it in range(vel):\n",
    "            tmp = X[:, it]\n",
    "            err = (pred-y)*tmp\n",
    "            theta[it][0] = theta[it][0]-(alpha/m)*err.sum()\n",
    "            \n",
    "    return theta"
   ]
  },
  {
   "cell_type": "markdown",
   "metadata": {},
   "source": [
    "Korisno je koristiti vektorizirani oblik gradijenta za lakše izračunavanje."
   ]
  },
  {
   "cell_type": "code",
   "execution_count": 225,
   "metadata": {},
   "outputs": [],
   "source": [
    "def gradient_descent_vectorized(theta, X, y, alpha, iterations):\n",
    "    X = matrix(X)\n",
    "    y = matrix(y)\n",
    "    m = np.size(y)\n",
    "    step = alpha/m\n",
    "    for i in range(iterations):\n",
    "        theta -= step * X.T * (X*theta - y)\n",
    "    print(theta) \n",
    "    \n",
    "    return theta"
   ]
  },
  {
   "cell_type": "code",
   "execution_count": 226,
   "metadata": {},
   "outputs": [],
   "source": [
    "food.insert(0, 'jedinice', 1)  \n",
    "food_copy = copy.copy(food)"
   ]
  },
  {
   "cell_type": "markdown",
   "metadata": {},
   "source": [
    "Dakle, nakon dodavanja stupca jedinica u početne podatke matrica X je oblika:"
   ]
  },
  {
   "cell_type": "code",
   "execution_count": 227,
   "metadata": {},
   "outputs": [
    {
     "data": {
      "text/html": [
       "<div>\n",
       "<style scoped>\n",
       "    .dataframe tbody tr th:only-of-type {\n",
       "        vertical-align: middle;\n",
       "    }\n",
       "\n",
       "    .dataframe tbody tr th {\n",
       "        vertical-align: top;\n",
       "    }\n",
       "\n",
       "    .dataframe thead th {\n",
       "        text-align: right;\n",
       "    }\n",
       "</style>\n",
       "<table border=\"1\" class=\"dataframe\">\n",
       "  <thead>\n",
       "    <tr style=\"text-align: right;\">\n",
       "      <th></th>\n",
       "      <th>jedinice</th>\n",
       "      <th>populacija</th>\n",
       "      <th>profit</th>\n",
       "    </tr>\n",
       "  </thead>\n",
       "  <tbody>\n",
       "    <tr>\n",
       "      <th>0</th>\n",
       "      <td>1</td>\n",
       "      <td>6.1101</td>\n",
       "      <td>17.5920</td>\n",
       "    </tr>\n",
       "    <tr>\n",
       "      <th>1</th>\n",
       "      <td>1</td>\n",
       "      <td>5.5277</td>\n",
       "      <td>9.1302</td>\n",
       "    </tr>\n",
       "    <tr>\n",
       "      <th>2</th>\n",
       "      <td>1</td>\n",
       "      <td>8.5186</td>\n",
       "      <td>13.6620</td>\n",
       "    </tr>\n",
       "    <tr>\n",
       "      <th>3</th>\n",
       "      <td>1</td>\n",
       "      <td>7.0032</td>\n",
       "      <td>11.8540</td>\n",
       "    </tr>\n",
       "    <tr>\n",
       "      <th>4</th>\n",
       "      <td>1</td>\n",
       "      <td>5.8598</td>\n",
       "      <td>6.8233</td>\n",
       "    </tr>\n",
       "    <tr>\n",
       "      <th>5</th>\n",
       "      <td>1</td>\n",
       "      <td>8.3829</td>\n",
       "      <td>11.8860</td>\n",
       "    </tr>\n",
       "  </tbody>\n",
       "</table>\n",
       "</div>"
      ],
      "text/plain": [
       "   jedinice  populacija   profit\n",
       "0         1      6.1101  17.5920\n",
       "1         1      5.5277   9.1302\n",
       "2         1      8.5186  13.6620\n",
       "3         1      7.0032  11.8540\n",
       "4         1      5.8598   6.8233\n",
       "5         1      8.3829  11.8860"
      ]
     },
     "execution_count": 227,
     "metadata": {},
     "output_type": "execute_result"
    }
   ],
   "source": [
    "food.loc[:5, :]"
   ]
  },
  {
   "cell_type": "markdown",
   "metadata": {},
   "source": [
    "U svrhu daljnje analize podataka, podijelimo podatke na one s kojima ćemo *trenirati* linearni model i na one s kojima ćemo isti testirati."
   ]
  },
  {
   "cell_type": "code",
   "execution_count": 228,
   "metadata": {},
   "outputs": [],
   "source": [
    "food = matrix(food)\n",
    "X_population = food[:,0:2]\n",
    "y_profit = matrix(profit).T"
   ]
  },
  {
   "cell_type": "code",
   "execution_count": 232,
   "metadata": {},
   "outputs": [],
   "source": [
    "populacija1 = food_copy[['populacija']]\n",
    "profit1 = food_copy[['profit']]\n",
    "populacija_trening, populacija_test, profit_trening, profit_test = train_test_split(populacija1, profit1, test_size=0.25, random_state=1)"
   ]
  },
  {
   "cell_type": "code",
   "execution_count": 233,
   "metadata": {},
   "outputs": [],
   "source": [
    "populacija_trening.insert(0,'ones',1)"
   ]
  },
  {
   "cell_type": "markdown",
   "metadata": {},
   "source": [
    "Potrebno je odabrati proizvoljnu $\\theta$ od koje želimo da algoritam gradient descent kreće. Neka je $\\theta=(0,0)$."
   ]
  },
  {
   "cell_type": "code",
   "execution_count": 234,
   "metadata": {},
   "outputs": [],
   "source": [
    "theta = matrix(np.zeros((2,1)))"
   ]
  },
  {
   "cell_type": "markdown",
   "metadata": {},
   "source": [
    "Konačno, izračunajmo parametre $\\theta_{0}$ i $\\theta_{1}$ pomoću *gradient descenta*:"
   ]
  },
  {
   "cell_type": "code",
   "execution_count": 272,
   "metadata": {},
   "outputs": [
    {
     "name": "stdout",
     "output_type": "stream",
     "text": [
      "[[-3.91389141]\n",
      " [ 1.20103022]]\n"
     ]
    }
   ],
   "source": [
    "theta_new = gradient_descent_vectorized(theta, populacija_trening, profit_trening, alpha=0.01, iterations=1500)"
   ]
  },
  {
   "cell_type": "markdown",
   "metadata": {},
   "source": [
    "Iz svega napisanog slijedi: $$h_{\\theta}(x)=-3.9 + 1.2\\cdot x$$"
   ]
  },
  {
   "cell_type": "markdown",
   "metadata": {},
   "source": [
    "Prikažimo sada podatke na istom grafu kao i pravac s procijenjenim parametrima."
   ]
  },
  {
   "cell_type": "code",
   "execution_count": 236,
   "metadata": {},
   "outputs": [
    {
     "data": {
      "text/plain": [
       "[<matplotlib.lines.Line2D at 0x1a14677320>]"
      ]
     },
     "execution_count": 236,
     "metadata": {},
     "output_type": "execute_result"
    },
    {
     "data": {
      "image/png": "[encoded data removed]",
      "text/plain": [
       "<matplotlib.figure.Figure at 0x1a14760438>"
      ]
     },
     "metadata": {},
     "output_type": "display_data"
    }
   ],
   "source": [
    "plt.figure()\n",
    "plt.scatter(populacija, profit, marker='o')\n",
    "x_axis = np.arange(5.0,25.0,0.01)\n",
    "h_food = theta_new[0] + theta_new[1]*x_axis\n",
    "plt.plot(x_axis, h_food.T, c='r')"
   ]
  },
  {
   "cell_type": "markdown",
   "metadata": {},
   "source": [
    "Provjerimo kolika nam je greška."
   ]
  },
  {
   "cell_type": "code",
   "execution_count": 247,
   "metadata": {},
   "outputs": [
    {
     "data": {
      "text/plain": [
       "4.745767763297125"
      ]
     },
     "execution_count": 247,
     "metadata": {},
     "output_type": "execute_result"
    }
   ],
   "source": [
    "cost(theta_new, matrix(populacija_trening), matrix(profit_trening)).item(0)"
   ]
  },
  {
   "cell_type": "markdown",
   "metadata": {},
   "source": [
    "Drugi način za  određivanje odgovarajućih parametara je **normalna jednadžba**. <br>\n",
    "Ovom metodom, minimiziramo funkciju $J(\\theta)$ tako da eksplicitno deriviramo po $\\theta_{j}$ te derivacije izjednačavamo s 0. Tako nalazimo optimum bez iteracija. \n",
    "$$\\theta=(X^{T}X)^{-1}X^{T}y$$ <br>\n",
    "Ova metoda je bolja jer ne trebamo odabirati $\\alpha$, nemamo iteracija, no složenija je i sporija ako je broj svojstava velik."
   ]
  },
  {
   "cell_type": "markdown",
   "metadata": {},
   "source": [
    "Prethodni primjer gdje koristimo normalnu jednadžbu kako bismo odredili odgovarajuće parametre $\\theta$:"
   ]
  },
  {
   "cell_type": "markdown",
   "metadata": {},
   "source": [
    "Koristimo već zapisanu formulu $\\theta=(X^{T}X)^{-1}X^{T}y$. <br>\n",
    "Važno je napomenuti da, kao i za algoritam gradient descenta, vrijednost $x_{0}$ postavljamo na 1. "
   ]
  },
  {
   "cell_type": "code",
   "execution_count": 273,
   "metadata": {},
   "outputs": [
    {
     "data": {
      "text/plain": [
       "matrix([[-3.91425855],\n",
       "        [ 1.20106494]])"
      ]
     },
     "execution_count": 273,
     "metadata": {},
     "output_type": "execute_result"
    }
   ],
   "source": [
    "theta_normal = inv(matrix(populacija_trening).T*matrix(populacija_trening))*matrix(populacija_trening).T*matrix(profit_trening)\n",
    "theta_normal"
   ]
  },
  {
   "cell_type": "markdown",
   "metadata": {},
   "source": [
    "Dakle, metodom normalne jednadžbe funkcija hipoteze je:\n",
    "$$h_{\\theta}(x)=-3.9+1.2\\cdot x$$"
   ]
  },
  {
   "cell_type": "code",
   "execution_count": 274,
   "metadata": {},
   "outputs": [
    {
     "data": {
      "text/plain": [
       "4.742388083390439"
      ]
     },
     "execution_count": 274,
     "metadata": {},
     "output_type": "execute_result"
    }
   ],
   "source": [
    "cost(theta_normal, matrix(populacija_trening), matrix(profit_trening)).item(0)"
   ]
  },
  {
   "cell_type": "markdown",
   "metadata": {},
   "source": [
    "Uspoređujući funkciju troška s obzirom na parametre dobivene *gradient descentom* i normalnom jednadžbom, primjećujemo da su približno iste vrijednosti."
   ]
  },
  {
   "cell_type": "markdown",
   "metadata": {},
   "source": [
    "Postoji i treći način računanja, pomoću funkcije LinearRegression():"
   ]
  },
  {
   "cell_type": "code",
   "execution_count": 284,
   "metadata": {},
   "outputs": [
    {
     "name": "stdout",
     "output_type": "stream",
     "text": [
      "Koeficijent za populacija je 1.2010649380311595\n"
     ]
    }
   ],
   "source": [
    "regression_model = LinearRegression()\n",
    "regression_model.fit(populacija_trening, profit_trening)\n",
    "print(\"Koeficijent za {} je {}\".format(col_name, regression_model.coef_[0][1]))\n"
   ]
  },
  {
   "cell_type": "code",
   "execution_count": 285,
   "metadata": {},
   "outputs": [
    {
     "name": "stdout",
     "output_type": "stream",
     "text": [
      "Sjeciste s osi y iznosi -3.9142585508694676\n"
     ]
    }
   ],
   "source": [
    "intercept = regression_model.intercept_[0]\n",
    "print(\"Sjeciste s osi y iznosi {}\".format(intercept))"
   ]
  },
  {
   "cell_type": "markdown",
   "metadata": {},
   "source": [
    "Dakle, i s trećim načinom dobivamo približno isti rezultat. Provjerimo točnost tako dobivene hipoteze na testnim podacima."
   ]
  },
  {
   "cell_type": "code",
   "execution_count": 292,
   "metadata": {},
   "outputs": [],
   "source": [
    "populacija_test.insert(0, 'ones', 1)"
   ]
  },
  {
   "cell_type": "code",
   "execution_count": 294,
   "metadata": {},
   "outputs": [
    {
     "data": {
      "text/plain": [
       "0.33277307953790625"
      ]
     },
     "execution_count": 294,
     "metadata": {},
     "output_type": "execute_result"
    }
   ],
   "source": [
    "regression_model.score(populacija_test, profit_test)"
   ]
  },
  {
   "cell_type": "markdown",
   "metadata": {},
   "source": [
    "### 6. Polinomijalna regresija\n",
    "Hipoteza ne mora biti linearna funkcija ako dobro ne opisuje zadane podatke. Možemo promijeniti ponašanje krivulje tako da odaberemo kvadratnu, kubičnu ili neku sličnu krivulju. "
   ]
  },
  {
   "cell_type": "markdown",
   "metadata": {},
   "source": [
    "### 7. Logistička regresija"
   ]
  },
  {
   "cell_type": "markdown",
   "metadata": {},
   "source": [
    "Što raditi kada imamo problem klasifikacije, tj. *output* je diskretna varijabla? <br>\n",
    "*Primjer 7.1.*: Želimo napraviti algoritam koji prepoznaje spam mail. Neka je $y=1$ ako je to spam, u suprotnom $y=0$. Dakle, $y\\in{0,1}$. <br>\n",
    "0 se često naziva negativnom klasom, a 1 pozitivnom. "
   ]
  },
  {
   "cell_type": "markdown",
   "metadata": {},
   "source": [
    "Za potrebe klasifikacije, konstruiramo novu funkciju - **sigmoid function** ili **logistička funkcija**. <br>\n",
    "$$h_{\\theta}=g(\\theta^{T}x)$$ <br>\n",
    "$$z=\\theta^{T}x$$ <br>\n",
    "$$g(z)=\\frac{1}{1+e^{-z}} $$"
   ]
  },
  {
   "cell_type": "markdown",
   "metadata": {},
   "source": [
    "Sljedeća slika prikazuje izgled logističke funkcije:"
   ]
  },
  {
   "cell_type": "code",
   "execution_count": 87,
   "metadata": {},
   "outputs": [],
   "source": [
    "def sigmoid(x):\n",
    "    s = 1.0 + np.exp(-x)\n",
    "    s = 1.0/s \n",
    "    \n",
    "    return s"
   ]
  },
  {
   "cell_type": "code",
   "execution_count": 88,
   "metadata": {},
   "outputs": [
    {
     "data": {
      "image/png": "[encoded data removed]",
      "text/plain": [
       "<matplotlib.figure.Figure at 0x1a145efa20>"
      ]
     },
     "metadata": {},
     "output_type": "display_data"
    }
   ],
   "source": [
    "x = np.arange(-10., 10., 0.2)\n",
    "y = np.linspace(0, len(x), len(x))\n",
    "\n",
    "plt.plot(x, sigmoid(x))\n",
    "plt.grid(True, which='both')\n",
    "plt.axhline(y=0, color='k')\n",
    "plt.axvline(x=0, color='k')\n",
    "plt.ylim(-0.1,1.1)\n",
    "plt.title('Logisticka funkcija')\n",
    "plt.show()"
   ]
  },
  {
   "cell_type": "markdown",
   "metadata": {},
   "source": [
    "Očito je da logistička funkcija poprima vrijednosti između 0 i 1 što je čini pogodnim izborom za klasifikacijske probleme. <br>\n",
    "$h_{\\theta}(x)$ daje **vjerojatnost** da je naš *output* 1. Preciznije, $h_{\\theta}(x)=P(y=1|x;\\theta)$"
   ]
  },
  {
   "cell_type": "markdown",
   "metadata": {},
   "source": [
    "Uz sve rečeno, granica odlučivanja je linija koja razdvaja podatke gdje je y=1 od onih gdje je y=0. <br>\n",
    "$h_{\\theta}\\geq0.5\\rightarrow y=1$ <br>\n",
    "$h_{\\theta}<0.5\\rightarrow y=0$"
   ]
  },
  {
   "cell_type": "markdown",
   "metadata": {},
   "source": [
    "Potrebno je prilagoditi i funkciju greške zbog toga što bi logistička funkcija na prethodno definiranoj funkciji greške uzrokovala puno lokalnih optimuma, tj. ne bi bila konveksna. "
   ]
  },
  {
   "cell_type": "markdown",
   "metadata": {},
   "source": [
    "$$J(\\theta)=\\frac{1}{m}\\sum_{i=1}^{m}Cost(h_{\\theta}(x^{(i)},y^{(i)})$$"
   ]
  },
  {
   "cell_type": "markdown",
   "metadata": {},
   "source": [
    "$Cost(h_{\\theta}(x),y)=-log(h_{\\theta}(x))$ ako y=1 <br>\n",
    "$Cost(h_{\\theta}(x),y)=-log(1-h_{\\theta}(x))$ ako y=0 "
   ]
  },
  {
   "cell_type": "code",
   "execution_count": 89,
   "metadata": {},
   "outputs": [],
   "source": [
    "def log_cost(theta,X,y):\n",
    "    theta = np.matrix(theta)\n",
    "    y = np.matrix(y)\n",
    "    X = np.matrix(X)\n",
    "    m = len(X)\n",
    "    tmp1 = np.multiply(-y, np.log(sigmoid(X*theta.T)))\n",
    "    tmp2 = np.multiply((1-y), np.log(1-sigmoid(X*theta.T)))\n",
    "    J = np.sum(tmp1-tmp2)/m\n",
    "    return J"
   ]
  },
  {
   "cell_type": "markdown",
   "metadata": {},
   "source": [
    "Prilažem i vektorizirani oblik izračunavanja funkcije greške logističke regresije."
   ]
  },
  {
   "cell_type": "code",
   "execution_count": 90,
   "metadata": {},
   "outputs": [],
   "source": [
    "def log_cost_vectorized(theta, X, y):\n",
    "    theta = np.matrix(theta).T\n",
    "    m = np.size(y)\n",
    "    J = -(y.T * np.log(sigmoid(X*theta))) - \\\n",
    "        ((1-y).T * np.log(1 - sigmoid(X*theta)))\n",
    "    \n",
    "    return J/m"
   ]
  },
  {
   "cell_type": "markdown",
   "metadata": {},
   "source": [
    "Izgled funkcije greške logističke regresije s obzirom na vrijednosti y:"
   ]
  },
  {
   "cell_type": "code",
   "execution_count": 91,
   "metadata": {},
   "outputs": [
    {
     "data": {
      "image/png": "[encoded data removed]",
      "text/plain": [
       "<matplotlib.figure.Figure at 0x1a14654e80>"
      ]
     },
     "metadata": {},
     "output_type": "display_data"
    }
   ],
   "source": [
    "x = np.arange(0.001, 1., 0.01)\n",
    "y = np.linspace(0, len(x), len(x))\n",
    "sig = -np.log(x)\n",
    "plt.plot(x, sig)\n",
    "plt.title('ako je y=1')\n",
    "plt.xlabel('h(x)')\n",
    "plt.show()"
   ]
  },
  {
   "cell_type": "code",
   "execution_count": 92,
   "metadata": {},
   "outputs": [
    {
     "data": {
      "image/png": "[encoded data removed]",
      "text/plain": [
       "<matplotlib.figure.Figure at 0x1a145ef828>"
      ]
     },
     "metadata": {},
     "output_type": "display_data"
    }
   ],
   "source": [
    "x = np.arange(0., 0.99, 0.01)\n",
    "y = np.linspace(0, len(x), len(x))\n",
    "sig = -np.log(1-x)\n",
    "plt.plot(x, sig)\n",
    "plt.title('ako je y=0')\n",
    "plt.xlabel('h(x)')\n",
    "plt.show()"
   ]
  },
  {
   "cell_type": "markdown",
   "metadata": {},
   "source": [
    "Vidimo da je u oba slučaja funkcija greške konveksna funkcija."
   ]
  },
  {
   "cell_type": "markdown",
   "metadata": {},
   "source": [
    "Gradijent funkcije troška je vektor čiji je j-ti element definiran na sljedeći način:"
   ]
  },
  {
   "cell_type": "markdown",
   "metadata": {},
   "source": [
    "$$\\frac{\\partial J(\\theta)}{\\partial \\theta_{j}}=\\frac{1}{m}\\sum_{i=1}^{m}(h_{\\theta}(x^{(i)}-y^{(i)})x_{j}^{(i)}$$"
   ]
  },
  {
   "cell_type": "code",
   "execution_count": 93,
   "metadata": {},
   "outputs": [],
   "source": [
    "def grad(theta, X, y):\n",
    "    theta = np.matrix(theta)\n",
    "    y = np.matrix(y)\n",
    "    X = np.matrix(X)\n",
    "    gradient = np.zeros(3)\n",
    "    rez = gradient.size\n",
    "    razlika = sigmoid(X.dot(theta.T))-y\n",
    "    m = X.shape[0]\n",
    "    for i in range(rez):\n",
    "        temp5 = razlika.T.dot(X[:,i])\n",
    "        gradient[i] = (1.0/m)*temp5*-1\n",
    "    theta.shape = (3,)\n",
    "    return gradient"
   ]
  },
  {
   "cell_type": "code",
   "execution_count": 94,
   "metadata": {},
   "outputs": [],
   "source": [
    "def gradient_vectorized(theta, X, y):\n",
    "    m = np.size(y)\n",
    "    theta = matrix(theta).T\n",
    "    grad = X.T * (sigmoid(X * theta) - y)\n",
    "    \n",
    "    return grad/m"
   ]
  },
  {
   "cell_type": "markdown",
   "metadata": {},
   "source": [
    "Pokažimo logističku regresiju na primjeru: <br>\n",
    "*Primjer 7.2.: Administratori smo nekog sveučilišta i želimo procijeniti vjerojatnost primanja na sveučilište svakog prijavljenog studenta s obzirom na rezultate postignute na dva testa.* <br>"
   ]
  },
  {
   "cell_type": "code",
   "execution_count": 340,
   "metadata": {},
   "outputs": [
    {
     "data": {
      "text/html": [
       "<div>\n",
       "<style scoped>\n",
       "    .dataframe tbody tr th:only-of-type {\n",
       "        vertical-align: middle;\n",
       "    }\n",
       "\n",
       "    .dataframe tbody tr th {\n",
       "        vertical-align: top;\n",
       "    }\n",
       "\n",
       "    .dataframe thead th {\n",
       "        text-align: right;\n",
       "    }\n",
       "</style>\n",
       "<table border=\"1\" class=\"dataframe\">\n",
       "  <thead>\n",
       "    <tr style=\"text-align: right;\">\n",
       "      <th></th>\n",
       "      <th>test_1</th>\n",
       "      <th>test_2</th>\n",
       "      <th>primljeni</th>\n",
       "    </tr>\n",
       "  </thead>\n",
       "  <tbody>\n",
       "    <tr>\n",
       "      <th>0</th>\n",
       "      <td>34.623660</td>\n",
       "      <td>78.024693</td>\n",
       "      <td>0</td>\n",
       "    </tr>\n",
       "    <tr>\n",
       "      <th>1</th>\n",
       "      <td>30.286711</td>\n",
       "      <td>43.894998</td>\n",
       "      <td>0</td>\n",
       "    </tr>\n",
       "    <tr>\n",
       "      <th>2</th>\n",
       "      <td>35.847409</td>\n",
       "      <td>72.902198</td>\n",
       "      <td>0</td>\n",
       "    </tr>\n",
       "    <tr>\n",
       "      <th>3</th>\n",
       "      <td>60.182599</td>\n",
       "      <td>86.308552</td>\n",
       "      <td>1</td>\n",
       "    </tr>\n",
       "    <tr>\n",
       "      <th>4</th>\n",
       "      <td>79.032736</td>\n",
       "      <td>75.344376</td>\n",
       "      <td>1</td>\n",
       "    </tr>\n",
       "    <tr>\n",
       "      <th>5</th>\n",
       "      <td>45.083277</td>\n",
       "      <td>56.316372</td>\n",
       "      <td>0</td>\n",
       "    </tr>\n",
       "    <tr>\n",
       "      <th>6</th>\n",
       "      <td>61.106665</td>\n",
       "      <td>96.511426</td>\n",
       "      <td>1</td>\n",
       "    </tr>\n",
       "    <tr>\n",
       "      <th>7</th>\n",
       "      <td>75.024746</td>\n",
       "      <td>46.554014</td>\n",
       "      <td>1</td>\n",
       "    </tr>\n",
       "    <tr>\n",
       "      <th>8</th>\n",
       "      <td>76.098787</td>\n",
       "      <td>87.420570</td>\n",
       "      <td>1</td>\n",
       "    </tr>\n",
       "    <tr>\n",
       "      <th>9</th>\n",
       "      <td>84.432820</td>\n",
       "      <td>43.533393</td>\n",
       "      <td>1</td>\n",
       "    </tr>\n",
       "  </tbody>\n",
       "</table>\n",
       "</div>"
      ],
      "text/plain": [
       "      test_1     test_2  primljeni\n",
       "0  34.623660  78.024693          0\n",
       "1  30.286711  43.894998          0\n",
       "2  35.847409  72.902198          0\n",
       "3  60.182599  86.308552          1\n",
       "4  79.032736  75.344376          1\n",
       "5  45.083277  56.316372          0\n",
       "6  61.106665  96.511426          1\n",
       "7  75.024746  46.554014          1\n",
       "8  76.098787  87.420570          1\n",
       "9  84.432820  43.533393          1"
      ]
     },
     "execution_count": 340,
     "metadata": {},
     "output_type": "execute_result"
    }
   ],
   "source": [
    "exams = pd.read_csv('studentsdata.txt', sep=',', names=['test_1', 'test_2', 'primljeni'])\n",
    "exams.head(10)"
   ]
  },
  {
   "cell_type": "markdown",
   "metadata": {},
   "source": [
    "Prvo je svakako korisno vizualizirati podatke:"
   ]
  },
  {
   "cell_type": "code",
   "execution_count": 341,
   "metadata": {},
   "outputs": [
    {
     "data": {
      "image/png": "[encoded data removed]",
      "text/plain": [
       "<matplotlib.figure.Figure at 0x1a15159d68>"
      ]
     },
     "metadata": {},
     "output_type": "display_data"
    }
   ],
   "source": [
    "fig,ax=plt.subplots(figsize=(8,6))\n",
    "pos = exams[exams['primljeni'].isin([1])]\n",
    "neg = exams[exams['primljeni'].isin([0])]\n",
    "scatter(pos['test_1'], pos['test_2'], marker='o', c='g', label='Primljeni')\n",
    "scatter(neg['test_1'], neg['test_2'], marker='x', c='b', label='Nisu primljeni')\n",
    "ax.legend()\n",
    "xlabel('Broj postignutih bodova na prvom testu')\n",
    "ylabel('Broj postignutih bodova na drugom testu')\n",
    "show()"
   ]
  },
  {
   "cell_type": "markdown",
   "metadata": {},
   "source": [
    "Gdje su zeleno označeni primljeni, a plavo označeni nisu primljeni na fakultet. <br>\n"
   ]
  },
  {
   "cell_type": "markdown",
   "metadata": {},
   "source": [
    "Da bismo odredili vjerojatnost primanja studenta na sveučilište s obzirom na dva testa, prvo moramo naći minimum funkcije greške, tj. odrediti parametre za logističku regresiju. U tu svrhu koristimo scipy funkciju **fmin_tnc**. "
   ]
  },
  {
   "cell_type": "code",
   "execution_count": 342,
   "metadata": {},
   "outputs": [],
   "source": [
    "def random_numbers_generator(a, b, d1, d2):\n",
    "    v = np.random.rand(d1, d2)\n",
    "    v = (b-a)*v + a \n",
    "    \n",
    "    return v"
   ]
  },
  {
   "cell_type": "code",
   "execution_count": 343,
   "metadata": {},
   "outputs": [],
   "source": [
    "exams.insert(0, 'jedinice', 1)"
   ]
  },
  {
   "cell_type": "code",
   "execution_count": 344,
   "metadata": {},
   "outputs": [],
   "source": [
    "theta = matrix(random_numbers_generator(-0.5, 0.5, 3, 1), dtype=float)"
   ]
  },
  {
   "cell_type": "markdown",
   "metadata": {},
   "source": [
    "Dodali smo stupac jedinica u podatke kako bismo mogli pozvati funkciju log_cost_vectorized, za početnu $\\theta$ uzimamo onu generiranu slučajnim odabirom. Pomoću definirane funkcije random_numbers_generator prilagođena je veličina $\\theta$. Kao i u primjeru linearne regresije, podijelimo skup podataka na testni i skup za trening."
   ]
  },
  {
   "cell_type": "code",
   "execution_count": 492,
   "metadata": {},
   "outputs": [],
   "source": [
    "X_e = exams[['test_1', 'test_2']]\n",
    "y_e = matrix(exams[['primljeni']])\n",
    "Xe_train, Xe_test, ye_train, ye_test = train_test_split(X_e, y_e, test_size=0.25, random_state=1)"
   ]
  },
  {
   "cell_type": "code",
   "execution_count": 493,
   "metadata": {},
   "outputs": [],
   "source": [
    "Xe_train.insert(0, 'ones', 1)"
   ]
  },
  {
   "cell_type": "code",
   "execution_count": 494,
   "metadata": {},
   "outputs": [],
   "source": [
    "X_exams = matrix(Xe_train)\n",
    "y_exams = matrix(ye_train)"
   ]
  },
  {
   "cell_type": "code",
   "execution_count": 440,
   "metadata": {},
   "outputs": [
    {
     "data": {
      "text/plain": [
       "array([-28.68783055,   0.23300577,   0.23416289])"
      ]
     },
     "execution_count": 440,
     "metadata": {},
     "output_type": "execute_result"
    }
   ],
   "source": [
    "parametri = opt.fmin_tnc(func=log_cost_vectorized, fprime=gradient_vectorized, x0=theta, args=(X_exams, y_exams))\n",
    "parametri = np.array(parametri[0])\n",
    "parametri"
   ]
  },
  {
   "cell_type": "markdown",
   "metadata": {},
   "source": [
    "Slijedi, $$h_{\\theta}(x) = -28.69 + 0.23\\cdot x1 + 0.23\\cdot x2$$"
   ]
  },
  {
   "cell_type": "markdown",
   "metadata": {},
   "source": [
    "Prikažimo dobivenu logističku regresiju na grafu zajedno s podacima:"
   ]
  },
  {
   "cell_type": "code",
   "execution_count": 384,
   "metadata": {},
   "outputs": [
    {
     "data": {
      "image/png": "[encoded data removed]",
      "text/plain": [
       "<matplotlib.figure.Figure at 0x1a16bcf630>"
      ]
     },
     "metadata": {},
     "output_type": "display_data"
    }
   ],
   "source": [
    "fig,ax=plt.subplots(figsize=(8,6))\n",
    "pos = exams[exams['primljeni'].isin([1])]\n",
    "neg = exams[exams['primljeni'].isin([0])]\n",
    "scatter(pos['test_1'], pos['test_2'], marker='o', c='g', label='Primljeni')\n",
    "scatter(neg['test_1'], neg['test_2'], marker='x', c='b', label='Nisu primljeni')\n",
    "x = np.arange(20,110,0.1)\n",
    "plt.plot(x, (-parametri[0]-parametri[1]*x)/parametri[2], label='granica odlučivanja')\n",
    "ax.legend()\n",
    "xlabel('Broj postignutih bodova na prvom testu')\n",
    "ylabel('Broj postignutih bodova na drugom testu')\n",
    "show()"
   ]
  },
  {
   "cell_type": "markdown",
   "metadata": {},
   "source": [
    "Izračunajmo i funkciju greške:"
   ]
  },
  {
   "cell_type": "code",
   "execution_count": 353,
   "metadata": {},
   "outputs": [
    {
     "data": {
      "text/plain": [
       "matrix([[0.17550184]])"
      ]
     },
     "execution_count": 353,
     "metadata": {},
     "output_type": "execute_result"
    }
   ],
   "source": [
    "log_cost_vectorized(parametri, X_exams, y_exams)"
   ]
  },
  {
   "cell_type": "markdown",
   "metadata": {},
   "source": [
    "Pretpostavimo da imamo studenta koji je na prvom testu ostvario 45 bodova, a na drugom 85. Izračunajmo vjerojatnost da bude primljen na sveučilište."
   ]
  },
  {
   "cell_type": "code",
   "execution_count": 354,
   "metadata": {},
   "outputs": [],
   "source": [
    "def predict(theta, x):\n",
    "    p = sigmoid(x*theta)\n",
    "    \n",
    "    return p"
   ]
  },
  {
   "cell_type": "code",
   "execution_count": 355,
   "metadata": {},
   "outputs": [
    {
     "data": {
      "text/plain": [
       "'84.57%'"
      ]
     },
     "execution_count": 355,
     "metadata": {},
     "output_type": "execute_result"
    }
   ],
   "source": [
    "student = matrix(np.array([1, 45, 85]))\n",
    "vjerojatnost = predict(matrix(parametri).T, student)\n",
    "\"{0:.2f}%\".format(vjerojatnost.item(0)*100)"
   ]
  },
  {
   "cell_type": "markdown",
   "metadata": {},
   "source": [
    "### 8. Problem *overfittinga*"
   ]
  },
  {
   "cell_type": "markdown",
   "metadata": {},
   "source": [
    "Promatrajmo problem predviđanja y s obzirom na x $\\in R$. Prvi graf prikazuje rezultat prilagdođavanja $y=\\theta_{0}+\\theta_{1}x$ zadanim podacima. Vidimo da podaci zapravo ne leže na ravnoj liniji pa procjena nije dovoljno dobra. <br>\n",
    "Međutim, postoji i opasnost u dodavanju previše svojstava. Drugi graf je rezultat opisivanja podataka polinomom stupnja 2. Iako krivulja savršeno opisuje zadane podatke, ona nije dobar predikator. <br>\n",
    "\n"
   ]
  },
  {
   "cell_type": "code",
   "execution_count": 994,
   "metadata": {},
   "outputs": [
    {
     "data": {
      "text/plain": [
       "[<matplotlib.lines.Line2D at 0x1518780b70>]"
      ]
     },
     "execution_count": 994,
     "metadata": {},
     "output_type": "execute_result"
    },
    {
     "data": {
      "image/png": "[encoded data removed]",
      "text/plain": [
       "<matplotlib.figure.Figure at 0x15188ba2e8>"
      ]
     },
     "metadata": {},
     "output_type": "display_data"
    }
   ],
   "source": [
    "def f1(t):\n",
    "    return t\n",
    "\n",
    "def f3(t):\n",
    "    return t**2\n",
    "\n",
    "x = np.arange(-4, 5, 1)\n",
    "y1 = f3(x)\n",
    "plt.figure(1)\n",
    "plt.subplot(211)\n",
    "plt.plot(x, y1, 'ro')\n",
    "plt.plot(x, f1(x))\n",
    "\n",
    "plt.subplot(212)\n",
    "y2 = f3(x)\n",
    "plt.plot(x, y1, 'ro')\n",
    "plt.plot(x, y2)"
   ]
  },
  {
   "cell_type": "markdown",
   "metadata": {},
   "source": [
    "Kažemo da je prvi graf primjer *underfittinga* - krivulja ne opisuje dobro podatke, dok je drugi graf primjer *overfittinga*. <br>  <br>\n",
    "**Kada se overfitting može dogoditi?**<br>\n",
    "Uzmimo za primjer da nam je dan neki skup podataka na temelju kojega želimo predvidjeti vrijednosti *outputa* za bilo koji *input*. Sljedeće što nam se može dogoditi je da s funkcijom hipoteze savršeno opišemo naše dane podatke, no ako uzmemo neki novi *input* $x$ da funkcija hipoteze ne predviđa dobar *output* $y$. Kao što je već spomenuto, to se može dogoditi ako treniramo model na cijelom skupu podataka koje imamo i tako prouzročimo da model savršeno radi za te podatke, no za nove, testne podatke ne daje dobar rezultat. <br><br>\n",
    "**Rješavanje problema overfittinga:** <br>\n",
    "1. smanjenje broja svojstava\n",
    "2. regularizacija"
   ]
  },
  {
   "cell_type": "markdown",
   "metadata": {},
   "source": [
    "**Regularizacija:** <br>\n",
    "Funkcija troška postaje: <br>\n",
    "$$\\frac{1}{2m}\\sum_{i=1}^{m}(h_{\\theta}(x^{(i)}-y^{(i)})^{2}+\\lambda\\sum_{j=1}^{n}\\theta_{j}^{2}$$"
   ]
  },
  {
   "cell_type": "markdown",
   "metadata": {},
   "source": [
    "$\\lambda$ je parametar učenja. Koristeći takvu funkciju troška smanjujemo *overfitting*. No, $\\lambda$ ne smije biti prevelik kako ne bismo došli do *underfittinga*. "
   ]
  },
  {
   "cell_type": "code",
   "execution_count": 531,
   "metadata": {},
   "outputs": [],
   "source": [
    "def cost_reg(theta, X, y, rate):\n",
    "    theta = np.matrix(theta)\n",
    "    X = np.matrix(X)\n",
    "    y = np.matrix(y)\n",
    "    tmp1 = np.multiply(-y, np.log(sigmoid(X * theta.T)))\n",
    "    tmp2 = np.multiply((1 - y), np.log(1-sigmoid(X * theta.T)))\n",
    "    regularization = (rate / (2 * len(X))) * np.sum(np.power(theta[:,1:theta.shape[1]], 2))\n",
    "    \n",
    "    return np.sum(tmp1 - tmp2) / (len(X)) + regularization"
   ]
  },
  {
   "cell_type": "code",
   "execution_count": 532,
   "metadata": {},
   "outputs": [],
   "source": [
    "def cost_reg_vectorized(theta, X, y, rate):\n",
    "    theta = np.matrix(theta).T\n",
    "    m = np.size(y)\n",
    "    J = -(y.T * np.log(sigmoid(X*theta))) - \\\n",
    "        ((1-y).T * np.log(1 - sigmoid(X*theta)))\n",
    "    reg = (rate / (2 * len(X)) * np.sum(np.power(theta[:,1:theta.shape[1]], 2)))\n",
    "    return J/(2*m) "
   ]
  },
  {
   "cell_type": "markdown",
   "metadata": {},
   "source": [
    "**Regularizirana linearna i logistička regresija:** <br>\n",
    "Modificirani gradijent: <br>\n",
    "            Repeat {\n",
    " $$\\theta_{0}:=\\theta_{0}-\\alpha\\frac{1}{m}\\sum_{i=1}^{m}(h_{\\theta}(x^{(i)}-y^{(i)})x_{0}^{(i)}$$ \n",
    " $$\\theta_{j}:=\\theta_{j}-\\alpha((\\frac{1}{m}\\sum_{i=1}^{m}(h_{\\theta}(x^{(i)}-y^{(i)})x_{j}^{(i)})+\\frac{\\lambda}{m}\\theta_{j})$$\n",
    "} <br>\n",
    "j$\\in${1,2,...,n}"
   ]
  },
  {
   "cell_type": "code",
   "execution_count": 536,
   "metadata": {},
   "outputs": [],
   "source": [
    "def gradient_reg(theta, X, y, rate):\n",
    "    X = np.matrix(X)\n",
    "    y = np.matrix(y)\n",
    "    theta = np.matrix(theta)\n",
    "    rez = theta.size\n",
    "    gradient = np.zeros(rez)\n",
    "    razlika = sigmoid(X * theta.T) - y\n",
    "    m = X.shape[0]\n",
    "    for i in range(rez):\n",
    "        tmp = np.multiply(razlika, X[:,i])\n",
    "        if (i == 0):\n",
    "            gradient[i] = np.sum(tmp) / len(X)\n",
    "        else:\n",
    "            gradient[i] = (np.sum(tmp) / len(X)) + ((rate / len(X)) * theta[:, i])\n",
    "            \n",
    "    return gradient"
   ]
  },
  {
   "cell_type": "code",
   "execution_count": 537,
   "metadata": {},
   "outputs": [],
   "source": [
    "def gradient_reg_vectorized(theta, X, y, rate):\n",
    "    X = np.matrix(X)\n",
    "    y = np.matrix(y)\n",
    "    theta = matrix(theta).T\n",
    "    grad = np.zeros(theta.size)\n",
    "    new_theta = theta\n",
    "    new_theta[0] = 0\n",
    "    m = y.size\n",
    "    grad = (1/m) * (X.T * (sigmoid(X * theta) - y)) + new_theta * (rate/m)\n",
    "    \n",
    "    return grad"
   ]
  },
  {
   "cell_type": "markdown",
   "metadata": {},
   "source": [
    "*Primjer 8.1.: Pretpostavimo da vodimo tvornicu i na raspolaganju su nam podatci o mikročipovima s obzirom na dva testa. Na temelju tih testova, želimo procijeniti treba li mikročip biti stavljen u prodaju ili odbačen.*"
   ]
  },
  {
   "cell_type": "code",
   "execution_count": 520,
   "metadata": {},
   "outputs": [
    {
     "data": {
      "text/html": [
       "<div>\n",
       "<style scoped>\n",
       "    .dataframe tbody tr th:only-of-type {\n",
       "        vertical-align: middle;\n",
       "    }\n",
       "\n",
       "    .dataframe tbody tr th {\n",
       "        vertical-align: top;\n",
       "    }\n",
       "\n",
       "    .dataframe thead th {\n",
       "        text-align: right;\n",
       "    }\n",
       "</style>\n",
       "<table border=\"1\" class=\"dataframe\">\n",
       "  <thead>\n",
       "    <tr style=\"text-align: right;\">\n",
       "      <th></th>\n",
       "      <th>prvi_test</th>\n",
       "      <th>drugi_test</th>\n",
       "      <th>primljeni</th>\n",
       "    </tr>\n",
       "  </thead>\n",
       "  <tbody>\n",
       "    <tr>\n",
       "      <th>50</th>\n",
       "      <td>0.137670</td>\n",
       "      <td>0.575290</td>\n",
       "      <td>1</td>\n",
       "    </tr>\n",
       "    <tr>\n",
       "      <th>51</th>\n",
       "      <td>-0.006336</td>\n",
       "      <td>0.399850</td>\n",
       "      <td>1</td>\n",
       "    </tr>\n",
       "    <tr>\n",
       "      <th>52</th>\n",
       "      <td>-0.092742</td>\n",
       "      <td>0.553360</td>\n",
       "      <td>1</td>\n",
       "    </tr>\n",
       "    <tr>\n",
       "      <th>53</th>\n",
       "      <td>-0.207950</td>\n",
       "      <td>0.355990</td>\n",
       "      <td>1</td>\n",
       "    </tr>\n",
       "    <tr>\n",
       "      <th>54</th>\n",
       "      <td>-0.207950</td>\n",
       "      <td>0.173250</td>\n",
       "      <td>1</td>\n",
       "    </tr>\n",
       "    <tr>\n",
       "      <th>55</th>\n",
       "      <td>-0.438360</td>\n",
       "      <td>0.217110</td>\n",
       "      <td>1</td>\n",
       "    </tr>\n",
       "    <tr>\n",
       "      <th>56</th>\n",
       "      <td>-0.219470</td>\n",
       "      <td>-0.016813</td>\n",
       "      <td>1</td>\n",
       "    </tr>\n",
       "    <tr>\n",
       "      <th>57</th>\n",
       "      <td>-0.138820</td>\n",
       "      <td>-0.272660</td>\n",
       "      <td>1</td>\n",
       "    </tr>\n",
       "    <tr>\n",
       "      <th>58</th>\n",
       "      <td>0.183760</td>\n",
       "      <td>0.933480</td>\n",
       "      <td>0</td>\n",
       "    </tr>\n",
       "    <tr>\n",
       "      <th>59</th>\n",
       "      <td>0.224080</td>\n",
       "      <td>0.779970</td>\n",
       "      <td>0</td>\n",
       "    </tr>\n",
       "    <tr>\n",
       "      <th>60</th>\n",
       "      <td>0.298960</td>\n",
       "      <td>0.619150</td>\n",
       "      <td>0</td>\n",
       "    </tr>\n",
       "  </tbody>\n",
       "</table>\n",
       "</div>"
      ],
      "text/plain": [
       "    prvi_test  drugi_test  primljeni\n",
       "50   0.137670    0.575290          1\n",
       "51  -0.006336    0.399850          1\n",
       "52  -0.092742    0.553360          1\n",
       "53  -0.207950    0.355990          1\n",
       "54  -0.207950    0.173250          1\n",
       "55  -0.438360    0.217110          1\n",
       "56  -0.219470   -0.016813          1\n",
       "57  -0.138820   -0.272660          1\n",
       "58   0.183760    0.933480          0\n",
       "59   0.224080    0.779970          0\n",
       "60   0.298960    0.619150          0"
      ]
     },
     "execution_count": 520,
     "metadata": {},
     "output_type": "execute_result"
    }
   ],
   "source": [
    "chips = pd.read_csv(\"chips.txt\", delimiter=\",\", names=[\"prvi_test\", \"drugi_test\", \"primljeni\"])\n",
    "chips.loc[50:60,:]"
   ]
  },
  {
   "cell_type": "markdown",
   "metadata": {},
   "source": [
    "Zašto ćemo na ovim podacima koristiti regulariziranu logističku regresiju? <br>\n",
    "Pogledajmo kako podaci izgledaju."
   ]
  },
  {
   "cell_type": "code",
   "execution_count": 521,
   "metadata": {},
   "outputs": [],
   "source": [
    "\n",
    "data = copy.copy(chips)\n",
    "y = data['primljeni']\n",
    "data.insert(3, 'jedinice', 1)\n"
   ]
  },
  {
   "cell_type": "code",
   "execution_count": 522,
   "metadata": {},
   "outputs": [
    {
     "data": {
      "image/png": "[encoded data removed]",
      "text/plain": [
       "<matplotlib.figure.Figure at 0x1a1757ec18>"
      ]
     },
     "metadata": {},
     "output_type": "display_data"
    }
   ],
   "source": [
    "fig,ax = plt.subplots(figsize=(8,6))\n",
    "pos_c = chips[chips['primljeni'].isin([1])]\n",
    "neg_c = chips[chips['primljeni'].isin([0])]\n",
    "scatter(pos_c['prvi_test'], pos_c['drugi_test'], marker='o', c='c', label='Primljeni')\n",
    "scatter(neg_c['prvi_test'], neg_c['drugi_test'], marker='x', c='m', label='Nisu primljeni')\n",
    "ax.legend()\n",
    "xlabel('Rezultat prvog testa')\n",
    "ylabel('Rezultat drugog testa')\n",
    "show()"
   ]
  },
  {
   "cell_type": "markdown",
   "metadata": {},
   "source": [
    "Jasno je da podaci ne mogu biti razdvojeni ravnom linijom na skup onih koji su primljeni i onih koji nisu primljeni za daljnju prodaju. Zbog toga *\"obična\"* logistička regresija neće dobro predviđati rezultate jer ona može pronaći samo linearnu granicu odlučivanja. Primjećujemo da nam treba polinom višeg stupnja kao dobra linija odlučivanja, no uzmemo li prevelik stupanj, dolazimo do *overfittinga*. Zato pristupamo problemu pomoću regularizirane logističke regresije kako bismo izbjegli *overfitting*. Podatke dijelimo u one za trening i testne. <br>\n",
    "Prvo napišimo funkciju koja dodaje polinomijalna svojstva u matricu podataka, s izborom stupnja 6: \n"
   ]
  },
  {
   "cell_type": "code",
   "execution_count": 523,
   "metadata": {},
   "outputs": [],
   "source": [
    "degree = 5\n",
    "x1 = data['prvi_test']\n",
    "x2 = data['drugi_test']\n",
    "for i in range(1, degree):\n",
    "    for j in range(0, i):\n",
    "        data['F' + str(i) + str(j)] = np.power(x1, i-j) * np.power(x2, j) \n"
   ]
  },
  {
   "cell_type": "code",
   "execution_count": 524,
   "metadata": {},
   "outputs": [],
   "source": [
    "data.drop('prvi_test', axis=1, inplace=True)\n",
    "data.drop('drugi_test', axis=1, inplace=True)"
   ]
  },
  {
   "cell_type": "markdown",
   "metadata": {},
   "source": [
    "Sada nam matrica podataka izgleda ovako:"
   ]
  },
  {
   "cell_type": "code",
   "execution_count": 525,
   "metadata": {},
   "outputs": [
    {
     "data": {
      "text/html": [
       "<div>\n",
       "<style scoped>\n",
       "    .dataframe tbody tr th:only-of-type {\n",
       "        vertical-align: middle;\n",
       "    }\n",
       "\n",
       "    .dataframe tbody tr th {\n",
       "        vertical-align: top;\n",
       "    }\n",
       "\n",
       "    .dataframe thead th {\n",
       "        text-align: right;\n",
       "    }\n",
       "</style>\n",
       "<table border=\"1\" class=\"dataframe\">\n",
       "  <thead>\n",
       "    <tr style=\"text-align: right;\">\n",
       "      <th></th>\n",
       "      <th>primljeni</th>\n",
       "      <th>jedinice</th>\n",
       "      <th>F10</th>\n",
       "      <th>F20</th>\n",
       "      <th>F21</th>\n",
       "      <th>F30</th>\n",
       "      <th>F31</th>\n",
       "      <th>F32</th>\n",
       "      <th>F40</th>\n",
       "      <th>F41</th>\n",
       "      <th>F42</th>\n",
       "      <th>F43</th>\n",
       "    </tr>\n",
       "  </thead>\n",
       "  <tbody>\n",
       "    <tr>\n",
       "      <th>0</th>\n",
       "      <td>1</td>\n",
       "      <td>1</td>\n",
       "      <td>0.051267</td>\n",
       "      <td>0.002628</td>\n",
       "      <td>0.035864</td>\n",
       "      <td>0.000135</td>\n",
       "      <td>0.001839</td>\n",
       "      <td>0.025089</td>\n",
       "      <td>0.000007</td>\n",
       "      <td>0.000094</td>\n",
       "      <td>0.001286</td>\n",
       "      <td>0.017551</td>\n",
       "    </tr>\n",
       "    <tr>\n",
       "      <th>1</th>\n",
       "      <td>1</td>\n",
       "      <td>1</td>\n",
       "      <td>-0.092742</td>\n",
       "      <td>0.008601</td>\n",
       "      <td>-0.063523</td>\n",
       "      <td>-0.000798</td>\n",
       "      <td>0.005891</td>\n",
       "      <td>-0.043509</td>\n",
       "      <td>0.000074</td>\n",
       "      <td>-0.000546</td>\n",
       "      <td>0.004035</td>\n",
       "      <td>-0.029801</td>\n",
       "    </tr>\n",
       "    <tr>\n",
       "      <th>2</th>\n",
       "      <td>1</td>\n",
       "      <td>1</td>\n",
       "      <td>-0.213710</td>\n",
       "      <td>0.045672</td>\n",
       "      <td>-0.147941</td>\n",
       "      <td>-0.009761</td>\n",
       "      <td>0.031616</td>\n",
       "      <td>-0.102412</td>\n",
       "      <td>0.002086</td>\n",
       "      <td>-0.006757</td>\n",
       "      <td>0.021886</td>\n",
       "      <td>-0.070895</td>\n",
       "    </tr>\n",
       "    <tr>\n",
       "      <th>3</th>\n",
       "      <td>1</td>\n",
       "      <td>1</td>\n",
       "      <td>-0.375000</td>\n",
       "      <td>0.140625</td>\n",
       "      <td>-0.188321</td>\n",
       "      <td>-0.052734</td>\n",
       "      <td>0.070620</td>\n",
       "      <td>-0.094573</td>\n",
       "      <td>0.019775</td>\n",
       "      <td>-0.026483</td>\n",
       "      <td>0.035465</td>\n",
       "      <td>-0.047494</td>\n",
       "    </tr>\n",
       "    <tr>\n",
       "      <th>4</th>\n",
       "      <td>1</td>\n",
       "      <td>1</td>\n",
       "      <td>-0.513250</td>\n",
       "      <td>0.263426</td>\n",
       "      <td>-0.238990</td>\n",
       "      <td>-0.135203</td>\n",
       "      <td>0.122661</td>\n",
       "      <td>-0.111283</td>\n",
       "      <td>0.069393</td>\n",
       "      <td>-0.062956</td>\n",
       "      <td>0.057116</td>\n",
       "      <td>-0.051818</td>\n",
       "    </tr>\n",
       "  </tbody>\n",
       "</table>\n",
       "</div>"
      ],
      "text/plain": [
       "   primljeni  jedinice       F10       F20       F21       F30       F31  \\\n",
       "0          1         1  0.051267  0.002628  0.035864  0.000135  0.001839   \n",
       "1          1         1 -0.092742  0.008601 -0.063523 -0.000798  0.005891   \n",
       "2          1         1 -0.213710  0.045672 -0.147941 -0.009761  0.031616   \n",
       "3          1         1 -0.375000  0.140625 -0.188321 -0.052734  0.070620   \n",
       "4          1         1 -0.513250  0.263426 -0.238990 -0.135203  0.122661   \n",
       "\n",
       "        F32       F40       F41       F42       F43  \n",
       "0  0.025089  0.000007  0.000094  0.001286  0.017551  \n",
       "1 -0.043509  0.000074 -0.000546  0.004035 -0.029801  \n",
       "2 -0.102412  0.002086 -0.006757  0.021886 -0.070895  \n",
       "3 -0.094573  0.019775 -0.026483  0.035465 -0.047494  \n",
       "4 -0.111283  0.069393 -0.062956  0.057116 -0.051818  "
      ]
     },
     "execution_count": 525,
     "metadata": {},
     "output_type": "execute_result"
    }
   ],
   "source": [
    "data.head()"
   ]
  },
  {
   "cell_type": "code",
   "execution_count": 526,
   "metadata": {},
   "outputs": [],
   "source": [
    "stupci = data.shape[1]\n",
    "X_chips = data.iloc[:,1:stupci]\n",
    "Y_chips = data.iloc[:,0:1]\n",
    "x = data.iloc[:,2:stupci]\n",
    "X_chips = np.matrix(X_chips.values)\n",
    "Y_chips = np.matrix(Y_chips.values)\n"
   ]
  },
  {
   "cell_type": "code",
   "execution_count": 530,
   "metadata": {},
   "outputs": [],
   "source": [
    "theta_chips = np.zeros(11)"
   ]
  },
  {
   "cell_type": "code",
   "execution_count": 550,
   "metadata": {},
   "outputs": [],
   "source": [
    "Xc_train, Xc_test, yc_train, yc_test = train_test_split(X_chips, Y_chips, test_size=0.25, random_state=1)"
   ]
  },
  {
   "cell_type": "code",
   "execution_count": 534,
   "metadata": {},
   "outputs": [
    {
     "data": {
      "text/plain": [
       "0.6931471805599453"
      ]
     },
     "execution_count": 534,
     "metadata": {},
     "output_type": "execute_result"
    }
   ],
   "source": [
    "cost_reg(theta_chips, Xc_train, yc_train, rate=1)"
   ]
  },
  {
   "cell_type": "markdown",
   "metadata": {},
   "source": [
    "Funkcija troška, s obzirom na $\\theta=0$, iznosi 0.7."
   ]
  },
  {
   "cell_type": "markdown",
   "metadata": {},
   "source": [
    "Pronađimo minimum funkcije troška pomoću funkcije fmin_tnc kao i u prethodnim primjerima."
   ]
  },
  {
   "cell_type": "markdown",
   "metadata": {},
   "source": [
    "Uzimamo parametar učenja, $\\lambda=1$ i $\\theta=0$."
   ]
  },
  {
   "cell_type": "code",
   "execution_count": 539,
   "metadata": {},
   "outputs": [],
   "source": [
    "rate = 1"
   ]
  },
  {
   "cell_type": "code",
   "execution_count": 556,
   "metadata": {},
   "outputs": [
    {
     "data": {
      "text/plain": [
       "(array([ 0.75256993,  0.19727724, -1.60997813, -0.67903184, -0.19032043,\n",
       "        -0.23516339, -0.17918347, -1.27402014, -0.05305058, -0.6529766 ,\n",
       "        -0.09602055]), 24, 1)"
      ]
     },
     "execution_count": 556,
     "metadata": {},
     "output_type": "execute_result"
    }
   ],
   "source": [
    "res = opt.fmin_tnc(func=cost_reg, x0=theta_chips, fprime=gradient_reg, args=(Xc_train, yc_train, rate))\n",
    "res"
   ]
  },
  {
   "cell_type": "code",
   "execution_count": 541,
   "metadata": {},
   "outputs": [
    {
     "data": {
      "text/plain": [
       "0.631208527737884"
      ]
     },
     "execution_count": 541,
     "metadata": {},
     "output_type": "execute_result"
    }
   ],
   "source": [
    "cost_reg(res[0], X_chips, Y_chips, rate=1)"
   ]
  },
  {
   "cell_type": "markdown",
   "metadata": {},
   "source": [
    "Vratimo se na i primjer 7.2.: Administratori smo nekog sveučilišta i želimo procijeniti vjerojatnost primanja na sveučilište svakog prijavljenog studenta s obzirom na rezultate postignute na dva testa. \n",
    "<br> Provedimo opet logističku regresiju, no sada s regularizacijskim parametrom 1 u svrhu izbjegavanja *overfittinga*."
   ]
  },
  {
   "cell_type": "code",
   "execution_count": 495,
   "metadata": {},
   "outputs": [],
   "source": [
    "ye_train = np.array(ye_train).ravel()\n",
    "Xe_train = Xe_train.drop(columns=['ones'])"
   ]
  },
  {
   "cell_type": "code",
   "execution_count": 507,
   "metadata": {},
   "outputs": [],
   "source": [
    "logreg2 = LogisticRegression()"
   ]
  },
  {
   "cell_type": "code",
   "execution_count": 508,
   "metadata": {},
   "outputs": [
    {
     "data": {
      "text/plain": [
       "LogisticRegression(C=1.0, class_weight=None, dual=False, fit_intercept=True,\n",
       "          intercept_scaling=1, max_iter=100, multi_class='ovr', n_jobs=1,\n",
       "          penalty='l2', random_state=None, solver='liblinear', tol=0.0001,\n",
       "          verbose=0, warm_start=False)"
      ]
     },
     "execution_count": 508,
     "metadata": {},
     "output_type": "execute_result"
    }
   ],
   "source": [
    "logreg2.fit(Xe_train, ye_train)"
   ]
  },
  {
   "cell_type": "code",
   "execution_count": 509,
   "metadata": {},
   "outputs": [
    {
     "name": "stdout",
     "output_type": "stream",
     "text": [
      "Koeficijent za test_1 je 0.03116754111445834\n",
      "Koeficijent za test_2 je 0.029897026871488992\n"
     ]
    }
   ],
   "source": [
    "for idx, col_name in enumerate(Xe_train.columns):\n",
    "    print(\"Koeficijent za {} je {}\".format(col_name, logreg2.coef_[0][idx]))"
   ]
  },
  {
   "cell_type": "code",
   "execution_count": 510,
   "metadata": {},
   "outputs": [
    {
     "name": "stdout",
     "output_type": "stream",
     "text": [
      "Sjeciste s osi y iznosi -3.293035712965923\n"
     ]
    }
   ],
   "source": [
    "intercept3 = logreg2.intercept_[0]\n",
    "print(\"Sjeciste s osi y iznosi {}\".format(intercept3))"
   ]
  },
  {
   "cell_type": "markdown",
   "metadata": {},
   "source": [
    "Slijedi, $h_{\\theta}(x) = -3.29 + 0.03\\cdot x1 + 0.03\\cdot x2$"
   ]
  },
  {
   "cell_type": "markdown",
   "metadata": {},
   "source": [
    "Prikažimo tako dobiven model s prethodno dobivena dva modela za taj skup podataka:"
   ]
  },
  {
   "cell_type": "code",
   "execution_count": 511,
   "metadata": {},
   "outputs": [
    {
     "data": {
      "text/plain": [
       "(3.293035712965923, 0.029897026871488992)"
      ]
     },
     "execution_count": 511,
     "metadata": {},
     "output_type": "execute_result"
    }
   ],
   "source": [
    "-logreg2.intercept_[0], logreg2.coef_[0][1]"
   ]
  },
  {
   "cell_type": "code",
   "execution_count": 512,
   "metadata": {},
   "outputs": [
    {
     "data": {
      "image/png": "[encoded data removed]",
      "text/plain": [
       "<matplotlib.figure.Figure at 0x1a17455320>"
      ]
     },
     "metadata": {},
     "output_type": "display_data"
    }
   ],
   "source": [
    "fig,ax=plt.subplots(figsize=(8,6))\n",
    "pos = exams[exams['primljeni'].isin([1])]\n",
    "neg = exams[exams['primljeni'].isin([0])]\n",
    "scatter(pos['test_1'], pos['test_2'], marker='o', c='g', label='Primljeni')\n",
    "scatter(neg['test_1'], neg['test_2'], marker='x', c='b', label='Nisu primljeni')\n",
    "x = np.arange(20,110,0.1)\n",
    "plt.plot(x, (-parametri[0]-parametri[1]*x)/parametri[2], label='gradient descentgranica odlučivanja')\n",
    "plt.plot(x, (-logreg2.intercept_[0]-logreg2.coef_[0][0]*x)/logreg2.coef_[0][1], label='LogisticRegression() granica odlucivanja')\n",
    "\n",
    "ax.legend()\n",
    "xlabel('Broj postignutih bodova na prvom testu')\n",
    "ylabel('Broj postignutih bodova na drugom testu')\n",
    "show()"
   ]
  },
  {
   "cell_type": "markdown",
   "metadata": {},
   "source": [
    "Primjećujemo da se granica odlučivanja dobivena metodom *gradient descenta* razlikuje od one dobivene pozivanjem funkcije LogisticRegression(). <br>\n",
    "To je rezultat regulariziranja parametra u metodi LogisticRegression() u svrhu smanjenja *overfittinga* modela na podacima za trening. "
   ]
  },
  {
   "cell_type": "markdown",
   "metadata": {},
   "source": [
    "Za kraj provjerimo koji model bolje predviđa testne podatke."
   ]
  },
  {
   "cell_type": "code",
   "execution_count": 513,
   "metadata": {},
   "outputs": [
    {
     "data": {
      "text/plain": [
       "0.72"
      ]
     },
     "execution_count": 513,
     "metadata": {},
     "output_type": "execute_result"
    }
   ],
   "source": [
    "logreg2.score(Xe_test, ye_test)"
   ]
  },
  {
   "cell_type": "code",
   "execution_count": 514,
   "metadata": {},
   "outputs": [],
   "source": [
    "Xe_test.insert(0, 'ones', 1)"
   ]
  },
  {
   "cell_type": "code",
   "execution_count": 515,
   "metadata": {},
   "outputs": [],
   "source": [
    "ye_pred = matrix(Xe_test)*matrix(parametri).T"
   ]
  },
  {
   "cell_type": "code",
   "execution_count": 516,
   "metadata": {},
   "outputs": [],
   "source": [
    "ye_pred[ye_pred < .5] = 0\n",
    "ye_pred[ye_pred >= .5] = 1"
   ]
  },
  {
   "cell_type": "code",
   "execution_count": 517,
   "metadata": {},
   "outputs": [
    {
     "data": {
      "text/plain": [
       "0.84"
      ]
     },
     "execution_count": 517,
     "metadata": {},
     "output_type": "execute_result"
    }
   ],
   "source": [
    "accuracy_score(matrix(ye_test), ye_pred)"
   ]
  },
  {
   "cell_type": "markdown",
   "metadata": {},
   "source": [
    "Regularizirani logistički model daje točnost od 72%, dok neregularizirani 84%. Ovaj primjer pokazuje da regularizirani model nije uvijek nužno bolji i da se lako dođe do *underfittinga*. No, ne treba zanemariti činjenicu da je primjer proveden na relativno malom skupu podataka što može prouzročiti krive zaključke."
   ]
  }
 ],
 "metadata": {
  "kernelspec": {
   "display_name": "Python 3",
   "language": "python",
   "name": "python3"
  },
  "language_info": {
   "codemirror_mode": {
    "name": "ipython",
    "version": 3
   },
   "file_extension": ".py",
   "mimetype": "text/x-python",
   "name": "python",
   "nbconvert_exporter": "python",
   "pygments_lexer": "ipython3",
   "version": "3.6.4"
  }
 },
 "nbformat": 4,
 "nbformat_minor": 2
}
