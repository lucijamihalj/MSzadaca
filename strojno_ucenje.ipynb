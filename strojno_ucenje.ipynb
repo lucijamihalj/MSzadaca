{
 "cells": [
  {
   "cell_type": "markdown",
   "metadata": {},
   "source": [
    "# Uvod u nadzirano strojno učenje \n",
    "\n"
   ]
  },
  {
   "cell_type": "markdown",
   "metadata": {},
   "source": [
    "### 1. Što je strojno učenje?\n",
    "Arthur Samuel je opisao strojno učenje kao sposobnost računala da uči bez da je eksplicitno programirano. \n",
    "Novija i prihvaćenija definicija je ona Toma Mitchella: <br>\n",
    "    Kažemo da program uči zadatak T kroz iskustvo E ako se njegova perfomansa P u izvođenju zadatka T poboljšava s rastom iskustva E. <br>\n",
    "Primjer: igranje šaha <br>\n",
    "    E = iskustvo stečeno kroz igranje mnogo partija šaha <br>\n",
    "    T = igranje šaha <br>\n",
    "    P = vjerojatnost da će program pobijediti iduću partiju šaha <br>"
   ]
  },
  {
   "cell_type": "markdown",
   "metadata": {},
   "source": [
    "Osnovna podjela: \n",
    "1. nadzirano učenje - klasifikacija i regresija\n",
    "2. nenadzirano učenje - grupiranje i smanjenje dimenzionalnosti"
   ]
  },
  {
   "cell_type": "markdown",
   "metadata": {},
   "source": [
    "### 2. Primjeri strojnog učenja koji utječu na svakodnevicu"
   ]
  },
  {
   "cell_type": "markdown",
   "metadata": {},
   "source": [
    "- SIRI koristi principe strojnog učenja i drugih tehnologija za imitaciju ljudskih reakcija <br>\n",
    "- FACEBOOK koristi impresivnu tehnologiju kako bi predložio korisnicima koga trebaju *taggirati* na slikama <br>\n",
    "- GOOGLE MAPS analizira brzinu u prometu koristeći anonimne lokacijske usluge s mobitela i tako predlaže najbržu rutu <br>\n",
    "- GMAIL klasificira mailove, ali nedavno su predstavili i sustav koji predlaže tri automatska odgovora na mail <br>\n",
    "- NETFLIX-u je strojno učenje nužno za prijedloge serija i filmova <br>\n",
    "- UBER kroz strojno učenje procijenjuje brzinu dolaska na odredište <br>\n"
   ]
  },
  {
   "cell_type": "markdown",
   "metadata": {},
   "source": [
    "U ovom radu bavit ću se linearnom i logističkom regresijom iz perspektive nadziranog strojnog učenja.\n",
    "<br>U nadziranom učenju dani su nam podaci na temelju kojih predviđamo *output*. Postoje dvije, već navedene, kategorije - klasifikacija i regresija. <br>\n",
    "    Klasifikaciju koristimo ako je _output_ **y** diskretna varijabla, dok regresiju kada je **y** kontinuirana varijabla."
   ]
  },
  {
   "cell_type": "markdown",
   "metadata": {},
   "source": [
    "### Primjeri nadziranog učenja:\n",
    "**klasifikacija**: na temelju podataka koji sadrže veličinu tumora i podatak o tome je li tumor dobroćudan (0) ili zloćudan (1) želimo predvidjeti za koju veličinu tumora će tumor biti zloćudan/dobroćudan<br>\n",
    "**regresija**: na temelju podataka koji sadrže veličinu kuće i cijenu za koju je ta kuća prodana želimo za svaku veličinu kuće predvidjeti njenu cijenu <br>\n",
    "    "
   ]
  },
  {
   "cell_type": "markdown",
   "metadata": {},
   "source": [
    "### 3. Funkcija pogreške \n"
   ]
  },
  {
   "cell_type": "markdown",
   "metadata": {},
   "source": [
    "Pretpostavimo da imamo podatke gdje je $x_{i}$ *input*, a $y_{i}$ *output*. Funkciju s kojom želimo predvidjeti *output* za svaki *input* zovemo **hipoteza**, ponekad i model, a označavamo s $h_{\\theta}$, gdje je $\\theta$ uređena n-torka parametara. <br>\n",
    "Funkcija pogreške je zbroj kvadratnih odstupanja funkcije hipoteze u točki $x_{i}$ od stvarne, pripadajuće vrijednosti $y_{i}.$"
   ]
  },
  {
   "cell_type": "markdown",
   "metadata": {},
   "source": [
    "$$J(\\theta)=\\frac{1}{2m}\\sum_{i=1}^{m} (y_{i}-h_{\\theta}(x_{i}))^2 $$\t"
   ]
  },
  {
   "cell_type": "markdown",
   "metadata": {},
   "source": [
    "m = broj \"treninga\", odnosno veličina danih podataka"
   ]
  },
  {
   "cell_type": "markdown",
   "metadata": {},
   "source": [
    "Cilj nam je dobiti što bolju funkciju hipoteze, tj. **minimizirati funkciju pogreške**. *Idealno*, funkcija bi trebala proći kroz sve točke x. U tom slučaju je funkcija pogreške 0. "
   ]
  },
  {
   "cell_type": "markdown",
   "metadata": {},
   "source": [
    "### 4. Linearna regresija\n",
    "Neka je funkcija hipoteze sljedećeg oblika: <br>$$h_{\\theta}(x)=\\theta_{n}\\cdot x_{n}+\\theta_{n-1}\\cdot x_{n-1}+...+\\theta_{1}\\cdot x_{1}+\\theta_{0}$$<br><br>\n",
    "Notacija: $x_{j}^{(i)}$ = vrijednost svojstva j u i-tom treningu <br>\n",
    "$x^{(i)}$ = svojstva i-tog treninga <br>\n",
    "$m$ = broj treninga <br>\n",
    "$n$ = broj svojstava "
   ]
  },
  {
   "cell_type": "markdown",
   "metadata": {},
   "source": [
    "#### Primjer 4.1.: Znamo populaciju nekog grada i zanima nas predviđen profit prodaje hrane u uslužnim djelatnostima s obzirom na dane podatke. "
   ]
  },
  {
   "cell_type": "code",
   "execution_count": 1,
   "metadata": {},
   "outputs": [],
   "source": [
    "import matplotlib.pyplot as plt\n",
    "import numpy as np\n",
    "from numpy import matrix\n",
    "import pandas as pd\n",
    "from numpy.linalg import inv\n",
    "import scipy.optimize as opt\n",
    "from sklearn.model_selection import train_test_split\n",
    "from sklearn.linear_model import LinearRegression\n",
    "from sklearn.linear_model import LogisticRegression\n",
    "from mpl_toolkits.mplot3d import Axes3D\n",
    "import copy\n",
    "from sklearn.metrics import accuracy_score\n",
    "\n",
    "\n",
    "%matplotlib inline"
   ]
  },
  {
   "cell_type": "code",
   "execution_count": 2,
   "metadata": {
    "scrolled": false
   },
   "outputs": [
    {
     "data": {
      "text/html": [
       "<div>\n",
       "<style scoped>\n",
       "    .dataframe tbody tr th:only-of-type {\n",
       "        vertical-align: middle;\n",
       "    }\n",
       "\n",
       "    .dataframe tbody tr th {\n",
       "        vertical-align: top;\n",
       "    }\n",
       "\n",
       "    .dataframe thead th {\n",
       "        text-align: right;\n",
       "    }\n",
       "</style>\n",
       "<table border=\"1\" class=\"dataframe\">\n",
       "  <thead>\n",
       "    <tr style=\"text-align: right;\">\n",
       "      <th></th>\n",
       "      <th>populacija</th>\n",
       "      <th>profit</th>\n",
       "    </tr>\n",
       "  </thead>\n",
       "  <tbody>\n",
       "    <tr>\n",
       "      <th>0</th>\n",
       "      <td>6.1101</td>\n",
       "      <td>17.5920</td>\n",
       "    </tr>\n",
       "    <tr>\n",
       "      <th>1</th>\n",
       "      <td>5.5277</td>\n",
       "      <td>9.1302</td>\n",
       "    </tr>\n",
       "    <tr>\n",
       "      <th>2</th>\n",
       "      <td>8.5186</td>\n",
       "      <td>13.6620</td>\n",
       "    </tr>\n",
       "    <tr>\n",
       "      <th>3</th>\n",
       "      <td>7.0032</td>\n",
       "      <td>11.8540</td>\n",
       "    </tr>\n",
       "    <tr>\n",
       "      <th>4</th>\n",
       "      <td>5.8598</td>\n",
       "      <td>6.8233</td>\n",
       "    </tr>\n",
       "    <tr>\n",
       "      <th>5</th>\n",
       "      <td>8.3829</td>\n",
       "      <td>11.8860</td>\n",
       "    </tr>\n",
       "    <tr>\n",
       "      <th>6</th>\n",
       "      <td>7.4764</td>\n",
       "      <td>4.3483</td>\n",
       "    </tr>\n",
       "    <tr>\n",
       "      <th>7</th>\n",
       "      <td>8.5781</td>\n",
       "      <td>12.0000</td>\n",
       "    </tr>\n",
       "    <tr>\n",
       "      <th>8</th>\n",
       "      <td>6.4862</td>\n",
       "      <td>6.5987</td>\n",
       "    </tr>\n",
       "    <tr>\n",
       "      <th>9</th>\n",
       "      <td>5.0546</td>\n",
       "      <td>3.8166</td>\n",
       "    </tr>\n",
       "  </tbody>\n",
       "</table>\n",
       "</div>"
      ],
      "text/plain": [
       "   populacija   profit\n",
       "0      6.1101  17.5920\n",
       "1      5.5277   9.1302\n",
       "2      8.5186  13.6620\n",
       "3      7.0032  11.8540\n",
       "4      5.8598   6.8233\n",
       "5      8.3829  11.8860\n",
       "6      7.4764   4.3483\n",
       "7      8.5781  12.0000\n",
       "8      6.4862   6.5987\n",
       "9      5.0546   3.8166"
      ]
     },
     "execution_count": 2,
     "metadata": {},
     "output_type": "execute_result"
    }
   ],
   "source": [
    "food = pd.read_csv('profit.txt', header=None,\\\n",
    "                   names=['populacija', 'profit'])\n",
    "  \n",
    "\n",
    "food.head(10)"
   ]
  },
  {
   "cell_type": "markdown",
   "metadata": {},
   "source": [
    "Korisno je prikazati podatke da bismo vidjeli kako nam model linearne regresije, tj. funkcija hipoteze treba izgledati."
   ]
  },
  {
   "cell_type": "code",
   "execution_count": 3,
   "metadata": {},
   "outputs": [
    {
     "data": {
      "text/plain": [
       "<matplotlib.collections.PathCollection at 0x1146a30f0>"
      ]
     },
     "execution_count": 3,
     "metadata": {},
     "output_type": "execute_result"
    },
    {
     "data": {
      "image/png": "[encoded data removed]",
      "text/plain": [
       "<matplotlib.figure.Figure at 0x112511828>"
      ]
     },
     "metadata": {},
     "output_type": "display_data"
    }
   ],
   "source": [
    "populacija = food.populacija.values\n",
    "profit = food.profit.values\n",
    "plt.scatter(populacija, profit, marker='o')"
   ]
  },
  {
   "cell_type": "markdown",
   "metadata": {},
   "source": [
    "**Kod za izračunavanje funkcije greške:**"
   ]
  },
  {
   "cell_type": "markdown",
   "metadata": {},
   "source": [
    "Prvo definirajmo funkciju za izračunavanje vrijednosti funkcije hipoteze s obzirom na parametar $\\theta$ i dani $x$:"
   ]
  },
  {
   "cell_type": "code",
   "execution_count": 4,
   "metadata": {},
   "outputs": [],
   "source": [
    "def h(X, theta):\n",
    "    \n",
    "    return X * theta"
   ]
  },
  {
   "cell_type": "markdown",
   "metadata": {},
   "source": [
    "Funkciju za izračunavanje funkcije greške nazovimo cost:"
   ]
  },
  {
   "cell_type": "code",
   "execution_count": 5,
   "metadata": {},
   "outputs": [],
   "source": [
    "def cost(theta, X, y):\n",
    "    X = matrix(X)\n",
    "    y = matrix(y)\n",
    "    tmp1 = X * theta - y\n",
    "    tmp2 = tmp1.T * tmp1 \n",
    "    m = np.size(y) \n",
    "    \n",
    "    return (1/(2*m)) * tmp2"
   ]
  },
  {
   "cell_type": "markdown",
   "metadata": {},
   "source": [
    "### 5. Kako odrediti odgovarajuće parametre $\\theta$?"
   ]
  },
  {
   "cell_type": "markdown",
   "metadata": {},
   "source": [
    "Nakon što smo predstavili funkciju hipoteze i funkciju greške, preostaje\n",
    "odrediti odgovarajuće parametre. To ćemo učiniti pomoću ***gradient descenta***.\n",
    "\n",
    "Intuitivno, neka je funkcija hipoteze oblika $h_{\\theta}(x)=\\theta_{1}*x_{1}+\\theta_{0}$. Nacrtamo graf koji na x-osi ima parametar $\\theta_{0}$, a na y-osi $\\theta_{1}$, dok je na z-osi vrijednost funkcije $J(\\theta_{0},\\theta_{1})$. Znamo da nam je cilj pronaći minimum takve funkcije. To ćemo postići tako da krenemo od bilo koje točke i promatramo tangentu u toj točki koja će nam \"reći\" u kojem pravcu se trebamo gibati kako bismo došli do minimuma. Gibamo se u koracima veličine $\\alpha$. $\\alpha$ ne smije biti niti prevelik niti premalen. Ako se povećanjem broja iteracija, funkcija greške povećava, trebamo smanjiti $\\alpha$. No, ako je $\\alpha$ premalen, konvergencija može biti jako spora.\n",
    "        "
   ]
  },
  {
   "cell_type": "markdown",
   "metadata": {},
   "source": [
    "**Algoritam:** <br>\n",
    "*ponavljati dok ne konvergira:* <br>\n",
    "     $\\theta_{j}=\\theta_{j}-\\alpha\\frac{\\partial}{\\partial\\theta_{j}}J(\\theta_{0},\\theta_{1})\\cdot x_{j} $ <br><br>\n",
    "     $j=0,...,n$ <br>\n",
    "     $x_{0}=1$"
   ]
  },
  {
   "cell_type": "markdown",
   "metadata": {},
   "source": [
    "U matricu podataka potrebno je dodati u 1. stupac jedinice kako bismo mogli provesti prethodno napisani algoritam."
   ]
  },
  {
   "cell_type": "markdown",
   "metadata": {},
   "source": [
    "Možemo ubrzati taj algoritam tako da je svako svojstvo sličnog reda veličine. Za to postoje dva načina: <br>\n",
    "1. skaliranje svojstava <br>\n",
    "    $x_{i}:=\\frac{x_{i}}{max(x)-min(x)}$\n",
    "2. normalizacija <br>\n",
    "    $x_{i}:=\\frac{x_{i}-\\mu_{i}}{s_{i}}$,  $\\mu$ je očekivanje, a $s$ standardna devijacija\n"
   ]
  },
  {
   "cell_type": "markdown",
   "metadata": {},
   "source": [
    "Vratimo se na prethodni primjer i izračunajmo parametre za linearnu regresiju. <br>\n",
    "Prvo što je potrebno napisati je funkcija koja računa *gradient descent*. "
   ]
  },
  {
   "cell_type": "code",
   "execution_count": 6,
   "metadata": {},
   "outputs": [],
   "source": [
    "def gradient_descent(theta, X, y, alpha, iterations):\n",
    "    X = matrix(X)\n",
    "    y = matrix(y)\n",
    "    m = np.size(y)\n",
    "    step = alpha / m\n",
    "    for i in range(iterations):\n",
    "        theta -= step * X.T * (X*theta - y) \n",
    "    \n",
    "    return theta"
   ]
  },
  {
   "cell_type": "markdown",
   "metadata": {},
   "source": [
    "U svrhu daljnje analize podataka, podijelimo podatke na one s kojima ćemo *trenirati* linearni model i na one s kojima ćemo isti testirati."
   ]
  },
  {
   "cell_type": "code",
   "execution_count": 7,
   "metadata": {},
   "outputs": [],
   "source": [
    "populacija1 = food[['populacija']]\n",
    "profit1 = food[['profit']]"
   ]
  },
  {
   "cell_type": "code",
   "execution_count": 8,
   "metadata": {},
   "outputs": [],
   "source": [
    "populacija_trening, populacija_test, profit_trening, profit_test = \\\n",
    "train_test_split(populacija1, profit1, test_size=0.25, random_state=1)"
   ]
  },
  {
   "cell_type": "markdown",
   "metadata": {},
   "source": [
    "Kao što je već napomenuto, za određivanje parametara $\\theta$ u 1. stupac podataka dodajemo jedinice."
   ]
  },
  {
   "cell_type": "code",
   "execution_count": 9,
   "metadata": {},
   "outputs": [],
   "source": [
    "populacija_trening.insert(0, 'ones', 1)"
   ]
  },
  {
   "cell_type": "markdown",
   "metadata": {},
   "source": [
    "Potrebno je odabrati proizvoljnu $\\theta$ od koje želimo da algoritam gradient descent kreće. Neka je $\\theta=(0,0)$."
   ]
  },
  {
   "cell_type": "code",
   "execution_count": 10,
   "metadata": {},
   "outputs": [],
   "source": [
    "theta = matrix(np.zeros((2, 1)))"
   ]
  },
  {
   "cell_type": "markdown",
   "metadata": {},
   "source": [
    "Konačno, izračunajmo parametre $\\theta_{0}$ i $\\theta_{1}$ pomoću *gradient descenta*, odabiremo $\\alpha$=0.01, a broj iteracija neka je 1500."
   ]
  },
  {
   "cell_type": "code",
   "execution_count": 11,
   "metadata": {},
   "outputs": [
    {
     "data": {
      "text/plain": [
       "matrix([[-3.73406206],\n",
       "        [ 1.18402474]])"
      ]
     },
     "execution_count": 11,
     "metadata": {},
     "output_type": "execute_result"
    }
   ],
   "source": [
    "theta_new = gradient_descent(theta, populacija_trening, profit_trening, alpha=0.01, iterations=1500)\n",
    "theta_new"
   ]
  },
  {
   "cell_type": "markdown",
   "metadata": {},
   "source": [
    "Iz svega napisanog slijedi: $$h_{\\theta}(x)=-3.73 + 1.18\\cdot x$$"
   ]
  },
  {
   "cell_type": "markdown",
   "metadata": {},
   "source": [
    "Prikažimo sada podatke na istom grafu kao i pravac s procijenjenim parametrima."
   ]
  },
  {
   "cell_type": "code",
   "execution_count": 12,
   "metadata": {},
   "outputs": [
    {
     "data": {
      "text/plain": [
       "[<matplotlib.lines.Line2D at 0x112548da0>]"
      ]
     },
     "execution_count": 12,
     "metadata": {},
     "output_type": "execute_result"
    },
    {
     "data": {
      "image/png": "[encoded data removed]",
      "text/plain": [
       "<matplotlib.figure.Figure at 0x1125481d0>"
      ]
     },
     "metadata": {},
     "output_type": "display_data"
    }
   ],
   "source": [
    "plt.scatter(populacija, profit, marker='o')\n",
    "x_axis = np.arange(5.0, 25.0, 0.01)\n",
    "h_food = theta_new[0] + theta_new[1] * x_axis\n",
    "plt.plot(x_axis, h_food.T, c='r')"
   ]
  },
  {
   "cell_type": "markdown",
   "metadata": {},
   "source": [
    "Provjerimo kolika nam je funkcija greške."
   ]
  },
  {
   "cell_type": "code",
   "execution_count": 13,
   "metadata": {},
   "outputs": [
    {
     "data": {
      "text/plain": [
       "4.745767763297124"
      ]
     },
     "execution_count": 13,
     "metadata": {},
     "output_type": "execute_result"
    }
   ],
   "source": [
    "cost(theta_new, matrix(populacija_trening), matrix(profit_trening)).item(0)"
   ]
  },
  {
   "cell_type": "markdown",
   "metadata": {},
   "source": [
    "Drugi način za  određivanje odgovarajućih parametara je **normalna jednadžba**. <br>\n",
    "Ovom metodom, minimiziramo funkciju $J(\\theta)$ tako da eksplicitno deriviramo po $\\theta_{j}$ te derivacije izjednačavamo s 0. Tako nalazimo optimum bez iteracija. Parametar se određuje na sljedeći način: <br>\n",
    "$$\\theta=(X^{T}X)^{-1}X^{T}y$$ <br>\n",
    "Ova metoda je bolja jer ne trebamo odabirati $\\alpha$, nemamo iteracija, no složenija je i sporija ako je broj svojstava velik."
   ]
  },
  {
   "cell_type": "markdown",
   "metadata": {},
   "source": [
    "Na prethodnom primjeru odredimo $\\theta$ metodom normalne jednadžbe:"
   ]
  },
  {
   "cell_type": "markdown",
   "metadata": {},
   "source": [
    "Koristimo već zapisanu formulu $\\theta=(X^{T}X)^{-1}X^{T}y$. <br>\n",
    "Važno je napomenuti da, kao i za algoritam gradient descenta, vrijednost $x_{0}$ postavljamo na 1. "
   ]
  },
  {
   "cell_type": "code",
   "execution_count": 14,
   "metadata": {},
   "outputs": [
    {
     "data": {
      "text/plain": [
       "matrix([[-3.91425855],\n",
       "        [ 1.20106494]])"
      ]
     },
     "execution_count": 14,
     "metadata": {},
     "output_type": "execute_result"
    }
   ],
   "source": [
    "theta_normal = inv(matrix(populacija_trening).T * matrix(populacija_trening)) *\\\n",
    "                   matrix(populacija_trening).T * matrix(profit_trening)\n",
    "theta_normal"
   ]
  },
  {
   "cell_type": "markdown",
   "metadata": {},
   "source": [
    "Dakle, metodom normalne jednadžbe funkcija hipoteze je:\n",
    "$$h_{\\theta}(x)=-3.9+1.2\\cdot x$$"
   ]
  },
  {
   "cell_type": "code",
   "execution_count": 15,
   "metadata": {},
   "outputs": [
    {
     "data": {
      "text/plain": [
       "4.742388083390439"
      ]
     },
     "execution_count": 15,
     "metadata": {},
     "output_type": "execute_result"
    }
   ],
   "source": [
    "cost(theta_normal, populacija_trening, profit_trening).item(0)"
   ]
  },
  {
   "cell_type": "markdown",
   "metadata": {},
   "source": [
    "Uspoređujući funkciju troška s obzirom na parametre dobivene *gradient descentom* i normalnom jednadžbom, primjećujemo da su približno iste vrijednosti."
   ]
  },
  {
   "cell_type": "markdown",
   "metadata": {},
   "source": [
    "Postoji i treći način računanja, pomoću funkcije LinearRegression(): <br>\n",
    "Trebamo uzeti u obzir da nam za ovaj način tablica podataka ne treba sadržavati 1. stupac jedinica."
   ]
  },
  {
   "cell_type": "code",
   "execution_count": 16,
   "metadata": {},
   "outputs": [],
   "source": [
    "populacija_trening2 = populacija_trening.drop('ones', axis=1)"
   ]
  },
  {
   "cell_type": "code",
   "execution_count": 17,
   "metadata": {},
   "outputs": [
    {
     "name": "stdout",
     "output_type": "stream",
     "text": [
      "Koeficijent za populacija je 1.20106493803116\n"
     ]
    }
   ],
   "source": [
    "linear_regression = LinearRegression()\n",
    "linear_regression.fit(populacija_trening2, profit_trening)\n",
    "print('Koeficijent za populacija je {}'.format(linear_regression.coef_[0][0]))"
   ]
  },
  {
   "cell_type": "code",
   "execution_count": 18,
   "metadata": {},
   "outputs": [
    {
     "name": "stdout",
     "output_type": "stream",
     "text": [
      "Sjecište s osi y iznosi -3.914258550869471\n"
     ]
    }
   ],
   "source": [
    "intercept = linear_regression.intercept_[0]\n",
    "print('Sjecište s osi y iznosi {}'.format(intercept))"
   ]
  },
  {
   "cell_type": "markdown",
   "metadata": {},
   "source": [
    "Dakle, i s trećim načinom dobivamo približno isti rezultat. Provjerimo točnost tako dobivene hipoteze na testnim podacima."
   ]
  },
  {
   "cell_type": "code",
   "execution_count": 19,
   "metadata": {},
   "outputs": [
    {
     "data": {
      "text/plain": [
       "0.33277307953790625"
      ]
     },
     "execution_count": 19,
     "metadata": {},
     "output_type": "execute_result"
    }
   ],
   "source": [
    "linear_regression.score(populacija_test, profit_test)"
   ]
  },
  {
   "cell_type": "markdown",
   "metadata": {},
   "source": [
    "Funkcija score() vraća koeficijent determinacije $R^{2}$. Što model bolje predviđa testne podatake, to je *score* bliži 1. "
   ]
  },
  {
   "cell_type": "markdown",
   "metadata": {},
   "source": [
    "### 6. Polinomijalna regresija\n",
    "Hipoteza ne mora biti linearna funkcija ako dobro ne opisuje zadane podatke. Možemo promijeniti ponašanje krivulje tako da odaberemo kvadratnu, kubičnu ili neku sličnu krivulju. "
   ]
  },
  {
   "cell_type": "markdown",
   "metadata": {},
   "source": [
    "### 7. Logistička regresija"
   ]
  },
  {
   "cell_type": "markdown",
   "metadata": {},
   "source": [
    "Što raditi kada imamo problem klasifikacije, tj. *output* je diskretna varijabla? <br>\n",
    "*Primjer 7.1.*: Želimo napraviti algoritam koji prepoznaje spam mail. Neka je $y=1$ ako je to spam, u suprotnom $y=0$. Dakle, $y\\in{0,1}$. <br>\n",
    "0 se često naziva negativnom klasom, a 1 pozitivnom. "
   ]
  },
  {
   "cell_type": "markdown",
   "metadata": {},
   "source": [
    "Za potrebe klasifikacije, konstruiramo novu funkciju - **sigmoid function** ili **logistička funkcija**. <br>\n",
    "$$h_{\\theta}=g(\\theta^{T}x)$$ <br>\n",
    "$$z=\\theta^{T}x$$ <br>\n",
    "$$g(z)=\\frac{1}{1+e^{-z}} $$"
   ]
  },
  {
   "cell_type": "markdown",
   "metadata": {},
   "source": [
    "Sljedeća slika prikazuje izgled logističke funkcije:"
   ]
  },
  {
   "cell_type": "code",
   "execution_count": 20,
   "metadata": {},
   "outputs": [],
   "source": [
    "def sigmoid(x):\n",
    "    s = 1.0 + np.exp(-x)\n",
    "    s = 1.0/s \n",
    "    \n",
    "    return s"
   ]
  },
  {
   "cell_type": "code",
   "execution_count": 21,
   "metadata": {},
   "outputs": [
    {
     "data": {
      "image/png": "[encoded data removed]",
      "text/plain": [
       "<matplotlib.figure.Figure at 0x1147de828>"
      ]
     },
     "metadata": {},
     "output_type": "display_data"
    }
   ],
   "source": [
    "x = np.arange(-10., 10., 0.2)\n",
    "y = np.linspace(0, len(x), len(x))\n",
    "\n",
    "plt.plot(x, sigmoid(x))\n",
    "plt.grid(True, which='both')\n",
    "plt.axhline(y=0, color='k')\n",
    "plt.axvline(x=0, color='k')\n",
    "plt.ylim(-0.1, 1.1)\n",
    "plt.title('Logistička funkcija')\n",
    "plt.show()"
   ]
  },
  {
   "cell_type": "markdown",
   "metadata": {},
   "source": [
    "Očito je da logistička funkcija poprima vrijednosti između 0 i 1 što je čini pogodnim izborom za klasifikacijske probleme. <br>\n",
    "$h_{\\theta}(x)$ daje **vjerojatnost** da je naš *output* 1. Preciznije, $h_{\\theta}(x)=P(y=1|x;\\theta)$"
   ]
  },
  {
   "cell_type": "markdown",
   "metadata": {},
   "source": [
    "Uz sve rečeno, logistički model ili **granica odlučivanja** je linija koja razdvaja podatke gdje je y=1 od onih gdje je y=0. <br>\n",
    "$h_{\\theta}\\geq0.5\\rightarrow y=1$ <br>\n",
    "$h_{\\theta}<0.5\\rightarrow y=0$"
   ]
  },
  {
   "cell_type": "markdown",
   "metadata": {},
   "source": [
    "Potrebno je prilagoditi i funkciju greške zbog toga što bi logistička funkcija na prethodno definiranoj funkciji greške uzrokovala puno lokalnih optimuma, tj. ne bi bila konveksna. "
   ]
  },
  {
   "cell_type": "markdown",
   "metadata": {},
   "source": [
    "$$J(\\theta)=\\frac{1}{m}\\sum_{i=1}^{m}Cost(h_{\\theta}(x^{(i)}),y^{(i)})$$"
   ]
  },
  {
   "cell_type": "markdown",
   "metadata": {},
   "source": [
    "$Cost(h_{\\theta}(x),y)=-log(h_{\\theta}(x))$ ako y=1 <br>\n",
    "$Cost(h_{\\theta}(x),y)=-log(1-h_{\\theta}(x))$ ako y=0 "
   ]
  },
  {
   "cell_type": "code",
   "execution_count": 22,
   "metadata": {},
   "outputs": [],
   "source": [
    "def log_cost(theta, X, y):\n",
    "    theta = np.matrix(theta).T\n",
    "    m = np.size(y)\n",
    "    J = -(y.T * np.log(sigmoid(X*theta))) - \\\n",
    "        ((1-y).T * np.log(1 - sigmoid(X*theta)))\n",
    "    \n",
    "    return J/m"
   ]
  },
  {
   "cell_type": "markdown",
   "metadata": {},
   "source": [
    "Izgled funkcije greške logističke regresije s obzirom na vrijednosti y:"
   ]
  },
  {
   "cell_type": "code",
   "execution_count": 23,
   "metadata": {},
   "outputs": [
    {
     "data": {
      "image/png": "[encoded data removed]",
      "text/plain": [
       "<matplotlib.figure.Figure at 0x1147cb128>"
      ]
     },
     "metadata": {},
     "output_type": "display_data"
    }
   ],
   "source": [
    "x = np.arange(0.001, 1., 0.01)\n",
    "y = np.linspace(0, len(x), len(x))\n",
    "sig = -np.log(x)\n",
    "plt.plot(x, sig)\n",
    "plt.title('ako je y=1')\n",
    "plt.xlabel('h(x)')\n",
    "plt.show()"
   ]
  },
  {
   "cell_type": "code",
   "execution_count": 24,
   "metadata": {},
   "outputs": [
    {
     "data": {
      "image/png": "[encoded data removed]",
      "text/plain": [
       "<matplotlib.figure.Figure at 0x1a1c139710>"
      ]
     },
     "metadata": {},
     "output_type": "display_data"
    }
   ],
   "source": [
    "x = np.arange(0., 0.99, 0.01)\n",
    "y = np.linspace(0, len(x), len(x))\n",
    "sig = -np.log(1-x)\n",
    "plt.plot(x, sig)\n",
    "plt.title('ako je y=0')\n",
    "plt.xlabel('h(x)')\n",
    "plt.show()"
   ]
  },
  {
   "cell_type": "markdown",
   "metadata": {},
   "source": [
    "Vidimo da je u oba slučaja funkcija greške konveksna funkcija."
   ]
  },
  {
   "cell_type": "markdown",
   "metadata": {},
   "source": [
    "Gradijent funkcije troška je vektor čiji je j-ti element definiran na sljedeći način:"
   ]
  },
  {
   "cell_type": "markdown",
   "metadata": {},
   "source": [
    "$$\\frac{\\partial J(\\theta)}{\\partial \\theta_{j}}=\\frac{1}{m}\\sum_{i=1}^{m}(h_{\\theta}(x^{(i)})-y^{(i)})\\cdot x_{j}^{(i)}$$"
   ]
  },
  {
   "cell_type": "code",
   "execution_count": 25,
   "metadata": {},
   "outputs": [],
   "source": [
    "def log_grad(theta, X, y):\n",
    "    m = np.size(y)\n",
    "    theta = matrix(theta).T\n",
    "    grad = X.T * (sigmoid(X * theta) - y)\n",
    "    \n",
    "    return grad/m"
   ]
  },
  {
   "cell_type": "markdown",
   "metadata": {},
   "source": [
    "#### Primjer 7.2.: Administratori smo sveučilišta i dani su nam podaci koji sadrže rezultate pojedinog studenta na dva različita testa i informaciju jesu li primljeni ili ne na studij. S obzirom na te podatke, želimo na temelju uspjeha na ta dva testa predvidjeti hoće li prijavljeni student biti primljen na studj. "
   ]
  },
  {
   "cell_type": "code",
   "execution_count": 26,
   "metadata": {},
   "outputs": [
    {
     "data": {
      "text/html": [
       "<div>\n",
       "<style scoped>\n",
       "    .dataframe tbody tr th:only-of-type {\n",
       "        vertical-align: middle;\n",
       "    }\n",
       "\n",
       "    .dataframe tbody tr th {\n",
       "        vertical-align: top;\n",
       "    }\n",
       "\n",
       "    .dataframe thead th {\n",
       "        text-align: right;\n",
       "    }\n",
       "</style>\n",
       "<table border=\"1\" class=\"dataframe\">\n",
       "  <thead>\n",
       "    <tr style=\"text-align: right;\">\n",
       "      <th></th>\n",
       "      <th>test_1</th>\n",
       "      <th>test_2</th>\n",
       "      <th>primljeni</th>\n",
       "    </tr>\n",
       "  </thead>\n",
       "  <tbody>\n",
       "    <tr>\n",
       "      <th>0</th>\n",
       "      <td>34.623660</td>\n",
       "      <td>78.024693</td>\n",
       "      <td>0</td>\n",
       "    </tr>\n",
       "    <tr>\n",
       "      <th>1</th>\n",
       "      <td>30.286711</td>\n",
       "      <td>43.894998</td>\n",
       "      <td>0</td>\n",
       "    </tr>\n",
       "    <tr>\n",
       "      <th>2</th>\n",
       "      <td>35.847409</td>\n",
       "      <td>72.902198</td>\n",
       "      <td>0</td>\n",
       "    </tr>\n",
       "    <tr>\n",
       "      <th>3</th>\n",
       "      <td>60.182599</td>\n",
       "      <td>86.308552</td>\n",
       "      <td>1</td>\n",
       "    </tr>\n",
       "    <tr>\n",
       "      <th>4</th>\n",
       "      <td>79.032736</td>\n",
       "      <td>75.344376</td>\n",
       "      <td>1</td>\n",
       "    </tr>\n",
       "    <tr>\n",
       "      <th>5</th>\n",
       "      <td>45.083277</td>\n",
       "      <td>56.316372</td>\n",
       "      <td>0</td>\n",
       "    </tr>\n",
       "    <tr>\n",
       "      <th>6</th>\n",
       "      <td>61.106665</td>\n",
       "      <td>96.511426</td>\n",
       "      <td>1</td>\n",
       "    </tr>\n",
       "    <tr>\n",
       "      <th>7</th>\n",
       "      <td>75.024746</td>\n",
       "      <td>46.554014</td>\n",
       "      <td>1</td>\n",
       "    </tr>\n",
       "    <tr>\n",
       "      <th>8</th>\n",
       "      <td>76.098787</td>\n",
       "      <td>87.420570</td>\n",
       "      <td>1</td>\n",
       "    </tr>\n",
       "    <tr>\n",
       "      <th>9</th>\n",
       "      <td>84.432820</td>\n",
       "      <td>43.533393</td>\n",
       "      <td>1</td>\n",
       "    </tr>\n",
       "  </tbody>\n",
       "</table>\n",
       "</div>"
      ],
      "text/plain": [
       "      test_1     test_2  primljeni\n",
       "0  34.623660  78.024693          0\n",
       "1  30.286711  43.894998          0\n",
       "2  35.847409  72.902198          0\n",
       "3  60.182599  86.308552          1\n",
       "4  79.032736  75.344376          1\n",
       "5  45.083277  56.316372          0\n",
       "6  61.106665  96.511426          1\n",
       "7  75.024746  46.554014          1\n",
       "8  76.098787  87.420570          1\n",
       "9  84.432820  43.533393          1"
      ]
     },
     "execution_count": 26,
     "metadata": {},
     "output_type": "execute_result"
    }
   ],
   "source": [
    "exams = pd.read_csv('studentsdata.txt', sep=',', names=['test_1', 'test_2', 'primljeni'])\n",
    "exams.head(10)"
   ]
  },
  {
   "cell_type": "markdown",
   "metadata": {},
   "source": [
    "Prvo je svakako korisno vizualizirati podatke:"
   ]
  },
  {
   "cell_type": "code",
   "execution_count": 27,
   "metadata": {},
   "outputs": [
    {
     "data": {
      "image/png": "[encoded data removed]",
      "text/plain": [
       "<matplotlib.figure.Figure at 0x1a1c139ac8>"
      ]
     },
     "metadata": {},
     "output_type": "display_data"
    }
   ],
   "source": [
    "fig, ax = plt.subplots(figsize=(8, 6))\n",
    "pos = exams[exams['primljeni'].isin([1])]\n",
    "neg = exams[exams['primljeni'].isin([0])]\n",
    "ax.scatter(pos['test_1'], pos['test_2'], marker='o', c='g', label='Primljeni')\n",
    "ax.scatter(neg['test_1'], neg['test_2'], marker='x', c='b', label='Nisu primljeni')\n",
    "ax.legend()\n",
    "ax.set_xlabel('Broj postignutih bodova na prvom testu')\n",
    "ax.set_ylabel('Broj postignutih bodova na drugom testu')\n",
    "plt.show()"
   ]
  },
  {
   "cell_type": "markdown",
   "metadata": {},
   "source": [
    "Gdje su zeleno označeni primljeni, a plavo označeni nisu primljeni na fakultet. <br>\n"
   ]
  },
  {
   "cell_type": "markdown",
   "metadata": {},
   "source": [
    "Da bismo odredili vjerojatnost primanja studenta na sveučilište s obzirom na dva testa, prvo moramo naći minimum funkcije greške, tj. odrediti parametre za logističku regresiju. U tu svrhu koristimo scipy funkciju **fmin_tnc**. "
   ]
  },
  {
   "cell_type": "code",
   "execution_count": 28,
   "metadata": {},
   "outputs": [],
   "source": [
    "def random_numbers_generator(a, b, d1, d2):\n",
    "    v = np.random.rand(d1, d2)\n",
    "    v = (b - a) * v + a \n",
    "    \n",
    "    return v"
   ]
  },
  {
   "cell_type": "code",
   "execution_count": 29,
   "metadata": {},
   "outputs": [],
   "source": [
    "theta = matrix(random_numbers_generator(-0.5, 0.5, 3, 1), dtype=float)"
   ]
  },
  {
   "cell_type": "markdown",
   "metadata": {},
   "source": [
    "Kao i u primjeru 4.1., podijelimo podatke na one za trening i testne te u tablicu podataka dodajmo stupac jedinica. Za početnu $\\theta$ uzimamo onu generiranu slučajnim odabirom. Pomoću definirane funkcije random_numbers_generator prilagodimo veličinu $\\theta$. "
   ]
  },
  {
   "cell_type": "code",
   "execution_count": 30,
   "metadata": {},
   "outputs": [],
   "source": [
    "X_e = exams[['test_1', 'test_2']]\n",
    "y_e = matrix(exams[['primljeni']])\n",
    "Xe_train, Xe_test, ye_train, ye_test = train_test_split(X_e, y_e, test_size=0.25, random_state=1)"
   ]
  },
  {
   "cell_type": "code",
   "execution_count": 31,
   "metadata": {},
   "outputs": [],
   "source": [
    "Xe_train.insert(0, 'ones', 1)"
   ]
  },
  {
   "cell_type": "code",
   "execution_count": 32,
   "metadata": {},
   "outputs": [],
   "source": [
    "X_exams = matrix(Xe_train)\n",
    "y_exams = matrix(ye_train)"
   ]
  },
  {
   "cell_type": "code",
   "execution_count": 33,
   "metadata": {},
   "outputs": [
    {
     "data": {
      "text/plain": [
       "array([-28.62387075,   0.23249227,   0.23363778])"
      ]
     },
     "execution_count": 33,
     "metadata": {},
     "output_type": "execute_result"
    }
   ],
   "source": [
    "parametri = opt.fmin_tnc(func=log_cost, fprime=log_grad, x0=theta, args=(X_exams, y_exams))\n",
    "parametri = np.array(parametri[0])\n",
    "parametri"
   ]
  },
  {
   "cell_type": "markdown",
   "metadata": {},
   "source": [
    "Slijedi, $$h_{\\theta}(x) = -28.62 + 0.23\\cdot x1 + 0.23\\cdot x2$$"
   ]
  },
  {
   "cell_type": "markdown",
   "metadata": {},
   "source": [
    "Prikažimo dobivenu logističku regresiju na grafu zajedno s podacima:"
   ]
  },
  {
   "cell_type": "code",
   "execution_count": 34,
   "metadata": {},
   "outputs": [
    {
     "data": {
      "image/png": "[encoded data removed]",
      "text/plain": [
       "<matplotlib.figure.Figure at 0x1a1c2e2710>"
      ]
     },
     "metadata": {},
     "output_type": "display_data"
    }
   ],
   "source": [
    "fig, ax = plt.subplots(figsize=(8, 6))\n",
    "pos = exams[exams['primljeni'].isin([1])]\n",
    "neg = exams[exams['primljeni'].isin([0])]\n",
    "ax.scatter(pos['test_1'], pos['test_2'], marker='o', c='g', label='Primljeni')\n",
    "ax.scatter(neg['test_1'], neg['test_2'], marker='x', c='b', label='Nisu primljeni')\n",
    "x = np.arange(20, 110, 0.1)\n",
    "ax.plot(x, (- parametri[0] - parametri[1] * x) / parametri[2], label='granica odlučivanja')\n",
    "ax.legend()\n",
    "ax.set_xlabel('Broj postignutih bodova na prvom testu')\n",
    "ax.set_ylabel('Broj postignutih bodova na drugom testu')\n",
    "plt.show()"
   ]
  },
  {
   "cell_type": "markdown",
   "metadata": {},
   "source": [
    "Izračunajmo i funkciju greške:"
   ]
  },
  {
   "cell_type": "code",
   "execution_count": 35,
   "metadata": {},
   "outputs": [
    {
     "data": {
      "text/plain": [
       "0.1755022415406459"
      ]
     },
     "execution_count": 35,
     "metadata": {},
     "output_type": "execute_result"
    }
   ],
   "source": [
    "log_cost(parametri, X_exams, y_exams).item(0)"
   ]
  },
  {
   "cell_type": "markdown",
   "metadata": {},
   "source": [
    "Pretpostavimo da imamo studenta koji je na prvom testu ostvario 45 bodova, a na drugom 85. Izračunajmo vjerojatnost da bude primljen na sveučilište."
   ]
  },
  {
   "cell_type": "code",
   "execution_count": 36,
   "metadata": {},
   "outputs": [],
   "source": [
    "def predict(theta, x):\n",
    "    p = sigmoid(x * theta)\n",
    "    \n",
    "    return p"
   ]
  },
  {
   "cell_type": "code",
   "execution_count": 37,
   "metadata": {},
   "outputs": [
    {
     "data": {
      "text/plain": [
       "'84.52%'"
      ]
     },
     "execution_count": 37,
     "metadata": {},
     "output_type": "execute_result"
    }
   ],
   "source": [
    "student = matrix(np.array([1, 45, 85]))\n",
    "vjerojatnost = predict(matrix(parametri).T, student)\n",
    "'{0:.2f}%'.format(vjerojatnost.item(0)*100)"
   ]
  },
  {
   "cell_type": "markdown",
   "metadata": {},
   "source": [
    "### 8. Problem *overfittinga*"
   ]
  },
  {
   "cell_type": "markdown",
   "metadata": {},
   "source": [
    "Promatrajmo problem predviđanja y s obzirom na x $\\in R$. Prvi graf prikazuje rezultat prilagdođavanja $y=\\theta_{0}+\\theta_{1}x$ zadanim podacima. Vidimo da podaci zapravo ne leže na ravnoj liniji pa procjena nije dovoljno dobra. <br>\n",
    "Međutim, postoji i opasnost u dodavanju previše svojstava. Drugi graf je rezultat opisivanja podataka polinomom stupnja 2. Iako krivulja savršeno opisuje zadane podatke, postoji mogućnost da ona nije dobar predikator. <br>\n",
    "\n"
   ]
  },
  {
   "cell_type": "code",
   "execution_count": 38,
   "metadata": {},
   "outputs": [
    {
     "data": {
      "text/plain": [
       "[<matplotlib.lines.Line2D at 0x1a1c1dbc88>]"
      ]
     },
     "execution_count": 38,
     "metadata": {},
     "output_type": "execute_result"
    },
    {
     "data": {
      "image/png": "[encoded data removed]",
      "text/plain": [
       "<matplotlib.figure.Figure at 0x1a1c409278>"
      ]
     },
     "metadata": {},
     "output_type": "display_data"
    }
   ],
   "source": [
    "def f1(t):\n",
    "    return t\n",
    "\n",
    "def f3(t):\n",
    "    return t**2\n",
    "\n",
    "x = np.arange(-4, 5, 1)\n",
    "y1 = f3(x)\n",
    "plt.figure(1)\n",
    "plt.subplot(211)\n",
    "plt.plot(x, y1, 'ro')\n",
    "plt.plot(x, f1(x))\n",
    "\n",
    "plt.subplot(212)\n",
    "y2 = f3(x)\n",
    "plt.plot(x, y1, 'ro')\n",
    "plt.plot(x, y2)"
   ]
  },
  {
   "cell_type": "markdown",
   "metadata": {},
   "source": [
    "Kažemo da je prvi graf primjer *underfittinga* - krivulja ne opisuje dobro podatke, dok je drugi graf primjer potencijalnog *overfittinga*. <br>  <br>\n",
    "**Kada se overfitting može dogoditi?**<br>\n",
    "Uzmimo za primjer da nam je dan neki skup podataka na temelju kojega želimo predvidjeti vrijednosti *outputa* za bilo koji *input*. Sljedeće što nam se može dogoditi je da s funkcijom hipoteze savršeno opišemo naše dane podatke, no ako uzmemo neki novi *input* $x$ da funkcija hipoteze ne predviđa dobar *output* $y$. Kao što je već spomenuto, to se može dogoditi ako treniramo model na cijelom skupu podataka koje imamo i tako prouzročimo da model savršeno radi za te podatke, no za nove, testne podatke ne daje dobar rezultat. <br><br>\n",
    "**Rješavanje problema overfittinga:** <br>\n",
    "1. smanjenje broja svojstava\n",
    "2. regularizacija"
   ]
  },
  {
   "cell_type": "markdown",
   "metadata": {},
   "source": [
    "**Smanjenje broja svojstava:** <br>\n",
    "Trebamo odlučiti/provesti testove koji su nam parametri od veće važnosti i s obzirom na njih istrenirati model, a druge parametre zanemariti."
   ]
  },
  {
   "cell_type": "markdown",
   "metadata": {},
   "source": [
    "**Regularizacija:** <br>\n",
    "Funkcija troška postaje: <br>\n",
    "$$\\frac{1}{2m}\\sum_{i=1}^{m}(h_{\\theta}(x^{(i)})-y^{(i)})^{2}+\\lambda\\sum_{j=1}^{n}\\theta_{j}^{2}$$"
   ]
  },
  {
   "cell_type": "markdown",
   "metadata": {},
   "source": [
    "$\\lambda$ je regularizacijski parametar. Koristeći takvu funkciju troška smanjujemo *overfitting*. No, $\\lambda$ ne smije biti prevelik kako ne bismo došli do *underfittinga*. "
   ]
  },
  {
   "cell_type": "code",
   "execution_count": 39,
   "metadata": {},
   "outputs": [],
   "source": [
    "def cost_reg(theta, X, y, rate):\n",
    "    theta = np.matrix(theta)\n",
    "    X = np.matrix(X)\n",
    "    y = np.matrix(y)\n",
    "    tmp1 = np.multiply(-y, np.log(sigmoid(X * theta.T)))\n",
    "    tmp2 = np.multiply((1 - y), np.log(1-sigmoid(X * theta.T)))\n",
    "    regularization = (rate / (2 * len(X))) * np.sum(np.power(theta[:,1:theta.shape[1]], 2))\n",
    "    \n",
    "    return np.sum(tmp1 - tmp2) / (len(X)) + regularization"
   ]
  },
  {
   "cell_type": "markdown",
   "metadata": {},
   "source": [
    "**Regularizirana linearna i logistička regresija:** <br>\n",
    "Modificirani gradijent: <br>\n",
    "            Repeat {\n",
    " $$\\theta_{0}:=\\theta_{0}-\\alpha\\frac{1}{m}\\sum_{i=1}^{m}(h_{\\theta}(x^{(i)})-y^{(i)})x_{0}^{(i)}$$ \n",
    " $$\\theta_{j}:=\\theta_{j}-\\alpha((\\frac{1}{m}\\sum_{i=1}^{m}(h_{\\theta}(x^{(i)})-y^{(i)})x_{j}^{(i)})+\\frac{\\lambda}{m}\\theta_{j})$$\n",
    "} <br>\n",
    "j$\\in${1,2,...,n}"
   ]
  },
  {
   "cell_type": "code",
   "execution_count": 40,
   "metadata": {},
   "outputs": [],
   "source": [
    "def gradient_reg(theta, X, y, rate):\n",
    "    X = np.matrix(X)\n",
    "    y = np.matrix(y)\n",
    "    theta = np.matrix(theta)\n",
    "    rez = theta.size\n",
    "    gradient = np.zeros(rez)\n",
    "    razlika = sigmoid(X * theta.T) - y\n",
    "    m = X.shape[0]\n",
    "    for i in range(rez):\n",
    "        tmp = np.multiply(razlika, X[:,i])\n",
    "        if (i == 0):\n",
    "            gradient[i] = np.sum(tmp) / len(X)\n",
    "        else:\n",
    "            gradient[i] = (np.sum(tmp) / len(X)) + ((rate / len(X)) * theta[:, i])\n",
    "            \n",
    "    return gradient"
   ]
  },
  {
   "cell_type": "markdown",
   "metadata": {},
   "source": [
    "#### Primjer 8.1.: Pretpostavimo da vodimo tvornicu i na raspolaganju su nam podatci o mikročipovima s obzirom na dva testa. Na temelju tih testova, želimo procijeniti treba li mikročip biti stavljen u prodaju ili odbačen."
   ]
  },
  {
   "cell_type": "code",
   "execution_count": 41,
   "metadata": {},
   "outputs": [
    {
     "data": {
      "text/html": [
       "<div>\n",
       "<style scoped>\n",
       "    .dataframe tbody tr th:only-of-type {\n",
       "        vertical-align: middle;\n",
       "    }\n",
       "\n",
       "    .dataframe tbody tr th {\n",
       "        vertical-align: top;\n",
       "    }\n",
       "\n",
       "    .dataframe thead th {\n",
       "        text-align: right;\n",
       "    }\n",
       "</style>\n",
       "<table border=\"1\" class=\"dataframe\">\n",
       "  <thead>\n",
       "    <tr style=\"text-align: right;\">\n",
       "      <th></th>\n",
       "      <th>prvi_test</th>\n",
       "      <th>drugi_test</th>\n",
       "      <th>primljeni</th>\n",
       "    </tr>\n",
       "  </thead>\n",
       "  <tbody>\n",
       "    <tr>\n",
       "      <th>50</th>\n",
       "      <td>0.137670</td>\n",
       "      <td>0.575290</td>\n",
       "      <td>1</td>\n",
       "    </tr>\n",
       "    <tr>\n",
       "      <th>51</th>\n",
       "      <td>-0.006336</td>\n",
       "      <td>0.399850</td>\n",
       "      <td>1</td>\n",
       "    </tr>\n",
       "    <tr>\n",
       "      <th>52</th>\n",
       "      <td>-0.092742</td>\n",
       "      <td>0.553360</td>\n",
       "      <td>1</td>\n",
       "    </tr>\n",
       "    <tr>\n",
       "      <th>53</th>\n",
       "      <td>-0.207950</td>\n",
       "      <td>0.355990</td>\n",
       "      <td>1</td>\n",
       "    </tr>\n",
       "    <tr>\n",
       "      <th>54</th>\n",
       "      <td>-0.207950</td>\n",
       "      <td>0.173250</td>\n",
       "      <td>1</td>\n",
       "    </tr>\n",
       "    <tr>\n",
       "      <th>55</th>\n",
       "      <td>-0.438360</td>\n",
       "      <td>0.217110</td>\n",
       "      <td>1</td>\n",
       "    </tr>\n",
       "    <tr>\n",
       "      <th>56</th>\n",
       "      <td>-0.219470</td>\n",
       "      <td>-0.016813</td>\n",
       "      <td>1</td>\n",
       "    </tr>\n",
       "    <tr>\n",
       "      <th>57</th>\n",
       "      <td>-0.138820</td>\n",
       "      <td>-0.272660</td>\n",
       "      <td>1</td>\n",
       "    </tr>\n",
       "    <tr>\n",
       "      <th>58</th>\n",
       "      <td>0.183760</td>\n",
       "      <td>0.933480</td>\n",
       "      <td>0</td>\n",
       "    </tr>\n",
       "    <tr>\n",
       "      <th>59</th>\n",
       "      <td>0.224080</td>\n",
       "      <td>0.779970</td>\n",
       "      <td>0</td>\n",
       "    </tr>\n",
       "    <tr>\n",
       "      <th>60</th>\n",
       "      <td>0.298960</td>\n",
       "      <td>0.619150</td>\n",
       "      <td>0</td>\n",
       "    </tr>\n",
       "  </tbody>\n",
       "</table>\n",
       "</div>"
      ],
      "text/plain": [
       "    prvi_test  drugi_test  primljeni\n",
       "50   0.137670    0.575290          1\n",
       "51  -0.006336    0.399850          1\n",
       "52  -0.092742    0.553360          1\n",
       "53  -0.207950    0.355990          1\n",
       "54  -0.207950    0.173250          1\n",
       "55  -0.438360    0.217110          1\n",
       "56  -0.219470   -0.016813          1\n",
       "57  -0.138820   -0.272660          1\n",
       "58   0.183760    0.933480          0\n",
       "59   0.224080    0.779970          0\n",
       "60   0.298960    0.619150          0"
      ]
     },
     "execution_count": 41,
     "metadata": {},
     "output_type": "execute_result"
    }
   ],
   "source": [
    "chips = pd.read_csv('chips.txt', delimiter=',', names=['prvi_test', 'drugi_test', 'primljeni'])\n",
    "chips.loc[50:60, :]"
   ]
  },
  {
   "cell_type": "markdown",
   "metadata": {},
   "source": [
    "Zašto ćemo na ovim podacima koristiti regulariziranu logističku regresiju? <br>\n",
    "Pogledajmo kako podaci izgledaju."
   ]
  },
  {
   "cell_type": "code",
   "execution_count": 42,
   "metadata": {},
   "outputs": [
    {
     "data": {
      "image/png": "[encoded data removed]",
      "text/plain": [
       "<matplotlib.figure.Figure at 0x1a1c147a58>"
      ]
     },
     "metadata": {},
     "output_type": "display_data"
    }
   ],
   "source": [
    "fig,ax = plt.subplots(figsize=(8, 6))\n",
    "pos_c = chips[chips['primljeni'].isin([1])]\n",
    "neg_c = chips[chips['primljeni'].isin([0])]\n",
    "ax.scatter(pos_c['prvi_test'], pos_c['drugi_test'], marker='o', c='c', label='Primljeni')\n",
    "ax.scatter(neg_c['prvi_test'], neg_c['drugi_test'], marker='x', c='m', label='Nisu primljeni')\n",
    "ax.legend()\n",
    "ax.set_xlabel('Rezultat prvog testa')\n",
    "ax.set_ylabel('Rezultat drugog testa')\n",
    "plt.show()"
   ]
  },
  {
   "cell_type": "markdown",
   "metadata": {},
   "source": [
    "Jasno je da podaci ne mogu biti razdvojeni ravnom linijom na skup onih koji su primljeni i onih koji nisu primljeni za daljnju prodaju. Zbog toga *\"obična\"* logistička regresija neće dobro predviđati rezultate jer ona može pronaći samo linearnu granicu odlučivanja. Primjećujemo da nam treba polinom višeg stupnja kao dobra linija odlučivanja, no uzmemo li prevelik stupanj, postoji mogućnost *overfittinga*. Zato pristupamo problemu pomoću regularizirane logističke regresije kako bismo izbjegli *overfitting*. Podatke dijelimo u one za trening i testne. <br>\n",
    "U matricu podataka, osim stupca jedinica, sada dodajemo polinomijalna svojstva, a izbacujemo stupce *inputa* za trening. \n",
    "Polinomijalna svojstva, s obzirom na stupanj 6 su oblika : 1, $x_{1}$, $x_{2}$, $x_{1}^{2}$, $x_{1}\\cdot x_{2}$, $x_{2}^{2}$, $x_{1}^{3}$, ...  , $x_{1}\\cdot x_{2}^{5}$,  $x_{2}^{6}.$ <br>\n",
    "Napišimo funkciju za dodavanje polinomijalnih svojstava:"
   ]
  },
  {
   "cell_type": "code",
   "execution_count": 43,
   "metadata": {},
   "outputs": [],
   "source": [
    "def mapfeature(X1, X2):\n",
    "    degree = 6\n",
    "    for i in range(1, degree):\n",
    "        for j in range(0, i):\n",
    "            chips['F' + str(i) + str(j)] = np.power(X1, i-j) * np.power(X2, j) \n",
    "\n",
    "    return chips"
   ]
  },
  {
   "cell_type": "code",
   "execution_count": 44,
   "metadata": {},
   "outputs": [],
   "source": [
    "x1 = chips['prvi_test']\n",
    "x2 = chips['drugi_test']"
   ]
  },
  {
   "cell_type": "code",
   "execution_count": 45,
   "metadata": {},
   "outputs": [],
   "source": [
    "data = mapfeature(x1, x2)"
   ]
  },
  {
   "cell_type": "markdown",
   "metadata": {},
   "source": [
    "Pogledajmo kako tablica podataka izgleda nakon dodavanja polinomijalnih svojstava."
   ]
  },
  {
   "cell_type": "code",
   "execution_count": 46,
   "metadata": {},
   "outputs": [
    {
     "data": {
      "text/html": [
       "<div>\n",
       "<style scoped>\n",
       "    .dataframe tbody tr th:only-of-type {\n",
       "        vertical-align: middle;\n",
       "    }\n",
       "\n",
       "    .dataframe tbody tr th {\n",
       "        vertical-align: top;\n",
       "    }\n",
       "\n",
       "    .dataframe thead th {\n",
       "        text-align: right;\n",
       "    }\n",
       "</style>\n",
       "<table border=\"1\" class=\"dataframe\">\n",
       "  <thead>\n",
       "    <tr style=\"text-align: right;\">\n",
       "      <th></th>\n",
       "      <th>prvi_test</th>\n",
       "      <th>drugi_test</th>\n",
       "      <th>primljeni</th>\n",
       "      <th>F10</th>\n",
       "      <th>F20</th>\n",
       "      <th>F21</th>\n",
       "      <th>F30</th>\n",
       "      <th>F31</th>\n",
       "      <th>F32</th>\n",
       "      <th>F40</th>\n",
       "      <th>F41</th>\n",
       "      <th>F42</th>\n",
       "      <th>F43</th>\n",
       "      <th>F50</th>\n",
       "      <th>F51</th>\n",
       "      <th>F52</th>\n",
       "      <th>F53</th>\n",
       "      <th>F54</th>\n",
       "    </tr>\n",
       "  </thead>\n",
       "  <tbody>\n",
       "    <tr>\n",
       "      <th>0</th>\n",
       "      <td>0.051267</td>\n",
       "      <td>0.69956</td>\n",
       "      <td>1</td>\n",
       "      <td>0.051267</td>\n",
       "      <td>0.002628</td>\n",
       "      <td>0.035864</td>\n",
       "      <td>0.000135</td>\n",
       "      <td>0.001839</td>\n",
       "      <td>0.025089</td>\n",
       "      <td>0.000007</td>\n",
       "      <td>0.000094</td>\n",
       "      <td>0.001286</td>\n",
       "      <td>0.017551</td>\n",
       "      <td>3.541519e-07</td>\n",
       "      <td>0.000005</td>\n",
       "      <td>0.000066</td>\n",
       "      <td>0.000900</td>\n",
       "      <td>0.012278</td>\n",
       "    </tr>\n",
       "    <tr>\n",
       "      <th>1</th>\n",
       "      <td>-0.092742</td>\n",
       "      <td>0.68494</td>\n",
       "      <td>1</td>\n",
       "      <td>-0.092742</td>\n",
       "      <td>0.008601</td>\n",
       "      <td>-0.063523</td>\n",
       "      <td>-0.000798</td>\n",
       "      <td>0.005891</td>\n",
       "      <td>-0.043509</td>\n",
       "      <td>0.000074</td>\n",
       "      <td>-0.000546</td>\n",
       "      <td>0.004035</td>\n",
       "      <td>-0.029801</td>\n",
       "      <td>-6.860919e-06</td>\n",
       "      <td>0.000051</td>\n",
       "      <td>-0.000374</td>\n",
       "      <td>0.002764</td>\n",
       "      <td>-0.020412</td>\n",
       "    </tr>\n",
       "    <tr>\n",
       "      <th>2</th>\n",
       "      <td>-0.213710</td>\n",
       "      <td>0.69225</td>\n",
       "      <td>1</td>\n",
       "      <td>-0.213710</td>\n",
       "      <td>0.045672</td>\n",
       "      <td>-0.147941</td>\n",
       "      <td>-0.009761</td>\n",
       "      <td>0.031616</td>\n",
       "      <td>-0.102412</td>\n",
       "      <td>0.002086</td>\n",
       "      <td>-0.006757</td>\n",
       "      <td>0.021886</td>\n",
       "      <td>-0.070895</td>\n",
       "      <td>-4.457837e-04</td>\n",
       "      <td>0.001444</td>\n",
       "      <td>-0.004677</td>\n",
       "      <td>0.015151</td>\n",
       "      <td>-0.049077</td>\n",
       "    </tr>\n",
       "    <tr>\n",
       "      <th>3</th>\n",
       "      <td>-0.375000</td>\n",
       "      <td>0.50219</td>\n",
       "      <td>1</td>\n",
       "      <td>-0.375000</td>\n",
       "      <td>0.140625</td>\n",
       "      <td>-0.188321</td>\n",
       "      <td>-0.052734</td>\n",
       "      <td>0.070620</td>\n",
       "      <td>-0.094573</td>\n",
       "      <td>0.019775</td>\n",
       "      <td>-0.026483</td>\n",
       "      <td>0.035465</td>\n",
       "      <td>-0.047494</td>\n",
       "      <td>-7.415771e-03</td>\n",
       "      <td>0.009931</td>\n",
       "      <td>-0.013299</td>\n",
       "      <td>0.017810</td>\n",
       "      <td>-0.023851</td>\n",
       "    </tr>\n",
       "    <tr>\n",
       "      <th>4</th>\n",
       "      <td>-0.513250</td>\n",
       "      <td>0.46564</td>\n",
       "      <td>1</td>\n",
       "      <td>-0.513250</td>\n",
       "      <td>0.263426</td>\n",
       "      <td>-0.238990</td>\n",
       "      <td>-0.135203</td>\n",
       "      <td>0.122661</td>\n",
       "      <td>-0.111283</td>\n",
       "      <td>0.069393</td>\n",
       "      <td>-0.062956</td>\n",
       "      <td>0.057116</td>\n",
       "      <td>-0.051818</td>\n",
       "      <td>-3.561597e-02</td>\n",
       "      <td>0.032312</td>\n",
       "      <td>-0.029315</td>\n",
       "      <td>0.026596</td>\n",
       "      <td>-0.024128</td>\n",
       "    </tr>\n",
       "  </tbody>\n",
       "</table>\n",
       "</div>"
      ],
      "text/plain": [
       "   prvi_test  drugi_test  primljeni       F10       F20       F21       F30  \\\n",
       "0   0.051267     0.69956          1  0.051267  0.002628  0.035864  0.000135   \n",
       "1  -0.092742     0.68494          1 -0.092742  0.008601 -0.063523 -0.000798   \n",
       "2  -0.213710     0.69225          1 -0.213710  0.045672 -0.147941 -0.009761   \n",
       "3  -0.375000     0.50219          1 -0.375000  0.140625 -0.188321 -0.052734   \n",
       "4  -0.513250     0.46564          1 -0.513250  0.263426 -0.238990 -0.135203   \n",
       "\n",
       "        F31       F32       F40       F41       F42       F43           F50  \\\n",
       "0  0.001839  0.025089  0.000007  0.000094  0.001286  0.017551  3.541519e-07   \n",
       "1  0.005891 -0.043509  0.000074 -0.000546  0.004035 -0.029801 -6.860919e-06   \n",
       "2  0.031616 -0.102412  0.002086 -0.006757  0.021886 -0.070895 -4.457837e-04   \n",
       "3  0.070620 -0.094573  0.019775 -0.026483  0.035465 -0.047494 -7.415771e-03   \n",
       "4  0.122661 -0.111283  0.069393 -0.062956  0.057116 -0.051818 -3.561597e-02   \n",
       "\n",
       "        F51       F52       F53       F54  \n",
       "0  0.000005  0.000066  0.000900  0.012278  \n",
       "1  0.000051 -0.000374  0.002764 -0.020412  \n",
       "2  0.001444 -0.004677  0.015151 -0.049077  \n",
       "3  0.009931 -0.013299  0.017810 -0.023851  \n",
       "4  0.032312 -0.029315  0.026596 -0.024128  "
      ]
     },
     "execution_count": 46,
     "metadata": {},
     "output_type": "execute_result"
    }
   ],
   "source": [
    "data.head()"
   ]
  },
  {
   "cell_type": "code",
   "execution_count": 47,
   "metadata": {},
   "outputs": [],
   "source": [
    "stupci = data.shape[1]\n",
    "X_chips = data.iloc[:,3:stupci]\n",
    "Y_chips = data.iloc[:,2:3]"
   ]
  },
  {
   "cell_type": "code",
   "execution_count": 48,
   "metadata": {},
   "outputs": [],
   "source": [
    "theta_chips = np.zeros(16)"
   ]
  },
  {
   "cell_type": "code",
   "execution_count": 49,
   "metadata": {},
   "outputs": [],
   "source": [
    "Xc_train, Xc_test, yc_train, yc_test = train_test_split(X_chips, Y_chips, test_size=0.25, random_state=1)"
   ]
  },
  {
   "cell_type": "markdown",
   "metadata": {},
   "source": [
    "Kao i uvijek, da bismo mogli odrediti funkciju troška, u podatke dodajemo stupac jedinica i računamo funkciju troška na podacima za trening s obzirom na $\\theta$."
   ]
  },
  {
   "cell_type": "code",
   "execution_count": 50,
   "metadata": {},
   "outputs": [
    {
     "data": {
      "text/plain": [
       "0.6931471805599453"
      ]
     },
     "execution_count": 50,
     "metadata": {},
     "output_type": "execute_result"
    }
   ],
   "source": [
    "Xc_train.insert(0, 'ones', 1)\n",
    "cost_reg(theta_chips, Xc_train, yc_train, rate=1)"
   ]
  },
  {
   "cell_type": "markdown",
   "metadata": {},
   "source": [
    "Funkcija troška, s obzirom na $\\theta=0$, iznosi 0.7."
   ]
  },
  {
   "cell_type": "markdown",
   "metadata": {},
   "source": [
    "Pronađimo minimum funkcije troška pomoću funkcije fmin_tnc kao i u prethodnim primjerima."
   ]
  },
  {
   "cell_type": "markdown",
   "metadata": {},
   "source": [
    "Uzimamo regularizacijski parametar, $\\lambda=1$ i $\\theta=0$."
   ]
  },
  {
   "cell_type": "code",
   "execution_count": 51,
   "metadata": {},
   "outputs": [],
   "source": [
    "rate = 1"
   ]
  },
  {
   "cell_type": "code",
   "execution_count": 52,
   "metadata": {},
   "outputs": [
    {
     "data": {
      "text/plain": [
       "(array([ 0.75368935,  0.23764274, -1.58242472, -0.66422255, -0.13557143,\n",
       "        -0.21302341, -0.17599595, -1.2420661 , -0.0425887 , -0.64527528,\n",
       "        -0.09121118, -0.33529966, -0.11813911, -0.07675087, -0.22929084,\n",
       "        -0.10183409]), 19, 1)"
      ]
     },
     "execution_count": 52,
     "metadata": {},
     "output_type": "execute_result"
    }
   ],
   "source": [
    "res = opt.fmin_tnc(func=cost_reg, x0=theta_chips, fprime=gradient_reg, args=(Xc_train, yc_train, rate))\n",
    "res"
   ]
  },
  {
   "cell_type": "code",
   "execution_count": 53,
   "metadata": {},
   "outputs": [
    {
     "data": {
      "text/plain": [
       "0.6142817383053731"
      ]
     },
     "execution_count": 53,
     "metadata": {},
     "output_type": "execute_result"
    }
   ],
   "source": [
    "cost_reg(res[0], Xc_train, yc_train, rate=1)"
   ]
  },
  {
   "cell_type": "markdown",
   "metadata": {},
   "source": [
    "Provedimo treniranje modela pomoću funkcije LogisticRegression() na istim podacima i s istim parametrom učenja."
   ]
  },
  {
   "cell_type": "code",
   "execution_count": 54,
   "metadata": {},
   "outputs": [],
   "source": [
    "Xc_train = Xc_train.drop(columns=['ones'])\n",
    "yc_train = np.array(yc_train).ravel()"
   ]
  },
  {
   "cell_type": "code",
   "execution_count": 55,
   "metadata": {},
   "outputs": [
    {
     "data": {
      "text/plain": [
       "LogisticRegression(C=1.0, class_weight=None, dual=False, fit_intercept=True,\n",
       "          intercept_scaling=1, max_iter=100, multi_class='ovr', n_jobs=1,\n",
       "          penalty='l2', random_state=None, solver='liblinear', tol=0.0001,\n",
       "          verbose=0, warm_start=False)"
      ]
     },
     "execution_count": 55,
     "metadata": {},
     "output_type": "execute_result"
    }
   ],
   "source": [
    "logreg3 = LogisticRegression()\n",
    "logreg3.fit(Xc_train, yc_train)"
   ]
  },
  {
   "cell_type": "code",
   "execution_count": 56,
   "metadata": {},
   "outputs": [
    {
     "name": "stdout",
     "output_type": "stream",
     "text": [
      "Koeficijent za F10 je 0.23225552308283332\n",
      "Koeficijent za F20 je -1.5042335040123727\n",
      "Koeficijent za F21 je -0.6752920595231477\n",
      "Koeficijent za F30 je -0.13656085712815966\n",
      "Koeficijent za F31 je -0.20510958463773116\n",
      "Koeficijent za F32 je -0.17177096983969364\n",
      "Koeficijent za F40 je -1.2262277143612323\n",
      "Koeficijent za F41 je -0.043900560349438164\n",
      "Koeficijent za F42 je -0.6278189689235031\n",
      "Koeficijent za F43 je -0.09587452587995408\n",
      "Koeficijent za F50 je -0.3376754366924191\n",
      "Koeficijent za F51 je -0.11660849251077213\n",
      "Koeficijent za F52 je -0.07561368388768115\n",
      "Koeficijent za F53 je -0.22359712992080555\n",
      "Koeficijent za F54 je -0.10117134713506896\n"
     ]
    }
   ],
   "source": [
    "for idx, col_name in enumerate(Xc_train.columns):\n",
    "    print('Koeficijent za {} je {}'.format(col_name, logreg3.coef_[0][idx]))"
   ]
  },
  {
   "cell_type": "code",
   "execution_count": 57,
   "metadata": {},
   "outputs": [
    {
     "name": "stdout",
     "output_type": "stream",
     "text": [
      "Sjeciste s osi y iznosi 0.6980178191555543\n"
     ]
    }
   ],
   "source": [
    "intercept4 = logreg3.intercept_[0]\n",
    "print('Sjeciste s osi y iznosi {}'.format(intercept4))"
   ]
  },
  {
   "cell_type": "markdown",
   "metadata": {},
   "source": [
    "Primjećujemo da smo dobili približno iste parametre u oba načina."
   ]
  },
  {
   "cell_type": "markdown",
   "metadata": {},
   "source": [
    "Izračunajmo točnost modela na testnim podacima:"
   ]
  },
  {
   "cell_type": "code",
   "execution_count": 58,
   "metadata": {},
   "outputs": [
    {
     "data": {
      "text/plain": [
       "0.5"
      ]
     },
     "execution_count": 58,
     "metadata": {},
     "output_type": "execute_result"
    }
   ],
   "source": [
    "logreg3.score(Xc_test, yc_test)"
   ]
  },
  {
   "cell_type": "markdown",
   "metadata": {},
   "source": [
    "Za kraj, vratimo se na primjer 7.2.: Administratori smo nekog sveučilišta i želimo procijeniti vjerojatnost primanja na sveučilište svakog prijavljenog studenta s obzirom na rezultate postignute na dva testa. \n",
    "<br> Provedimo opet logističku regresiju, no sada s regularizacijskim parametrom 1 u svrhu izbjegavanja potencijalnog *overfittinga*."
   ]
  },
  {
   "cell_type": "code",
   "execution_count": 59,
   "metadata": {},
   "outputs": [],
   "source": [
    "ye_train = np.array(ye_train).ravel()\n",
    "Xe_train = Xe_train.drop(columns=['ones'])"
   ]
  },
  {
   "cell_type": "code",
   "execution_count": 60,
   "metadata": {},
   "outputs": [],
   "source": [
    "logreg2 = LogisticRegression()"
   ]
  },
  {
   "cell_type": "code",
   "execution_count": 61,
   "metadata": {},
   "outputs": [
    {
     "data": {
      "text/plain": [
       "LogisticRegression(C=1.0, class_weight=None, dual=False, fit_intercept=True,\n",
       "          intercept_scaling=1, max_iter=100, multi_class='ovr', n_jobs=1,\n",
       "          penalty='l2', random_state=None, solver='liblinear', tol=0.0001,\n",
       "          verbose=0, warm_start=False)"
      ]
     },
     "execution_count": 61,
     "metadata": {},
     "output_type": "execute_result"
    }
   ],
   "source": [
    "logreg2.fit(Xe_train, ye_train)"
   ]
  },
  {
   "cell_type": "code",
   "execution_count": 62,
   "metadata": {},
   "outputs": [
    {
     "name": "stdout",
     "output_type": "stream",
     "text": [
      "Koeficijent za test_1 je 0.03116754111445834\n",
      "Koeficijent za test_2 je 0.029897026871488992\n"
     ]
    }
   ],
   "source": [
    "for idx, col_name in enumerate(Xe_train.columns):\n",
    "    print('Koeficijent za {} je {}'.format(col_name, logreg2.coef_[0][idx]))"
   ]
  },
  {
   "cell_type": "code",
   "execution_count": 63,
   "metadata": {},
   "outputs": [
    {
     "name": "stdout",
     "output_type": "stream",
     "text": [
      "Sjecište s osi y iznosi -3.293035712965923\n"
     ]
    }
   ],
   "source": [
    "intercept3 = logreg2.intercept_[0]\n",
    "print('Sjecište s osi y iznosi {}'.format(intercept3))"
   ]
  },
  {
   "cell_type": "markdown",
   "metadata": {},
   "source": [
    "Slijedi, $h_{\\theta}(x) = -3.29 + 0.03\\cdot x1 + 0.03\\cdot x2$"
   ]
  },
  {
   "cell_type": "markdown",
   "metadata": {},
   "source": [
    "Prikažimo tako dobiven model s prethodno dobivenim modelom za taj skup podataka:"
   ]
  },
  {
   "cell_type": "code",
   "execution_count": 64,
   "metadata": {},
   "outputs": [
    {
     "data": {
      "image/png": "[encoded data removed]",
      "text/plain": [
       "<matplotlib.figure.Figure at 0x1a1c45deb8>"
      ]
     },
     "metadata": {},
     "output_type": "display_data"
    }
   ],
   "source": [
    "fig, ax = plt.subplots(figsize=(8, 6))\n",
    "pos = exams[exams['primljeni'].isin([1])]\n",
    "neg = exams[exams['primljeni'].isin([0])]\n",
    "ax.scatter(pos['test_1'], pos['test_2'], marker='o', c='g', label='Primljeni')\n",
    "ax.scatter(neg['test_1'], neg['test_2'], marker='x', c='b', label='Nisu primljeni')\n",
    "x = np.arange(20, 110, 0.1)\n",
    "ax.plot(x, (- parametri[0] - parametri[1] * x) / parametri[2], label='gradient descent granica odlučivanja')\n",
    "ax.plot(x, (- logreg2.intercept_[0] - logreg2.coef_[0][0] * x) / logreg2.coef_[0][1],\\\n",
    "        label='LogisticRegression() granica odlucivanja')\n",
    "ax.legend()\n",
    "ax.set_xlabel('Broj postignutih bodova na prvom testu')\n",
    "ax.set_ylabel('Broj postignutih bodova na drugom testu')\n",
    "plt.show()"
   ]
  },
  {
   "cell_type": "markdown",
   "metadata": {},
   "source": [
    "Primjećujemo da se granica odlučivanja dobivena metodom *gradient descenta* razlikuje od one dobivene pozivanjem funkcije LogisticRegression(). <br>\n",
    "To je rezultat regulariziranja parametra u metodi LogisticRegression() u svrhu smanjenja potencijalnog *overfittinga* modela na podacima za trening. "
   ]
  },
  {
   "cell_type": "markdown",
   "metadata": {},
   "source": [
    "Za kraj provjerimo koji model bolje predviđa testne podatke."
   ]
  },
  {
   "cell_type": "code",
   "execution_count": 65,
   "metadata": {},
   "outputs": [],
   "source": [
    "ye_pred_logreg = logreg2.predict(Xe_test)"
   ]
  },
  {
   "cell_type": "code",
   "execution_count": 66,
   "metadata": {},
   "outputs": [
    {
     "data": {
      "text/plain": [
       "0.72"
      ]
     },
     "execution_count": 66,
     "metadata": {},
     "output_type": "execute_result"
    }
   ],
   "source": [
    "accuracy_score(matrix(ye_test), ye_pred_logreg)"
   ]
  },
  {
   "cell_type": "code",
   "execution_count": 67,
   "metadata": {},
   "outputs": [],
   "source": [
    "Xe_test.insert(0, 'ones', 1)"
   ]
  },
  {
   "cell_type": "code",
   "execution_count": 68,
   "metadata": {},
   "outputs": [],
   "source": [
    "ye_pred_gd = matrix(Xe_test) * matrix(parametri).T"
   ]
  },
  {
   "cell_type": "code",
   "execution_count": 69,
   "metadata": {},
   "outputs": [],
   "source": [
    "ye_pred_gd[ye_pred_gd < .5] = 0\n",
    "ye_pred_gd[ye_pred_gd >= .5] = 1"
   ]
  },
  {
   "cell_type": "code",
   "execution_count": 70,
   "metadata": {},
   "outputs": [
    {
     "data": {
      "text/plain": [
       "0.84"
      ]
     },
     "execution_count": 70,
     "metadata": {},
     "output_type": "execute_result"
    }
   ],
   "source": [
    "accuracy_score(matrix(ye_test), ye_pred_gd)"
   ]
  },
  {
   "cell_type": "markdown",
   "metadata": {},
   "source": [
    "Regularizirani logistički model daje točnost od 72%, dok neregularizirani 84%. Ovaj primjer pokazuje da regularizirani model nije uvijek nužno bolji i da se lako dođe do *underfittinga*. No, ne treba zanemariti činjenicu da je primjer proveden na relativno malom skupu podataka što može prouzročiti krive zaključke."
   ]
  }
 ],
 "metadata": {
  "kernelspec": {
   "display_name": "Python 3",
   "language": "python",
   "name": "python3"
  },
  "language_info": {
   "codemirror_mode": {
    "name": "ipython",
    "version": 3
   },
   "file_extension": ".py",
   "mimetype": "text/x-python",
   "name": "python",
   "nbconvert_exporter": "python",
   "pygments_lexer": "ipython3",
   "version": "3.6.4"
  }
 },
 "nbformat": 4,
 "nbformat_minor": 2
}
